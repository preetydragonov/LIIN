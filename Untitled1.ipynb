{
 "cells": [
  {
   "cell_type": "code",
   "execution_count": 1,
   "metadata": {
    "collapsed": true
   },
   "outputs": [],
   "source": [
    "from theano.sandbox import cuda\n",
    "\n"
   ]
  },
  {
   "cell_type": "code",
   "execution_count": 161,
   "metadata": {
    "collapsed": false
   },
   "outputs": [],
   "source": [
    "import tensorflow as tf\n",
    "import surprise\n",
    "import pandas as pd\n",
    "import numpy as np\n",
    "from matplotlib import pyplot as plt\n",
    "from sklearn.decomposition import PCA\n",
    "from sklearn.cluster import KMeans\n",
    "import matplotlib.pyplot as plt\n",
    "from sklearn.preprocessing import scale\n",
    "from sklearn.manifold import TSNE\n",
    "%matplotlib inline"
   ]
  },
  {
   "cell_type": "code",
   "execution_count": 7,
   "metadata": {
    "collapsed": true
   },
   "outputs": [],
   "source": [
    "path = \"/Users/choelinbeom/courses/deeplearning1/data/mind_user_answers/workfile.csv\"\n",
    "model_path = \"/Users/choelinbeom/courses/deeplearning1/data/mind_user_answers/model/\""
   ]
  },
  {
   "cell_type": "code",
   "execution_count": 8,
   "metadata": {
    "collapsed": false
   },
   "outputs": [],
   "source": [
    "ratings = pd.read_pickle(model_path + 'ratings.pkl')\n",
    "array_pd = pd.read_pickle(model_path + 'array_pd.pkl')\n",
    "cross = pd.read_pickle(model_path + 'cross.pkl')\n",
    "QbyQ = pd.read_pickle(model_path + 'Questions_by_Questions.pkl')"
   ]
  },
  {
   "cell_type": "code",
   "execution_count": 14,
   "metadata": {
    "collapsed": false
   },
   "outputs": [
    {
     "data": {
      "image/png": "[encoded data removed]",
      "text/plain": [
       "<matplotlib.figure.Figure at 0x140530550>"
      ]
     },
     "metadata": {},
     "output_type": "display_data"
    }
   ],
   "source": [
    "plt.imshow(cross)\n",
    "plt.grid(True)\n",
    "plt.xlabel(\"Users_ID\")\n",
    "plt.ylabel(\"Questions\")\n",
    "plt.title(\"Rate Matrix\")\n",
    "plt.show()"
   ]
  },
  {
   "cell_type": "code",
   "execution_count": 26,
   "metadata": {
    "collapsed": false
   },
   "outputs": [],
   "source": [
    "msk = np.random.rand(len(ratings)) < 0.8\n",
    "tr_and_tst = ratings[msk]\n",
    "val = ratings[~msk]\n",
    "\n",
    "msk = np.random.rand(len(tr_and_tst)) < 0.73\n",
    "trn = tr_and_tst[msk]\n",
    "test = tr_and_tst[~msk]"
   ]
  },
  {
   "cell_type": "code",
   "execution_count": null,
   "metadata": {
    "collapsed": true
   },
   "outputs": [],
   "source": [
    "QbyQ"
   ]
  },
  {
   "cell_type": "code",
   "execution_count": 33,
   "metadata": {
    "collapsed": true
   },
   "outputs": [],
   "source": [
    "X=QbyQ.values"
   ]
  },
  {
   "cell_type": "code",
   "execution_count": 108,
   "metadata": {
    "collapsed": false
   },
   "outputs": [],
   "source": [
    "X = scale(X)"
   ]
  },
  {
   "cell_type": "code",
   "execution_count": 109,
   "metadata": {
    "collapsed": false,
    "scrolled": true
   },
   "outputs": [],
   "source": [
    "pca = PCA(n_components=10)"
   ]
  },
  {
   "cell_type": "code",
   "execution_count": 87,
   "metadata": {
    "collapsed": false
   },
   "outputs": [
    {
     "data": {
      "text/plain": [
       "PCA(copy=True, n_components=10, whiten=False)"
      ]
     },
     "execution_count": 87,
     "metadata": {},
     "output_type": "execute_result"
    }
   ],
   "source": [
    "pca.fit(X)"
   ]
  },
  {
   "cell_type": "code",
   "execution_count": 110,
   "metadata": {
    "collapsed": false
   },
   "outputs": [
    {
     "data": {
      "text/plain": [
       "array([[ 2.33471167, -0.13345621, -0.26143133, ...,  0.33891024,\n",
       "        -0.01028819,  0.02607476],\n",
       "       [-0.79923194,  2.62722742,  0.33394916, ...,  0.17760152,\n",
       "        -1.61926998,  0.29318211],\n",
       "       [-1.66184082, -0.80767227,  2.67039111, ..., -1.01321806,\n",
       "        -1.75353019, -0.89789859],\n",
       "       ..., \n",
       "       [-1.80145642, -1.47337909, -1.39574079, ...,  2.69376843,\n",
       "        -2.03764806, -1.32399839],\n",
       "       [-1.07958544, -1.97996298, -1.52285818, ..., -1.78675254,\n",
       "         2.03297495, -1.95724267],\n",
       "       [-2.35071583, -2.01059627, -1.9208615 , ..., -2.11061561,\n",
       "        -2.40984552,  2.55450922]])"
      ]
     },
     "execution_count": 110,
     "metadata": {},
     "output_type": "execute_result"
    }
   ],
   "source": [
    "X"
   ]
  },
  {
   "cell_type": "code",
   "execution_count": 88,
   "metadata": {
    "collapsed": true
   },
   "outputs": [],
   "source": [
    "var= pca.explained_variance_ratio_"
   ]
  },
  {
   "cell_type": "code",
   "execution_count": 89,
   "metadata": {
    "collapsed": true
   },
   "outputs": [],
   "source": [
    "var1=np.cumsum(np.round(pca.explained_variance_ratio_, decimals=4)*100)"
   ]
  },
  {
   "cell_type": "code",
   "execution_count": 106,
   "metadata": {
    "collapsed": false
   },
   "outputs": [
    {
     "data": {
      "text/plain": [
       "array([ 88.24,  93.03,  93.98,  94.74,  95.18,  95.54,  95.85,  96.09,\n",
       "        96.3 ,  96.5 ])"
      ]
     },
     "execution_count": 106,
     "metadata": {},
     "output_type": "execute_result"
    }
   ],
   "source": [
    "var1"
   ]
  },
  {
   "cell_type": "code",
   "execution_count": 105,
   "metadata": {
    "collapsed": false
   },
   "outputs": [
    {
     "data": {
      "text/plain": [
       "[<matplotlib.lines.Line2D at 0x13be57190>]"
      ]
     },
     "execution_count": 105,
     "metadata": {},
     "output_type": "execute_result"
    },
    {
     "data": {
      "image/png": "[encoded data removed]",
      "text/plain": [
       "<matplotlib.figure.Figure at 0x13bd33490>"
      ]
     },
     "metadata": {},
     "output_type": "display_data"
    }
   ],
   "source": [
    "plt.plot(var1)"
   ]
  },
  {
   "cell_type": "code",
   "execution_count": 157,
   "metadata": {
    "collapsed": false
   },
   "outputs": [
    {
     "data": {
      "text/plain": [
       "array([[ 2.33471167, -0.13345621, -0.26143133, ...,  0.33891024,\n",
       "        -0.01028819,  0.02607476],\n",
       "       [-0.79923194,  2.62722742,  0.33394916, ...,  0.17760152,\n",
       "        -1.61926998,  0.29318211],\n",
       "       [-1.66184082, -0.80767227,  2.67039111, ..., -1.01321806,\n",
       "        -1.75353019, -0.89789859],\n",
       "       ..., \n",
       "       [-1.80145642, -1.47337909, -1.39574079, ...,  2.69376843,\n",
       "        -2.03764806, -1.32399839],\n",
       "       [-1.07958544, -1.97996298, -1.52285818, ..., -1.78675254,\n",
       "         2.03297495, -1.95724267],\n",
       "       [-2.35071583, -2.01059627, -1.9208615 , ..., -2.11061561,\n",
       "        -2.40984552,  2.55450922]])"
      ]
     },
     "execution_count": 157,
     "metadata": {},
     "output_type": "execute_result"
    }
   ],
   "source": [
    "X"
   ]
  },
  {
   "cell_type": "code",
   "execution_count": 136,
   "metadata": {
    "collapsed": false
   },
   "outputs": [],
   "source": [
    "k = KMeans(n_clusters=20).fit(X)\n",
    "labels = k.labels_\n",
    "centroids = k.cluster_centers_"
   ]
  },
  {
   "cell_type": "code",
   "execution_count": 137,
   "metadata": {
    "collapsed": false
   },
   "outputs": [
    {
     "data": {
      "image/png": "[encoded data removed]",
      "text/plain": [
       "<matplotlib.figure.Figure at 0x14f76fe50>"
      ]
     },
     "metadata": {},
     "output_type": "display_data"
    }
   ],
   "source": [
    "for i in range(20):\n",
    "    # select only data observations with cluster label == i\n",
    "    ds = X[np.where(labels==i)]\n",
    "    # plot the data observations\n",
    "    plt.plot(ds[:,0],ds[:,1],'o')\n",
    "    # plot the centroids\n",
    "    lines = plt.plot(centroids[i,0],centroids[i,1],'kx')\n",
    "    # make the centroid x's bigger\n",
    "    plt.setp(lines,ms=15.0)\n",
    "    plt.setp(lines,mew=2.0)\n",
    "plt.show()"
   ]
  },
  {
   "cell_type": "code",
   "execution_count": 160,
   "metadata": {
    "collapsed": false
   },
   "outputs": [
    {
     "data": {
      "text/plain": [
       "array([[ 1.33717284,  1.24610559,  1.16924848, ...,  1.2212814 ,\n",
       "         1.25486206,  1.17774804],\n",
       "       [-0.77162306, -0.35264025, -0.2662033 , ..., -0.71753731,\n",
       "        -0.63785531, -0.6814417 ],\n",
       "       [-1.95970239, -1.87473195, -1.76409693, ..., -2.09691371,\n",
       "        -1.61942289, -2.24570043],\n",
       "       ..., \n",
       "       [-1.55174203, -0.69067012,  1.63172427, ..., -0.82388273,\n",
       "        -1.67921304, -0.77615579],\n",
       "       [-0.82117313,  0.50991384,  0.13413524, ...,  0.08791637,\n",
       "        -1.21358392, -0.04410905],\n",
       "       [-0.17684268, -0.59567855, -0.98311694, ..., -0.70916047,\n",
       "         0.01497353, -0.67185673]])"
      ]
     },
     "execution_count": 160,
     "metadata": {},
     "output_type": "execute_result"
    }
   ],
   "source": []
  },
  {
   "cell_type": "code",
   "execution_count": 150,
   "metadata": {
    "collapsed": false
   },
   "outputs": [
    {
     "data": {
      "text/plain": [
       "array([10, 18, 17, 15, 10, 12, 15, 19,  4, 16,  1,  0,  5,  6,  6,  3, 15,\n",
       "       15, 19,  9, 16,  5, 10,  4,  3,  4,  0, 10,  9, 15,  2,  1, 11,  0,\n",
       "        6, 11,  3,  6,  3, 10,  3, 11, 10, 15,  0, 10,  9,  3,  1,  0,  4,\n",
       "        0,  6,  6,  7,  6, 18, 19, 10, 18, 14,  9,  4,  9, 18, 17, 10,  3,\n",
       "       19,  2,  4,  3, 10, 11, 10, 19, 15,  4, 15,  3, 15,  1,  4,  3,  0,\n",
       "        6, 16,  3,  6,  7,  6, 14,  9,  6, 15, 13,  0, 12,  7,  8], dtype=int32)"
      ]
     },
     "execution_count": 150,
     "metadata": {},
     "output_type": "execute_result"
    }
   ],
   "source": [
    "labels"
   ]
  },
  {
   "cell_type": "code",
   "execution_count": 155,
   "metadata": {
    "collapsed": false
   },
   "outputs": [
    {
     "data": {
      "text/plain": [
       "[(array([10, 31, 48, 81]),),\n",
       " (array([30, 69]),),\n",
       " (array([15, 24, 36, 38, 40, 47, 67, 71, 79, 83, 87]),),\n",
       " (array([ 8, 23, 25, 50, 62, 70, 77, 82]),),\n",
       " (array([12, 21]),),\n",
       " (array([13, 14, 34, 37, 52, 53, 55, 85, 88, 90, 93]),),\n",
       " (array([54, 89, 98]),),\n",
       " (array([99]),),\n",
       " (array([19, 28, 46, 61, 63, 92]),),\n",
       " (array([ 0,  4, 22, 27, 39, 42, 45, 58, 66, 72, 74]),),\n",
       " (array([32, 35, 41, 73]),),\n",
       " (array([ 5, 97]),),\n",
       " (array([95]),),\n",
       " (array([60, 91]),),\n",
       " (array([ 3,  6, 16, 17, 29, 43, 76, 78, 80, 94]),),\n",
       " (array([ 9, 20, 86]),),\n",
       " (array([ 2, 65]),),\n",
       " (array([ 1, 56, 59, 64]),),\n",
       " (array([ 7, 18, 57, 68, 75]),),\n",
       " (array([], dtype=int64),),\n",
       " (array([10, 31, 48, 81]),),\n",
       " (array([30, 69]),),\n",
       " (array([15, 24, 36, 38, 40, 47, 67, 71, 79, 83, 87]),),\n",
       " (array([ 8, 23, 25, 50, 62, 70, 77, 82]),),\n",
       " (array([12, 21]),),\n",
       " (array([13, 14, 34, 37, 52, 53, 55, 85, 88, 90, 93]),),\n",
       " (array([54, 89, 98]),),\n",
       " (array([99]),),\n",
       " (array([19, 28, 46, 61, 63, 92]),),\n",
       " (array([ 0,  4, 22, 27, 39, 42, 45, 58, 66, 72, 74]),),\n",
       " (array([32, 35, 41, 73]),),\n",
       " (array([ 5, 97]),),\n",
       " (array([95]),),\n",
       " (array([60, 91]),),\n",
       " (array([ 3,  6, 16, 17, 29, 43, 76, 78, 80, 94]),),\n",
       " (array([ 9, 20, 86]),),\n",
       " (array([ 2, 65]),),\n",
       " (array([ 1, 56, 59, 64]),),\n",
       " (array([ 7, 18, 57, 68, 75]),),\n",
       " (array([], dtype=int64),)]"
      ]
     },
     "execution_count": 155,
     "metadata": {},
     "output_type": "execute_result"
    }
   ],
   "source": [
    "np.a =[]\n",
    "\n",
    "for i in range(20):\n",
    "    a.append(np.where(labels == i+1))\n",
    "\n",
    "a"
   ]
  },
  {
   "cell_type": "code",
   "execution_count": null,
   "metadata": {
    "collapsed": true
   },
   "outputs": [],
   "source": []
  },
  {
   "cell_type": "code",
   "execution_count": null,
   "metadata": {
    "collapsed": true
   },
   "outputs": [],
   "source": []
  },
  {
   "cell_type": "code",
   "execution_count": null,
   "metadata": {
    "collapsed": true
   },
   "outputs": [],
   "source": []
  },
  {
   "cell_type": "code",
   "execution_count": 75,
   "metadata": {
    "collapsed": true
   },
   "outputs": [],
   "source": [
    "X1=pca.fit_transform(X)"
   ]
  },
  {
   "cell_type": "code",
   "execution_count": 76,
   "metadata": {
    "collapsed": false
   },
   "outputs": [
    {
     "name": "stdout",
     "output_type": "stream",
     "text": [
      "[[  3.03223448e-01  -4.56738246e-01  -1.42511852e+00 ...,  -8.74738124e-02\n",
      "   -2.96476340e-02   1.39513248e-02]\n",
      " [  6.70102105e+00   4.55696838e+00  -1.11176945e+00 ...,   1.41750383e-01\n",
      "    3.28760105e-02  -1.39705086e-01]\n",
      " [  1.48009653e+01   3.70411630e+00   1.41790858e+00 ...,  -2.68869351e-02\n",
      "   -5.12598404e-02   1.90705719e-02]\n",
      " ..., \n",
      " [  1.85960012e+01   2.04075128e+00  -1.19836793e+00 ...,  -1.35344742e-03\n",
      "   -1.65021398e-02  -7.87023645e-03]\n",
      " [  1.09589177e+01  -3.54839509e+00   1.04351454e+00 ...,   1.05858409e-02\n",
      "    5.72223809e-02  -1.80317531e-02]\n",
      " [  2.29542990e+01   1.04914698e+00  -1.08131119e+00 ...,   1.03020373e-02\n",
      "   -5.11595774e-05  -1.56241326e-02]]\n"
     ]
    }
   ],
   "source": [
    "print X1"
   ]
  },
  {
   "cell_type": "code",
   "execution_count": 77,
   "metadata": {
    "collapsed": false
   },
   "outputs": [
    {
     "data": {
      "text/plain": [
       "100"
      ]
     },
     "execution_count": 77,
     "metadata": {},
     "output_type": "execute_result"
    }
   ],
   "source": [
    "len(X1)"
   ]
  },
  {
   "cell_type": "code",
   "execution_count": 78,
   "metadata": {
    "collapsed": true
   },
   "outputs": [],
   "source": [
    "import sys\n",
    "\n",
    "reload(sys)\n",
    "sys.setdefaultencoding('utf8')"
   ]
  },
  {
   "cell_type": "code",
   "execution_count": 79,
   "metadata": {
    "collapsed": false
   },
   "outputs": [
    {
     "ename": "NameError",
     "evalue": "name 'fac0' is not defined",
     "output_type": "error",
     "traceback": [
      "\u001b[0;31m---------------------------------------------------------------------------\u001b[0m",
      "\u001b[0;31mNameError\u001b[0m                                 Traceback (most recent call last)",
      "\u001b[0;32m<ipython-input-79-3944ee0dbc72>\u001b[0m in \u001b[0;36m<module>\u001b[0;34m()\u001b[0m\n\u001b[1;32m      1\u001b[0m \u001b[0mstart\u001b[0m\u001b[0;34m=\u001b[0m\u001b[0;36m50\u001b[0m\u001b[0;34m;\u001b[0m \u001b[0mend\u001b[0m\u001b[0;34m=\u001b[0m\u001b[0;36m100\u001b[0m\u001b[0;34m\u001b[0m\u001b[0m\n\u001b[0;32m----> 2\u001b[0;31m \u001b[0mX\u001b[0m \u001b[0;34m=\u001b[0m \u001b[0mfac0\u001b[0m\u001b[0;34m[\u001b[0m\u001b[0mstart\u001b[0m\u001b[0;34m:\u001b[0m\u001b[0mend\u001b[0m\u001b[0;34m]\u001b[0m\u001b[0;34m\u001b[0m\u001b[0m\n\u001b[0m\u001b[1;32m      3\u001b[0m \u001b[0mY\u001b[0m \u001b[0;34m=\u001b[0m \u001b[0mfac2\u001b[0m\u001b[0;34m[\u001b[0m\u001b[0mstart\u001b[0m\u001b[0;34m:\u001b[0m\u001b[0mend\u001b[0m\u001b[0;34m]\u001b[0m\u001b[0;34m\u001b[0m\u001b[0m\n\u001b[1;32m      4\u001b[0m \u001b[0mplt\u001b[0m\u001b[0;34m.\u001b[0m\u001b[0mfigure\u001b[0m\u001b[0;34m(\u001b[0m\u001b[0mfigsize\u001b[0m\u001b[0;34m=\u001b[0m\u001b[0;34m(\u001b[0m\u001b[0;36m15\u001b[0m\u001b[0;34m,\u001b[0m\u001b[0;36m15\u001b[0m\u001b[0;34m)\u001b[0m\u001b[0;34m)\u001b[0m\u001b[0;34m\u001b[0m\u001b[0m\n\u001b[1;32m      5\u001b[0m \u001b[0mplt\u001b[0m\u001b[0;34m.\u001b[0m\u001b[0mscatter\u001b[0m\u001b[0;34m(\u001b[0m\u001b[0mX\u001b[0m\u001b[0;34m,\u001b[0m \u001b[0mY\u001b[0m\u001b[0;34m)\u001b[0m\u001b[0;34m\u001b[0m\u001b[0m\n",
      "\u001b[0;31mNameError\u001b[0m: name 'fac0' is not defined"
     ]
    }
   ],
   "source": [
    "start=50; end=100\n",
    "X = fac0[start:end]\n",
    "Y = fac2[start:end]\n",
    "plt.figure(figsize=(15,15))\n",
    "plt.scatter(X, Y)\n",
    "a = range(100)\n",
    "for i, x, y in zip(a[start:end], X, Y):\n",
    "    plt.text(x,y,a[i], color=np.random.rand(3)*0.7, fontsize=14)\n",
    "plt.show()"
   ]
  },
  {
   "cell_type": "code",
   "execution_count": null,
   "metadata": {
    "collapsed": true
   },
   "outputs": [],
   "source": []
  },
  {
   "cell_type": "code",
   "execution_count": null,
   "metadata": {
    "collapsed": true
   },
   "outputs": [],
   "source": []
  },
  {
   "cell_type": "code",
   "execution_count": null,
   "metadata": {
    "collapsed": true
   },
   "outputs": [],
   "source": []
  },
  {
   "cell_type": "code",
   "execution_count": null,
   "metadata": {
    "collapsed": true
   },
   "outputs": [],
   "source": []
  },
  {
   "cell_type": "code",
   "execution_count": null,
   "metadata": {
    "collapsed": true
   },
   "outputs": [],
   "source": []
  },
  {
   "cell_type": "code",
   "execution_count": null,
   "metadata": {
    "collapsed": true
   },
   "outputs": [],
   "source": []
  },
  {
   "cell_type": "code",
   "execution_count": null,
   "metadata": {
    "collapsed": true
   },
   "outputs": [],
   "source": []
  },
  {
   "cell_type": "code",
   "execution_count": null,
   "metadata": {
    "collapsed": true
   },
   "outputs": [],
   "source": []
  }
 ],
 "metadata": {
  "anaconda-cloud": {},
  "kernelspec": {
   "display_name": "Python [conda root]",
   "language": "python",
   "name": "conda-root-py"
  },
  "language_info": {
   "codemirror_mode": {
    "name": "ipython",
    "version": 2
   },
   "file_extension": ".py",
   "mimetype": "text/x-python",
   "name": "python",
   "nbconvert_exporter": "python",
   "pygments_lexer": "ipython2",
   "version": "2.7.12"
  }
 },
 "nbformat": 4,
 "nbformat_minor": 1
}
