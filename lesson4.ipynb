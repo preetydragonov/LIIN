{
 "cells": [
  {
   "cell_type": "code",
   "execution_count": 36,
   "metadata": {
    "collapsed": false
   },
   "outputs": [],
   "source": [
    "from theano.sandbox import cuda"
   ]
  },
  {
   "cell_type": "code",
   "execution_count": 39,
   "metadata": {
    "collapsed": false
   },
   "outputs": [
    {
     "ename": "ImportError",
     "evalue": "cannot import name activity_l2",
     "output_type": "error",
     "traceback": [
      "\u001b[0;31m---------------------------------------------------------------------------\u001b[0m",
      "\u001b[0;31mImportError\u001b[0m                               Traceback (most recent call last)",
      "\u001b[0;32m<ipython-input-39-e5c8bac8f4ac>\u001b[0m in \u001b[0;36m<module>\u001b[0;34m()\u001b[0m\n\u001b[1;32m      1\u001b[0m \u001b[0mget_ipython\u001b[0m\u001b[0;34m(\u001b[0m\u001b[0;34m)\u001b[0m\u001b[0;34m.\u001b[0m\u001b[0mmagic\u001b[0m\u001b[0;34m(\u001b[0m\u001b[0;34mu'matplotlib inline'\u001b[0m\u001b[0;34m)\u001b[0m\u001b[0;34m\u001b[0m\u001b[0m\n\u001b[0;32m----> 2\u001b[0;31m \u001b[0;32mimport\u001b[0m \u001b[0mutils\u001b[0m\u001b[0;34m;\u001b[0m \u001b[0mreload\u001b[0m\u001b[0;34m(\u001b[0m\u001b[0mutils\u001b[0m\u001b[0;34m)\u001b[0m\u001b[0;34m\u001b[0m\u001b[0m\n\u001b[0m\u001b[1;32m      3\u001b[0m \u001b[0;32mfrom\u001b[0m \u001b[0m__future__\u001b[0m \u001b[0;32mimport\u001b[0m \u001b[0mdivision\u001b[0m\u001b[0;34m,\u001b[0m \u001b[0mprint_function\u001b[0m\u001b[0;34m\u001b[0m\u001b[0m\n",
      "\u001b[0;32m/Users/choelinbeom/courses/deeplearning1/nbs/utils.py\u001b[0m in \u001b[0;36m<module>\u001b[0;34m()\u001b[0m\n\u001b[1;32m     40\u001b[0m \u001b[0;32mfrom\u001b[0m \u001b[0mkeras\u001b[0m\u001b[0;34m.\u001b[0m\u001b[0mlayers\u001b[0m \u001b[0;32mimport\u001b[0m \u001b[0mTimeDistributed\u001b[0m\u001b[0;34m,\u001b[0m \u001b[0mActivation\u001b[0m\u001b[0;34m,\u001b[0m \u001b[0mSimpleRNN\u001b[0m\u001b[0;34m,\u001b[0m \u001b[0mGRU\u001b[0m\u001b[0;34m\u001b[0m\u001b[0m\n\u001b[1;32m     41\u001b[0m \u001b[0;32mfrom\u001b[0m \u001b[0mkeras\u001b[0m\u001b[0;34m.\u001b[0m\u001b[0mlayers\u001b[0m\u001b[0;34m.\u001b[0m\u001b[0mcore\u001b[0m \u001b[0;32mimport\u001b[0m \u001b[0mFlatten\u001b[0m\u001b[0;34m,\u001b[0m \u001b[0mDense\u001b[0m\u001b[0;34m,\u001b[0m \u001b[0mDropout\u001b[0m\u001b[0;34m,\u001b[0m \u001b[0mLambda\u001b[0m\u001b[0;34m\u001b[0m\u001b[0m\n\u001b[0;32m---> 42\u001b[0;31m \u001b[0;32mfrom\u001b[0m \u001b[0mkeras\u001b[0m\u001b[0;34m.\u001b[0m\u001b[0mregularizers\u001b[0m \u001b[0;32mimport\u001b[0m \u001b[0ml2\u001b[0m\u001b[0;34m,\u001b[0m \u001b[0mactivity_l2\u001b[0m\u001b[0;34m,\u001b[0m \u001b[0ml1\u001b[0m\u001b[0;34m,\u001b[0m \u001b[0mactivity_l1\u001b[0m\u001b[0;34m\u001b[0m\u001b[0m\n\u001b[0m\u001b[1;32m     43\u001b[0m \u001b[0;32mfrom\u001b[0m \u001b[0mkeras\u001b[0m\u001b[0;34m.\u001b[0m\u001b[0mlayers\u001b[0m\u001b[0;34m.\u001b[0m\u001b[0mnormalization\u001b[0m \u001b[0;32mimport\u001b[0m \u001b[0mBatchNormalization\u001b[0m\u001b[0;34m\u001b[0m\u001b[0m\n\u001b[1;32m     44\u001b[0m \u001b[0;32mfrom\u001b[0m \u001b[0mkeras\u001b[0m\u001b[0;34m.\u001b[0m\u001b[0moptimizers\u001b[0m \u001b[0;32mimport\u001b[0m \u001b[0mSGD\u001b[0m\u001b[0;34m,\u001b[0m \u001b[0mRMSprop\u001b[0m\u001b[0;34m,\u001b[0m \u001b[0mAdam\u001b[0m\u001b[0;34m\u001b[0m\u001b[0m\n",
      "\u001b[0;31mImportError\u001b[0m: cannot import name activity_l2"
     ]
    }
   ],
   "source": [
    "%matplotlib inline\n",
    "import utils; reload(utils)\n",
    "from __future__ import division, print_function"
   ]
  },
  {
   "cell_type": "code",
   "execution_count": null,
   "metadata": {
    "collapsed": false
   },
   "outputs": [],
   "source": [
    "#path = \"data/ml-20m/\"\n",
    "path = \"../data/ml-latest-small/\"\n",
    "model_path = path + 'models/'\n",
    "print (os.path.exists(path))\n",
    "if not os.path.exists(model_path): \n",
    "    os.mkdir(model_path)\n",
    "batch_size=64"
   ]
  },
  {
   "cell_type": "markdown",
   "metadata": {
    "heading_collapsed": true
   },
   "source": [
    "## Set up data"
   ]
  },
  {
   "cell_type": "markdown",
   "metadata": {
    "hidden": true
   },
   "source": [
    "We're working with the movielens data, which contains one rating per row, like this:"
   ]
  },
  {
   "cell_type": "code",
   "execution_count": 3,
   "metadata": {
    "collapsed": false,
    "hidden": true,
    "scrolled": true
   },
   "outputs": [
    {
     "ename": "NameError",
     "evalue": "name 'pd' is not defined",
     "output_type": "error",
     "traceback": [
      "\u001b[0;31m---------------------------------------------------------------------------\u001b[0m",
      "\u001b[0;31mNameError\u001b[0m                                 Traceback (most recent call last)",
      "\u001b[0;32m<ipython-input-3-f4707efc4009>\u001b[0m in \u001b[0;36m<module>\u001b[0;34m()\u001b[0m\n\u001b[0;32m----> 1\u001b[0;31m \u001b[0mratings\u001b[0m \u001b[0;34m=\u001b[0m \u001b[0mpd\u001b[0m\u001b[0;34m.\u001b[0m\u001b[0mread_csv\u001b[0m\u001b[0;34m(\u001b[0m\u001b[0mpath\u001b[0m\u001b[0;34m+\u001b[0m\u001b[0;34m'ratings.csv'\u001b[0m\u001b[0;34m)\u001b[0m\u001b[0;34m\u001b[0m\u001b[0m\n\u001b[0m\u001b[1;32m      2\u001b[0m \u001b[0mratings\u001b[0m\u001b[0;34m.\u001b[0m\u001b[0mhead\u001b[0m\u001b[0;34m(\u001b[0m\u001b[0;34m)\u001b[0m\u001b[0;34m\u001b[0m\u001b[0m\n",
      "\u001b[0;31mNameError\u001b[0m: name 'pd' is not defined"
     ]
    }
   ],
   "source": [
    "ratings = pd.read_csv(path+'ratings.csv')\n",
    "ratings.head()"
   ]
  },
  {
   "cell_type": "code",
   "execution_count": 4,
   "metadata": {
    "collapsed": false
   },
   "outputs": [
    {
     "ename": "NameError",
     "evalue": "name 'ratings' is not defined",
     "output_type": "error",
     "traceback": [
      "\u001b[0;31m---------------------------------------------------------------------------\u001b[0m",
      "\u001b[0;31mNameError\u001b[0m                                 Traceback (most recent call last)",
      "\u001b[0;32m<ipython-input-4-3c399c9d2cd7>\u001b[0m in \u001b[0;36m<module>\u001b[0;34m()\u001b[0m\n\u001b[0;32m----> 1\u001b[0;31m \u001b[0mratings\u001b[0m\u001b[0;34m\u001b[0m\u001b[0m\n\u001b[0m",
      "\u001b[0;31mNameError\u001b[0m: name 'ratings' is not defined"
     ]
    }
   ],
   "source": [
    "ratings"
   ]
  },
  {
   "cell_type": "code",
   "execution_count": 5,
   "metadata": {
    "collapsed": false
   },
   "outputs": [
    {
     "ename": "NameError",
     "evalue": "name 'ratings' is not defined",
     "output_type": "error",
     "traceback": [
      "\u001b[0;31m---------------------------------------------------------------------------\u001b[0m",
      "\u001b[0;31mNameError\u001b[0m                                 Traceback (most recent call last)",
      "\u001b[0;32m<ipython-input-5-1f720e947819>\u001b[0m in \u001b[0;36m<module>\u001b[0;34m()\u001b[0m\n\u001b[0;32m----> 1\u001b[0;31m \u001b[0mlist\u001b[0m\u001b[0;34m(\u001b[0m\u001b[0mratings\u001b[0m\u001b[0;34m)\u001b[0m\u001b[0;34m\u001b[0m\u001b[0m\n\u001b[0m",
      "\u001b[0;31mNameError\u001b[0m: name 'ratings' is not defined"
     ]
    }
   ],
   "source": [
    "list(ratings)"
   ]
  },
  {
   "cell_type": "code",
   "execution_count": 6,
   "metadata": {
    "collapsed": false,
    "hidden": true
   },
   "outputs": [
    {
     "ename": "NameError",
     "evalue": "name 'ratings' is not defined",
     "output_type": "error",
     "traceback": [
      "\u001b[0;31m---------------------------------------------------------------------------\u001b[0m",
      "\u001b[0;31mNameError\u001b[0m                                 Traceback (most recent call last)",
      "\u001b[0;32m<ipython-input-6-526789c4f5a3>\u001b[0m in \u001b[0;36m<module>\u001b[0;34m()\u001b[0m\n\u001b[0;32m----> 1\u001b[0;31m \u001b[0mlen\u001b[0m\u001b[0;34m(\u001b[0m\u001b[0mratings\u001b[0m\u001b[0;34m)\u001b[0m\u001b[0;34m\u001b[0m\u001b[0m\n\u001b[0m",
      "\u001b[0;31mNameError\u001b[0m: name 'ratings' is not defined"
     ]
    }
   ],
   "source": [
    "len(ratings)"
   ]
  },
  {
   "cell_type": "markdown",
   "metadata": {},
   "source": [
    "### code_trouble_shooting(1) - What is pd.DataFrame?"
   ]
  },
  {
   "cell_type": "code",
   "execution_count": 7,
   "metadata": {
    "collapsed": false
   },
   "outputs": [
    {
     "ename": "NameError",
     "evalue": "name 'pd' is not defined",
     "output_type": "error",
     "traceback": [
      "\u001b[0;31m---------------------------------------------------------------------------\u001b[0m",
      "\u001b[0;31mNameError\u001b[0m                                 Traceback (most recent call last)",
      "\u001b[0;32m<ipython-input-7-a95590cae6b5>\u001b[0m in \u001b[0;36m<module>\u001b[0;34m()\u001b[0m\n\u001b[1;32m      1\u001b[0m \u001b[0mex_col\u001b[0m \u001b[0;34m=\u001b[0m \u001b[0;34m[\u001b[0m\u001b[0;34m'a'\u001b[0m\u001b[0;34m,\u001b[0m\u001b[0;34m'b'\u001b[0m\u001b[0;34m,\u001b[0m\u001b[0;34m'c'\u001b[0m\u001b[0;34m]\u001b[0m\u001b[0;34m\u001b[0m\u001b[0m\n\u001b[0;32m----> 2\u001b[0;31m \u001b[0mex_data\u001b[0m \u001b[0;34m=\u001b[0m \u001b[0mpd\u001b[0m\u001b[0;34m.\u001b[0m\u001b[0mDataFrame\u001b[0m\u001b[0;34m(\u001b[0m\u001b[0;34m[\u001b[0m\u001b[0;34m[\u001b[0m\u001b[0;36m1\u001b[0m\u001b[0;34m,\u001b[0m\u001b[0;36m2\u001b[0m\u001b[0;34m,\u001b[0m\u001b[0;36m3\u001b[0m\u001b[0;34m]\u001b[0m\u001b[0;34m,\u001b[0m\u001b[0;34m[\u001b[0m\u001b[0;36m10\u001b[0m\u001b[0;34m,\u001b[0m\u001b[0;36m11\u001b[0m\u001b[0;34m,\u001b[0m\u001b[0;36m12\u001b[0m\u001b[0;34m]\u001b[0m\u001b[0;34m,\u001b[0m\u001b[0;34m[\u001b[0m\u001b[0;36m20\u001b[0m\u001b[0;34m,\u001b[0m\u001b[0;36m21\u001b[0m\u001b[0;34m,\u001b[0m\u001b[0;36m22\u001b[0m\u001b[0;34m]\u001b[0m\u001b[0;34m,\u001b[0m\u001b[0;34m[\u001b[0m\u001b[0;36m20\u001b[0m\u001b[0;34m,\u001b[0m\u001b[0;36m21\u001b[0m\u001b[0;34m,\u001b[0m\u001b[0;36m22\u001b[0m\u001b[0;34m]\u001b[0m\u001b[0;34m,\u001b[0m\u001b[0;34m[\u001b[0m\u001b[0;36m20\u001b[0m\u001b[0;34m,\u001b[0m\u001b[0;36m21\u001b[0m\u001b[0;34m,\u001b[0m\u001b[0;36m22\u001b[0m\u001b[0;34m]\u001b[0m\u001b[0;34m,\u001b[0m\u001b[0;34m[\u001b[0m\u001b[0;36m20\u001b[0m\u001b[0;34m,\u001b[0m\u001b[0;36m21\u001b[0m\u001b[0;34m,\u001b[0m\u001b[0;36m22\u001b[0m\u001b[0;34m]\u001b[0m\u001b[0;34m]\u001b[0m \u001b[0;34m,\u001b[0m \u001b[0mcolumns\u001b[0m \u001b[0;34m=\u001b[0m \u001b[0mex_col\u001b[0m\u001b[0;34m)\u001b[0m\u001b[0;34m\u001b[0m\u001b[0m\n\u001b[0m\u001b[1;32m      3\u001b[0m \u001b[0mex_data\u001b[0m\u001b[0;34m\u001b[0m\u001b[0m\n",
      "\u001b[0;31mNameError\u001b[0m: name 'pd' is not defined"
     ]
    }
   ],
   "source": [
    "ex_col = ['a','b','c']\n",
    "ex_data = pd.DataFrame([[1,2,3],[10,11,12],[20,21,22],[20,21,22],[20,21,22],[20,21,22]] , columns = ex_col)\n",
    "ex_data"
   ]
  },
  {
   "cell_type": "code",
   "execution_count": 8,
   "metadata": {
    "collapsed": false
   },
   "outputs": [
    {
     "ename": "NameError",
     "evalue": "name 'ex_data' is not defined",
     "output_type": "error",
     "traceback": [
      "\u001b[0;31m---------------------------------------------------------------------------\u001b[0m",
      "\u001b[0;31mNameError\u001b[0m                                 Traceback (most recent call last)",
      "\u001b[0;32m<ipython-input-8-a9abebc1feb5>\u001b[0m in \u001b[0;36m<module>\u001b[0;34m()\u001b[0m\n\u001b[0;32m----> 1\u001b[0;31m \u001b[0mex_data2\u001b[0m \u001b[0;34m=\u001b[0m \u001b[0mex_data\u001b[0m\u001b[0;34m.\u001b[0m\u001b[0mset_index\u001b[0m\u001b[0;34m(\u001b[0m\u001b[0;34m'a'\u001b[0m\u001b[0;34m)\u001b[0m\u001b[0;34m\u001b[0m\u001b[0m\n\u001b[0m\u001b[1;32m      2\u001b[0m \u001b[0mex_data2\u001b[0m\u001b[0;34m\u001b[0m\u001b[0m\n",
      "\u001b[0;31mNameError\u001b[0m: name 'ex_data' is not defined"
     ]
    }
   ],
   "source": [
    "ex_data2 = ex_data.set_index('a')\n",
    "ex_data2"
   ]
  },
  {
   "cell_type": "markdown",
   "metadata": {},
   "source": [
    "### code_trouble_shooting(2) - What is pd.DataFrame['column_name']?"
   ]
  },
  {
   "cell_type": "code",
   "execution_count": 9,
   "metadata": {
    "collapsed": false
   },
   "outputs": [
    {
     "ename": "NameError",
     "evalue": "name 'ex_data2' is not defined",
     "output_type": "error",
     "traceback": [
      "\u001b[0;31m---------------------------------------------------------------------------\u001b[0m",
      "\u001b[0;31mNameError\u001b[0m                                 Traceback (most recent call last)",
      "\u001b[0;32m<ipython-input-9-cb97756c4bc8>\u001b[0m in \u001b[0;36m<module>\u001b[0;34m()\u001b[0m\n\u001b[0;32m----> 1\u001b[0;31m \u001b[0mex_data2\u001b[0m\u001b[0;34m[\u001b[0m\u001b[0;34m'a'\u001b[0m\u001b[0;34m]\u001b[0m\u001b[0;34m\u001b[0m\u001b[0m\n\u001b[0m",
      "\u001b[0;31mNameError\u001b[0m: name 'ex_data2' is not defined"
     ]
    }
   ],
   "source": [
    "ex_data2['a']"
   ]
  },
  {
   "cell_type": "code",
   "execution_count": 10,
   "metadata": {
    "collapsed": false
   },
   "outputs": [
    {
     "ename": "NameError",
     "evalue": "name 'ex_data2' is not defined",
     "output_type": "error",
     "traceback": [
      "\u001b[0;31m---------------------------------------------------------------------------\u001b[0m",
      "\u001b[0;31mNameError\u001b[0m                                 Traceback (most recent call last)",
      "\u001b[0;32m<ipython-input-10-4f63974ed082>\u001b[0m in \u001b[0;36m<module>\u001b[0;34m()\u001b[0m\n\u001b[0;32m----> 1\u001b[0;31m \u001b[0mex_data2\u001b[0m\u001b[0;34m[\u001b[0m\u001b[0;34m'b'\u001b[0m\u001b[0;34m]\u001b[0m\u001b[0;34m\u001b[0m\u001b[0m\n\u001b[0m",
      "\u001b[0;31mNameError\u001b[0m: name 'ex_data2' is not defined"
     ]
    }
   ],
   "source": [
    "ex_data2['b']"
   ]
  },
  {
   "cell_type": "markdown",
   "metadata": {},
   "source": [
    "### code_trouble_shooting(3) - What is to_dict()?"
   ]
  },
  {
   "cell_type": "code",
   "execution_count": 11,
   "metadata": {
    "collapsed": false
   },
   "outputs": [
    {
     "ename": "NameError",
     "evalue": "name 'ex_data2' is not defined",
     "output_type": "error",
     "traceback": [
      "\u001b[0;31m---------------------------------------------------------------------------\u001b[0m",
      "\u001b[0;31mNameError\u001b[0m                                 Traceback (most recent call last)",
      "\u001b[0;32m<ipython-input-11-9946bcd15b0e>\u001b[0m in \u001b[0;36m<module>\u001b[0;34m()\u001b[0m\n\u001b[0;32m----> 1\u001b[0;31m \u001b[0mex_data2\u001b[0m\u001b[0;34m[\u001b[0m\u001b[0;34m'b'\u001b[0m\u001b[0;34m]\u001b[0m\u001b[0;34m.\u001b[0m\u001b[0mto_dict\u001b[0m\u001b[0;34m(\u001b[0m\u001b[0;34m)\u001b[0m\u001b[0;34m\u001b[0m\u001b[0m\n\u001b[0m",
      "\u001b[0;31mNameError\u001b[0m: name 'ex_data2' is not defined"
     ]
    }
   ],
   "source": [
    "ex_data2['b'].to_dict()"
   ]
  },
  {
   "cell_type": "code",
   "execution_count": 12,
   "metadata": {
    "collapsed": false
   },
   "outputs": [
    {
     "ename": "NameError",
     "evalue": "name 'ex_data' is not defined",
     "output_type": "error",
     "traceback": [
      "\u001b[0;31m---------------------------------------------------------------------------\u001b[0m",
      "\u001b[0;31mNameError\u001b[0m                                 Traceback (most recent call last)",
      "\u001b[0;32m<ipython-input-12-00170d104d00>\u001b[0m in \u001b[0;36m<module>\u001b[0;34m()\u001b[0m\n\u001b[0;32m----> 1\u001b[0;31m \u001b[0mex_data\u001b[0m\u001b[0;34m.\u001b[0m\u001b[0ma\u001b[0m\u001b[0;34m\u001b[0m\u001b[0m\n\u001b[0m",
      "\u001b[0;31mNameError\u001b[0m: name 'ex_data' is not defined"
     ]
    }
   ],
   "source": [
    "ex_data.a"
   ]
  },
  {
   "cell_type": "markdown",
   "metadata": {},
   "source": [
    "### code_trouble_shooting(4) - What is unique()?"
   ]
  },
  {
   "cell_type": "code",
   "execution_count": 13,
   "metadata": {
    "collapsed": false
   },
   "outputs": [
    {
     "ename": "NameError",
     "evalue": "name 'ex_data' is not defined",
     "output_type": "error",
     "traceback": [
      "\u001b[0;31m---------------------------------------------------------------------------\u001b[0m",
      "\u001b[0;31mNameError\u001b[0m                                 Traceback (most recent call last)",
      "\u001b[0;32m<ipython-input-13-9425ef8fa3a5>\u001b[0m in \u001b[0;36m<module>\u001b[0;34m()\u001b[0m\n\u001b[0;32m----> 1\u001b[0;31m \u001b[0mex_data\u001b[0m\u001b[0;34m.\u001b[0m\u001b[0ma\u001b[0m\u001b[0;34m.\u001b[0m\u001b[0munique\u001b[0m\u001b[0;34m(\u001b[0m\u001b[0;34m)\u001b[0m\u001b[0;34m\u001b[0m\u001b[0m\n\u001b[0m",
      "\u001b[0;31mNameError\u001b[0m: name 'ex_data' is not defined"
     ]
    }
   ],
   "source": [
    "ex_data.a.unique()"
   ]
  },
  {
   "cell_type": "markdown",
   "metadata": {},
   "source": [
    "### code_trouble_shooting(5) - What is enumerate()?"
   ]
  },
  {
   "cell_type": "code",
   "execution_count": 14,
   "metadata": {
    "collapsed": false,
    "scrolled": true
   },
   "outputs": [
    {
     "ename": "NameError",
     "evalue": "name 'ex_data' is not defined",
     "output_type": "error",
     "traceback": [
      "\u001b[0;31m---------------------------------------------------------------------------\u001b[0m",
      "\u001b[0;31mNameError\u001b[0m                                 Traceback (most recent call last)",
      "\u001b[0;32m<ipython-input-14-8584f4d81e86>\u001b[0m in \u001b[0;36m<module>\u001b[0;34m()\u001b[0m\n\u001b[0;32m----> 1\u001b[0;31m \u001b[0mt\u001b[0m \u001b[0;34m=\u001b[0m \u001b[0;34m{\u001b[0m\u001b[0mo\u001b[0m\u001b[0;34m:\u001b[0m\u001b[0mi\u001b[0m \u001b[0;32mfor\u001b[0m \u001b[0mi\u001b[0m\u001b[0;34m,\u001b[0m\u001b[0mo\u001b[0m \u001b[0;32min\u001b[0m \u001b[0menumerate\u001b[0m\u001b[0;34m(\u001b[0m\u001b[0mex_data\u001b[0m\u001b[0;34m.\u001b[0m\u001b[0ma\u001b[0m\u001b[0;34m.\u001b[0m\u001b[0munique\u001b[0m\u001b[0;34m(\u001b[0m\u001b[0;34m)\u001b[0m\u001b[0;34m)\u001b[0m\u001b[0;34m}\u001b[0m\u001b[0;34m\u001b[0m\u001b[0m\n\u001b[0m\u001b[1;32m      2\u001b[0m \u001b[0;34m{\u001b[0m\u001b[0mo\u001b[0m\u001b[0;34m:\u001b[0m\u001b[0mi\u001b[0m \u001b[0;32mfor\u001b[0m \u001b[0mi\u001b[0m\u001b[0;34m,\u001b[0m\u001b[0mo\u001b[0m \u001b[0;32min\u001b[0m \u001b[0menumerate\u001b[0m\u001b[0;34m(\u001b[0m\u001b[0mex_data\u001b[0m\u001b[0;34m.\u001b[0m\u001b[0ma\u001b[0m\u001b[0;34m.\u001b[0m\u001b[0munique\u001b[0m\u001b[0;34m(\u001b[0m\u001b[0;34m)\u001b[0m\u001b[0;34m)\u001b[0m\u001b[0;34m}\u001b[0m\u001b[0;34m\u001b[0m\u001b[0m\n",
      "\u001b[0;31mNameError\u001b[0m: name 'ex_data' is not defined"
     ]
    }
   ],
   "source": [
    "t = {o:i for i,o in enumerate(ex_data.a.unique())}\n",
    "{o:i for i,o in enumerate(ex_data.a.unique())}"
   ]
  },
  {
   "cell_type": "code",
   "execution_count": 15,
   "metadata": {
    "collapsed": false
   },
   "outputs": [
    {
     "ename": "NameError",
     "evalue": "name 'ex_data' is not defined",
     "output_type": "error",
     "traceback": [
      "\u001b[0;31m---------------------------------------------------------------------------\u001b[0m",
      "\u001b[0;31mNameError\u001b[0m                                 Traceback (most recent call last)",
      "\u001b[0;32m<ipython-input-15-00170d104d00>\u001b[0m in \u001b[0;36m<module>\u001b[0;34m()\u001b[0m\n\u001b[0;32m----> 1\u001b[0;31m \u001b[0mex_data\u001b[0m\u001b[0;34m.\u001b[0m\u001b[0ma\u001b[0m\u001b[0;34m\u001b[0m\u001b[0m\n\u001b[0m",
      "\u001b[0;31mNameError\u001b[0m: name 'ex_data' is not defined"
     ]
    }
   ],
   "source": [
    "ex_data.a"
   ]
  },
  {
   "cell_type": "markdown",
   "metadata": {},
   "source": [
    "### code_trouble_shooting(6) - What is apply(lambda )?"
   ]
  },
  {
   "cell_type": "code",
   "execution_count": 16,
   "metadata": {
    "collapsed": false
   },
   "outputs": [
    {
     "ename": "NameError",
     "evalue": "name 'ex_data' is not defined",
     "output_type": "error",
     "traceback": [
      "\u001b[0;31m---------------------------------------------------------------------------\u001b[0m",
      "\u001b[0;31mNameError\u001b[0m                                 Traceback (most recent call last)",
      "\u001b[0;32m<ipython-input-16-24accad8534f>\u001b[0m in \u001b[0;36m<module>\u001b[0;34m()\u001b[0m\n\u001b[0;32m----> 1\u001b[0;31m \u001b[0mex_data\u001b[0m\u001b[0;34m.\u001b[0m\u001b[0ma\u001b[0m\u001b[0;34m.\u001b[0m\u001b[0mapply\u001b[0m\u001b[0;34m(\u001b[0m\u001b[0;32mlambda\u001b[0m \u001b[0mx\u001b[0m\u001b[0;34m:\u001b[0m \u001b[0mt\u001b[0m\u001b[0;34m[\u001b[0m\u001b[0mx\u001b[0m\u001b[0;34m]\u001b[0m\u001b[0;34m)\u001b[0m\u001b[0;34m\u001b[0m\u001b[0m\n\u001b[0m",
      "\u001b[0;31mNameError\u001b[0m: name 'ex_data' is not defined"
     ]
    }
   ],
   "source": [
    "ex_data.a.apply(lambda x: t[x])"
   ]
  },
  {
   "cell_type": "code",
   "execution_count": 17,
   "metadata": {
    "collapsed": false
   },
   "outputs": [
    {
     "ename": "NameError",
     "evalue": "name 'ex_data' is not defined",
     "output_type": "error",
     "traceback": [
      "\u001b[0;31m---------------------------------------------------------------------------\u001b[0m",
      "\u001b[0;31mNameError\u001b[0m                                 Traceback (most recent call last)",
      "\u001b[0;32m<ipython-input-17-00170d104d00>\u001b[0m in \u001b[0;36m<module>\u001b[0;34m()\u001b[0m\n\u001b[0;32m----> 1\u001b[0;31m \u001b[0mex_data\u001b[0m\u001b[0;34m.\u001b[0m\u001b[0ma\u001b[0m\u001b[0;34m\u001b[0m\u001b[0m\n\u001b[0m",
      "\u001b[0;31mNameError\u001b[0m: name 'ex_data' is not defined"
     ]
    }
   ],
   "source": [
    "ex_data.a"
   ]
  },
  {
   "cell_type": "markdown",
   "metadata": {
    "hidden": true
   },
   "source": [
    "Just for display purposes, let's read in the movie names too. 아래 코드는 movieId를 키값으로, 그리고 해당 키의 value로 title 설정해서, dictionary로 저장한다."
   ]
  },
  {
   "cell_type": "code",
   "execution_count": 18,
   "metadata": {
    "collapsed": false,
    "hidden": true
   },
   "outputs": [
    {
     "ename": "NameError",
     "evalue": "name 'pd' is not defined",
     "output_type": "error",
     "traceback": [
      "\u001b[0;31m---------------------------------------------------------------------------\u001b[0m",
      "\u001b[0;31mNameError\u001b[0m                                 Traceback (most recent call last)",
      "\u001b[0;32m<ipython-input-18-b6928be26333>\u001b[0m in \u001b[0;36m<module>\u001b[0;34m()\u001b[0m\n\u001b[0;32m----> 1\u001b[0;31m \u001b[0mmovie_names\u001b[0m \u001b[0;34m=\u001b[0m \u001b[0mpd\u001b[0m\u001b[0;34m.\u001b[0m\u001b[0mread_csv\u001b[0m\u001b[0;34m(\u001b[0m\u001b[0mpath\u001b[0m\u001b[0;34m+\u001b[0m\u001b[0;34m'movies.csv'\u001b[0m\u001b[0;34m)\u001b[0m\u001b[0;34m.\u001b[0m\u001b[0mset_index\u001b[0m\u001b[0;34m(\u001b[0m\u001b[0;34m'movieId'\u001b[0m\u001b[0;34m)\u001b[0m\u001b[0;34m[\u001b[0m\u001b[0;34m'title'\u001b[0m\u001b[0;34m]\u001b[0m\u001b[0;34m.\u001b[0m\u001b[0mto_dict\u001b[0m\u001b[0;34m(\u001b[0m\u001b[0;34m)\u001b[0m\u001b[0;34m\u001b[0m\u001b[0m\n\u001b[0m\u001b[1;32m      2\u001b[0m \u001b[0mlen\u001b[0m\u001b[0;34m(\u001b[0m\u001b[0mmovie_names\u001b[0m\u001b[0;34m)\u001b[0m\u001b[0;34m\u001b[0m\u001b[0m\n",
      "\u001b[0;31mNameError\u001b[0m: name 'pd' is not defined"
     ]
    }
   ],
   "source": [
    "movie_names = pd.read_csv(path+'movies.csv').set_index('movieId')['title'].to_dict()\n",
    "len(movie_names)"
   ]
  },
  {
   "cell_type": "code",
   "execution_count": 19,
   "metadata": {
    "collapsed": false
   },
   "outputs": [
    {
     "ename": "NameError",
     "evalue": "name 'pd' is not defined",
     "output_type": "error",
     "traceback": [
      "\u001b[0;31m---------------------------------------------------------------------------\u001b[0m",
      "\u001b[0;31mNameError\u001b[0m                                 Traceback (most recent call last)",
      "\u001b[0;32m<ipython-input-19-f8b56f1a4e0c>\u001b[0m in \u001b[0;36m<module>\u001b[0;34m()\u001b[0m\n\u001b[0;32m----> 1\u001b[0;31m \u001b[0mfor_list_movies\u001b[0m \u001b[0;34m=\u001b[0m \u001b[0mpd\u001b[0m\u001b[0;34m.\u001b[0m\u001b[0mread_csv\u001b[0m\u001b[0;34m(\u001b[0m\u001b[0mpath\u001b[0m\u001b[0;34m+\u001b[0m\u001b[0;34m'movies.csv'\u001b[0m\u001b[0;34m)\u001b[0m\u001b[0;34m\u001b[0m\u001b[0m\n\u001b[0m\u001b[1;32m      2\u001b[0m \u001b[0mfor_list_movies\u001b[0m\u001b[0;34m.\u001b[0m\u001b[0mhead\u001b[0m\u001b[0;34m(\u001b[0m\u001b[0;34m)\u001b[0m\u001b[0;34m\u001b[0m\u001b[0m\n",
      "\u001b[0;31mNameError\u001b[0m: name 'pd' is not defined"
     ]
    }
   ],
   "source": [
    "for_list_movies = pd.read_csv(path+'movies.csv')\n",
    "for_list_movies.head()"
   ]
  },
  {
   "cell_type": "code",
   "execution_count": 20,
   "metadata": {
    "collapsed": false
   },
   "outputs": [
    {
     "ename": "NameError",
     "evalue": "name 'for_list_movies' is not defined",
     "output_type": "error",
     "traceback": [
      "\u001b[0;31m---------------------------------------------------------------------------\u001b[0m",
      "\u001b[0;31mNameError\u001b[0m                                 Traceback (most recent call last)",
      "\u001b[0;32m<ipython-input-20-5d4c3291e72e>\u001b[0m in \u001b[0;36m<module>\u001b[0;34m()\u001b[0m\n\u001b[0;32m----> 1\u001b[0;31m \u001b[0mlist\u001b[0m\u001b[0;34m(\u001b[0m\u001b[0mfor_list_movies\u001b[0m\u001b[0;34m)\u001b[0m\u001b[0;34m\u001b[0m\u001b[0m\n\u001b[0m",
      "\u001b[0;31mNameError\u001b[0m: name 'for_list_movies' is not defined"
     ]
    }
   ],
   "source": [
    "list(for_list_movies)"
   ]
  },
  {
   "cell_type": "markdown",
   "metadata": {},
   "source": [
    "아래 코드는 userId, movieId의 unique한 값들을 array type으로 저장한다."
   ]
  },
  {
   "cell_type": "code",
   "execution_count": 21,
   "metadata": {
    "collapsed": false,
    "hidden": true
   },
   "outputs": [
    {
     "ename": "NameError",
     "evalue": "name 'ratings' is not defined",
     "output_type": "error",
     "traceback": [
      "\u001b[0;31m---------------------------------------------------------------------------\u001b[0m",
      "\u001b[0;31mNameError\u001b[0m                                 Traceback (most recent call last)",
      "\u001b[0;32m<ipython-input-21-604ecdbf8ecf>\u001b[0m in \u001b[0;36m<module>\u001b[0;34m()\u001b[0m\n\u001b[0;32m----> 1\u001b[0;31m \u001b[0musers\u001b[0m \u001b[0;34m=\u001b[0m \u001b[0mratings\u001b[0m\u001b[0;34m.\u001b[0m\u001b[0muserId\u001b[0m\u001b[0;34m.\u001b[0m\u001b[0munique\u001b[0m\u001b[0;34m(\u001b[0m\u001b[0;34m)\u001b[0m\u001b[0;34m\u001b[0m\u001b[0m\n\u001b[0m\u001b[1;32m      2\u001b[0m \u001b[0mmovies\u001b[0m \u001b[0;34m=\u001b[0m \u001b[0mratings\u001b[0m\u001b[0;34m.\u001b[0m\u001b[0mmovieId\u001b[0m\u001b[0;34m.\u001b[0m\u001b[0munique\u001b[0m\u001b[0;34m(\u001b[0m\u001b[0;34m)\u001b[0m\u001b[0;34m\u001b[0m\u001b[0m\n",
      "\u001b[0;31mNameError\u001b[0m: name 'ratings' is not defined"
     ]
    }
   ],
   "source": [
    "users = ratings.userId.unique()\n",
    "movies = ratings.movieId.unique()"
   ]
  },
  {
   "cell_type": "code",
   "execution_count": 22,
   "metadata": {
    "collapsed": false
   },
   "outputs": [
    {
     "ename": "NameError",
     "evalue": "name 'users' is not defined",
     "output_type": "error",
     "traceback": [
      "\u001b[0;31m---------------------------------------------------------------------------\u001b[0m",
      "\u001b[0;31mNameError\u001b[0m                                 Traceback (most recent call last)",
      "\u001b[0;32m<ipython-input-22-6711f799eb91>\u001b[0m in \u001b[0;36m<module>\u001b[0;34m()\u001b[0m\n\u001b[0;32m----> 1\u001b[0;31m \u001b[0musers\u001b[0m\u001b[0;34m\u001b[0m\u001b[0m\n\u001b[0m",
      "\u001b[0;31mNameError\u001b[0m: name 'users' is not defined"
     ]
    }
   ],
   "source": [
    "users"
   ]
  },
  {
   "cell_type": "code",
   "execution_count": 23,
   "metadata": {
    "collapsed": false
   },
   "outputs": [
    {
     "ename": "NameError",
     "evalue": "name 'ratings' is not defined",
     "output_type": "error",
     "traceback": [
      "\u001b[0;31m---------------------------------------------------------------------------\u001b[0m",
      "\u001b[0;31mNameError\u001b[0m                                 Traceback (most recent call last)",
      "\u001b[0;32m<ipython-input-23-a2be5c5450d8>\u001b[0m in \u001b[0;36m<module>\u001b[0;34m()\u001b[0m\n\u001b[0;32m----> 1\u001b[0;31m \u001b[0mratings\u001b[0m\u001b[0;34m.\u001b[0m\u001b[0muserId\u001b[0m\u001b[0;34m\u001b[0m\u001b[0m\n\u001b[0m",
      "\u001b[0;31mNameError\u001b[0m: name 'ratings' is not defined"
     ]
    }
   ],
   "source": [
    "ratings.userId"
   ]
  },
  {
   "cell_type": "code",
   "execution_count": 24,
   "metadata": {
    "collapsed": false
   },
   "outputs": [
    {
     "ename": "NameError",
     "evalue": "name 'movies' is not defined",
     "output_type": "error",
     "traceback": [
      "\u001b[0;31m---------------------------------------------------------------------------\u001b[0m",
      "\u001b[0;31mNameError\u001b[0m                                 Traceback (most recent call last)",
      "\u001b[0;32m<ipython-input-24-1d300a34b6cf>\u001b[0m in \u001b[0;36m<module>\u001b[0;34m()\u001b[0m\n\u001b[0;32m----> 1\u001b[0;31m \u001b[0mmovies\u001b[0m\u001b[0;34m\u001b[0m\u001b[0m\n\u001b[0m",
      "\u001b[0;31mNameError\u001b[0m: name 'movies' is not defined"
     ]
    }
   ],
   "source": [
    "movies"
   ]
  },
  {
   "cell_type": "code",
   "execution_count": 25,
   "metadata": {
    "collapsed": false
   },
   "outputs": [
    {
     "ename": "NameError",
     "evalue": "name 'ratings' is not defined",
     "output_type": "error",
     "traceback": [
      "\u001b[0;31m---------------------------------------------------------------------------\u001b[0m",
      "\u001b[0;31mNameError\u001b[0m                                 Traceback (most recent call last)",
      "\u001b[0;32m<ipython-input-25-cffa120e53df>\u001b[0m in \u001b[0;36m<module>\u001b[0;34m()\u001b[0m\n\u001b[0;32m----> 1\u001b[0;31m \u001b[0mratings\u001b[0m\u001b[0;34m.\u001b[0m\u001b[0mhead\u001b[0m\u001b[0;34m(\u001b[0m\u001b[0;34m)\u001b[0m\u001b[0;34m\u001b[0m\u001b[0m\n\u001b[0m",
      "\u001b[0;31mNameError\u001b[0m: name 'ratings' is not defined"
     ]
    }
   ],
   "source": [
    "ratings.head()"
   ]
  },
  {
   "cell_type": "markdown",
   "metadata": {},
   "source": [
    "아래 코드는 user에 저장되어있는 userid들의 array 속에서 ith_array_element를 key로, i를 value로 dictionary를 만든다.\n",
    "\n",
    "- ith_user_id : i\n",
    "\n",
    "ratings.csv 파일에서 유저 아이디는 1,2,3... 순차적으로 저장되어있음을 확인.\n",
    "\n",
    "- ith_movie_id : i\n",
    "\n",
    "\n",
    "ratings.csv 파일에서 movieId는 순차적으로 저장되어 있지 않다."
   ]
  },
  {
   "cell_type": "code",
   "execution_count": 26,
   "metadata": {
    "collapsed": false,
    "hidden": true
   },
   "outputs": [
    {
     "ename": "NameError",
     "evalue": "name 'users' is not defined",
     "output_type": "error",
     "traceback": [
      "\u001b[0;31m---------------------------------------------------------------------------\u001b[0m",
      "\u001b[0;31mNameError\u001b[0m                                 Traceback (most recent call last)",
      "\u001b[0;32m<ipython-input-26-e1f66d92e085>\u001b[0m in \u001b[0;36m<module>\u001b[0;34m()\u001b[0m\n\u001b[0;32m----> 1\u001b[0;31m \u001b[0muserid2idx\u001b[0m \u001b[0;34m=\u001b[0m \u001b[0;34m{\u001b[0m\u001b[0mo\u001b[0m\u001b[0;34m:\u001b[0m\u001b[0mi\u001b[0m \u001b[0;32mfor\u001b[0m \u001b[0mi\u001b[0m\u001b[0;34m,\u001b[0m\u001b[0mo\u001b[0m \u001b[0;32min\u001b[0m \u001b[0menumerate\u001b[0m\u001b[0;34m(\u001b[0m\u001b[0musers\u001b[0m\u001b[0;34m)\u001b[0m\u001b[0;34m}\u001b[0m\u001b[0;34m\u001b[0m\u001b[0m\n\u001b[0m\u001b[1;32m      2\u001b[0m \u001b[0mmovieid2idx\u001b[0m \u001b[0;34m=\u001b[0m \u001b[0;34m{\u001b[0m\u001b[0mo\u001b[0m\u001b[0;34m:\u001b[0m\u001b[0mi\u001b[0m \u001b[0;32mfor\u001b[0m \u001b[0mi\u001b[0m\u001b[0;34m,\u001b[0m\u001b[0mo\u001b[0m \u001b[0;32min\u001b[0m \u001b[0menumerate\u001b[0m\u001b[0;34m(\u001b[0m\u001b[0mmovies\u001b[0m\u001b[0;34m)\u001b[0m\u001b[0;34m}\u001b[0m\u001b[0;34m\u001b[0m\u001b[0m\n",
      "\u001b[0;31mNameError\u001b[0m: name 'users' is not defined"
     ]
    }
   ],
   "source": [
    "userid2idx = {o:i for i,o in enumerate(users)}\n",
    "movieid2idx = {o:i for i,o in enumerate(movies)}"
   ]
  },
  {
   "cell_type": "code",
   "execution_count": 27,
   "metadata": {
    "collapsed": false
   },
   "outputs": [
    {
     "ename": "NameError",
     "evalue": "name 'userid2idx' is not defined",
     "output_type": "error",
     "traceback": [
      "\u001b[0;31m---------------------------------------------------------------------------\u001b[0m",
      "\u001b[0;31mNameError\u001b[0m                                 Traceback (most recent call last)",
      "\u001b[0;32m<ipython-input-27-589da69c638b>\u001b[0m in \u001b[0;36m<module>\u001b[0;34m()\u001b[0m\n\u001b[0;32m----> 1\u001b[0;31m \u001b[0muserid2idx\u001b[0m\u001b[0;34m\u001b[0m\u001b[0m\n\u001b[0m",
      "\u001b[0;31mNameError\u001b[0m: name 'userid2idx' is not defined"
     ]
    }
   ],
   "source": [
    "userid2idx"
   ]
  },
  {
   "cell_type": "markdown",
   "metadata": {},
   "source": [
    "?? 10만이 넘는 i값은 왜 나오는가??"
   ]
  },
  {
   "cell_type": "code",
   "execution_count": 28,
   "metadata": {
    "collapsed": false
   },
   "outputs": [
    {
     "ename": "NameError",
     "evalue": "name 'movieid2idx' is not defined",
     "output_type": "error",
     "traceback": [
      "\u001b[0;31m---------------------------------------------------------------------------\u001b[0m",
      "\u001b[0;31mNameError\u001b[0m                                 Traceback (most recent call last)",
      "\u001b[0;32m<ipython-input-28-d0ff7ea0a209>\u001b[0m in \u001b[0;36m<module>\u001b[0;34m()\u001b[0m\n\u001b[0;32m----> 1\u001b[0;31m \u001b[0mmovieid2idx\u001b[0m\u001b[0;34m\u001b[0m\u001b[0m\n\u001b[0m",
      "\u001b[0;31mNameError\u001b[0m: name 'movieid2idx' is not defined"
     ]
    }
   ],
   "source": [
    "movieid2idx"
   ]
  },
  {
   "cell_type": "markdown",
   "metadata": {
    "hidden": true
   },
   "source": [
    "We update the movie and user ids so that they are contiguous integers, which we want when using embeddings."
   ]
  },
  {
   "cell_type": "code",
   "execution_count": 29,
   "metadata": {
    "collapsed": false,
    "hidden": true
   },
   "outputs": [
    {
     "ename": "NameError",
     "evalue": "name 'ratings' is not defined",
     "output_type": "error",
     "traceback": [
      "\u001b[0;31m---------------------------------------------------------------------------\u001b[0m",
      "\u001b[0;31mNameError\u001b[0m                                 Traceback (most recent call last)",
      "\u001b[0;32m<ipython-input-29-fe00017936b9>\u001b[0m in \u001b[0;36m<module>\u001b[0;34m()\u001b[0m\n\u001b[0;32m----> 1\u001b[0;31m \u001b[0mratings\u001b[0m\u001b[0;34m.\u001b[0m\u001b[0mmovieId\u001b[0m \u001b[0;34m=\u001b[0m \u001b[0mratings\u001b[0m\u001b[0;34m.\u001b[0m\u001b[0mmovieId\u001b[0m\u001b[0;34m.\u001b[0m\u001b[0mapply\u001b[0m\u001b[0;34m(\u001b[0m\u001b[0;32mlambda\u001b[0m \u001b[0mx\u001b[0m\u001b[0;34m:\u001b[0m \u001b[0mmovieid2idx\u001b[0m\u001b[0;34m[\u001b[0m\u001b[0mx\u001b[0m\u001b[0;34m]\u001b[0m\u001b[0;34m)\u001b[0m\u001b[0;34m\u001b[0m\u001b[0m\n\u001b[0m\u001b[1;32m      2\u001b[0m \u001b[0mratings\u001b[0m\u001b[0;34m.\u001b[0m\u001b[0muserId\u001b[0m \u001b[0;34m=\u001b[0m \u001b[0mratings\u001b[0m\u001b[0;34m.\u001b[0m\u001b[0muserId\u001b[0m\u001b[0;34m.\u001b[0m\u001b[0mapply\u001b[0m\u001b[0;34m(\u001b[0m\u001b[0;32mlambda\u001b[0m \u001b[0mx\u001b[0m\u001b[0;34m:\u001b[0m \u001b[0muserid2idx\u001b[0m\u001b[0;34m[\u001b[0m\u001b[0mx\u001b[0m\u001b[0;34m]\u001b[0m\u001b[0;34m)\u001b[0m\u001b[0;34m\u001b[0m\u001b[0m\n",
      "\u001b[0;31mNameError\u001b[0m: name 'ratings' is not defined"
     ]
    }
   ],
   "source": [
    "ratings.movieId = ratings.movieId.apply(lambda x: movieid2idx[x])\n",
    "ratings.userId = ratings.userId.apply(lambda x: userid2idx[x])"
   ]
  },
  {
   "cell_type": "markdown",
   "metadata": {},
   "source": [
    "ratings의 userId column, movieId column element들이 달라졌음을 확인할 수 있습니다. 각 유저가 본 영화들이 그루핑되어있음을 확인할 수 있습니다. 유저 0이 본 영화들 0,1,2,3,4, .. // 유저 1이 본 영화들 0,1,2,3, ... // 이런식."
   ]
  },
  {
   "cell_type": "code",
   "execution_count": 30,
   "metadata": {
    "collapsed": false,
    "scrolled": true
   },
   "outputs": [
    {
     "ename": "NameError",
     "evalue": "name 'ratings' is not defined",
     "output_type": "error",
     "traceback": [
      "\u001b[0;31m---------------------------------------------------------------------------\u001b[0m",
      "\u001b[0;31mNameError\u001b[0m                                 Traceback (most recent call last)",
      "\u001b[0;32m<ipython-input-30-3c399c9d2cd7>\u001b[0m in \u001b[0;36m<module>\u001b[0;34m()\u001b[0m\n\u001b[0;32m----> 1\u001b[0;31m \u001b[0mratings\u001b[0m\u001b[0;34m\u001b[0m\u001b[0m\n\u001b[0m",
      "\u001b[0;31mNameError\u001b[0m: name 'ratings' is not defined"
     ]
    }
   ],
   "source": [
    "ratings"
   ]
  },
  {
   "cell_type": "markdown",
   "metadata": {},
   "source": [
    "유저 수, 영화 수를 확인할 수 있습니다."
   ]
  },
  {
   "cell_type": "code",
   "execution_count": 31,
   "metadata": {
    "collapsed": false,
    "hidden": true
   },
   "outputs": [
    {
     "ename": "NameError",
     "evalue": "name 'ratings' is not defined",
     "output_type": "error",
     "traceback": [
      "\u001b[0;31m---------------------------------------------------------------------------\u001b[0m",
      "\u001b[0;31mNameError\u001b[0m                                 Traceback (most recent call last)",
      "\u001b[0;32m<ipython-input-31-b97b9ea20984>\u001b[0m in \u001b[0;36m<module>\u001b[0;34m()\u001b[0m\n\u001b[0;32m----> 1\u001b[0;31m user_min, user_max, movie_min, movie_max = (ratings.userId.min(), \n\u001b[0m\u001b[1;32m      2\u001b[0m     ratings.userId.max(), ratings.movieId.min(), ratings.movieId.max())\n\u001b[1;32m      3\u001b[0m \u001b[0muser_min\u001b[0m\u001b[0;34m,\u001b[0m \u001b[0muser_max\u001b[0m\u001b[0;34m,\u001b[0m \u001b[0mmovie_min\u001b[0m\u001b[0;34m,\u001b[0m \u001b[0mmovie_max\u001b[0m\u001b[0;34m\u001b[0m\u001b[0m\n",
      "\u001b[0;31mNameError\u001b[0m: name 'ratings' is not defined"
     ]
    }
   ],
   "source": [
    "user_min, user_max, movie_min, movie_max = (ratings.userId.min(), \n",
    "    ratings.userId.max(), ratings.movieId.min(), ratings.movieId.max())\n",
    "user_min, user_max, movie_min, movie_max"
   ]
  },
  {
   "cell_type": "code",
   "execution_count": 32,
   "metadata": {
    "collapsed": false,
    "hidden": true
   },
   "outputs": [
    {
     "ename": "NameError",
     "evalue": "name 'ratings' is not defined",
     "output_type": "error",
     "traceback": [
      "\u001b[0;31m---------------------------------------------------------------------------\u001b[0m",
      "\u001b[0;31mNameError\u001b[0m                                 Traceback (most recent call last)",
      "\u001b[0;32m<ipython-input-32-ad9fcfdb80bf>\u001b[0m in \u001b[0;36m<module>\u001b[0;34m()\u001b[0m\n\u001b[0;32m----> 1\u001b[0;31m \u001b[0mn_users\u001b[0m \u001b[0;34m=\u001b[0m \u001b[0mratings\u001b[0m\u001b[0;34m.\u001b[0m\u001b[0muserId\u001b[0m\u001b[0;34m.\u001b[0m\u001b[0mnunique\u001b[0m\u001b[0;34m(\u001b[0m\u001b[0;34m)\u001b[0m\u001b[0;34m\u001b[0m\u001b[0m\n\u001b[0m\u001b[1;32m      2\u001b[0m \u001b[0mn_movies\u001b[0m \u001b[0;34m=\u001b[0m \u001b[0mratings\u001b[0m\u001b[0;34m.\u001b[0m\u001b[0mmovieId\u001b[0m\u001b[0;34m.\u001b[0m\u001b[0mnunique\u001b[0m\u001b[0;34m(\u001b[0m\u001b[0;34m)\u001b[0m\u001b[0;34m\u001b[0m\u001b[0m\n\u001b[1;32m      3\u001b[0m \u001b[0mn_users\u001b[0m\u001b[0;34m,\u001b[0m \u001b[0mn_movies\u001b[0m\u001b[0;34m\u001b[0m\u001b[0m\n",
      "\u001b[0;31mNameError\u001b[0m: name 'ratings' is not defined"
     ]
    }
   ],
   "source": [
    "n_users = ratings.userId.nunique()\n",
    "n_movies = ratings.movieId.nunique()\n",
    "n_users, n_movies"
   ]
  },
  {
   "cell_type": "markdown",
   "metadata": {
    "hidden": true
   },
   "source": [
    "This is the number of latent factors in each embedding."
   ]
  },
  {
   "cell_type": "markdown",
   "metadata": {},
   "source": [
    "what are the latent factors?\n",
    "- 영화가 재미있는지, 브루스윌리스가 나오는지 등의 특징들을 지칭합니다.\n",
    "\n",
    ": some possible features these latent factors may represent for a movie embedding are things like whether the movie is a blockbuster, if it's funny, etc.\n",
    "\n",
    "- 다른 식으로 보면 이렇게도 볼 수 있겠지요.\n",
    "\n",
    ": 학생들의 시험 성적 데이터를 예를 들어 생각해보자. 이 데이터가 수학, 과학, 영어, 중국어, 독어, 작곡, 연주 의 점수(0점-100점)으로 구성되어 있다고 하면, 수학, 과학은 상관관계가 있을 것이고 (수리계산능력), 영어, 중국어, 독어 가 상관관계가 있을 것이고 (외국어능력), 작곡, 연주 가 상관관계가 있을 것입니다. (음악적능력, 음악적재능).\n",
    "\n",
    "즉, 원래 7개의 변수(과목)으로 구성되어있지만, 그냥 봐서는 잘 모르지만 상관관계를 따져보면, 내부적으로는 3개의 잠재변수 즉, [수리계산능력], [외국어능력], [음악적재능] 으로 구성된 것으로 파악할 수 있습니다.\n",
    "\n",
    "이렇게 원래 많은 수(7개)의 변수들을 소수의 몇 개의(3개)의 잠재된 변수로 찾아내는 것을 요인분석이라고 합니다. 감이 오겠지만 ... 요인분석은 데이터 축소(Data Reduction)과 관계가 있다. 이렇게 찾은 잠재변수를 영어로는 Latent Variable 이라고 부릅니다. \n",
    "\n",
    "요인분석(Factor Analysis)은 변수들 간의 상관관계를 고려하여 저변에 내재된 개념인 요인들을 추출해내는 분석방법입니다. 다른 말로 하면, 요인분석은 변수들 간의 상관관계를 고려하여 서로 유사한 변수들 끼리 묶어주는 방법입니다. 또 다른 말로 하면, 많은 변수로 구성된 데이터가 몇 개의 요인에 의해 영향을 받는가를 알아보는 것이라고도 할 수 있습니다. \n",
    "\n",
    "출처: http://ai-times.tistory.com/112 [ai-times]\n",
    "\n",
    "\n",
    "- 하지만, 사실 그 특징이 어떤 특징인지는 모릅니다. 다만, ratings를 예측할 때, 유용한 값일 뿐입니다. 요인의 갯수도 임의로 설정할 뿐입니다.\n",
    "\n",
    ": we don't actually know exactly what attributes these factors are describing, only that through gradient descent we have learned these to be the most useful at predicting user ratings.\n",
    "\n",
    "- 케라스에서는 Embedding Layer를 사용합니다.\n",
    "\n",
    ": Keras uses something called an Embedding Layer that looks up the appropriate embeddings given an id, and handles the training of said factors."
   ]
  },
  {
   "cell_type": "code",
   "execution_count": 33,
   "metadata": {
    "collapsed": true,
    "hidden": true
   },
   "outputs": [],
   "source": [
    "n_factors = 50"
   ]
  },
  {
   "cell_type": "code",
   "execution_count": 34,
   "metadata": {
    "collapsed": false,
    "hidden": true
   },
   "outputs": [
    {
     "ename": "NameError",
     "evalue": "name 'np' is not defined",
     "output_type": "error",
     "traceback": [
      "\u001b[0;31m---------------------------------------------------------------------------\u001b[0m",
      "\u001b[0;31mNameError\u001b[0m                                 Traceback (most recent call last)",
      "\u001b[0;32m<ipython-input-34-aa8f8710616d>\u001b[0m in \u001b[0;36m<module>\u001b[0;34m()\u001b[0m\n\u001b[0;32m----> 1\u001b[0;31m \u001b[0mnp\u001b[0m\u001b[0;34m.\u001b[0m\u001b[0mrandom\u001b[0m\u001b[0;34m.\u001b[0m\u001b[0mseed\u001b[0m \u001b[0;34m=\u001b[0m \u001b[0;36m42\u001b[0m\u001b[0;34m\u001b[0m\u001b[0m\n\u001b[0m",
      "\u001b[0;31mNameError\u001b[0m: name 'np' is not defined"
     ]
    }
   ],
   "source": [
    "np.random.seed = 42"
   ]
  },
  {
   "cell_type": "code",
   "execution_count": 35,
   "metadata": {
    "collapsed": false
   },
   "outputs": [
    {
     "ename": "NameError",
     "evalue": "name 'np' is not defined",
     "output_type": "error",
     "traceback": [
      "\u001b[0;31m---------------------------------------------------------------------------\u001b[0m",
      "\u001b[0;31mNameError\u001b[0m                                 Traceback (most recent call last)",
      "\u001b[0;32m<ipython-input-35-4cb6b284b584>\u001b[0m in \u001b[0;36m<module>\u001b[0;34m()\u001b[0m\n\u001b[0;32m----> 1\u001b[0;31m \u001b[0mnp\u001b[0m\u001b[0;34m.\u001b[0m\u001b[0mrandom\u001b[0m\u001b[0;34m.\u001b[0m\u001b[0mseed\u001b[0m\u001b[0;34m\u001b[0m\u001b[0m\n\u001b[0m",
      "\u001b[0;31mNameError\u001b[0m: name 'np' is not defined"
     ]
    }
   ],
   "source": [
    "np.random.seed"
   ]
  },
  {
   "cell_type": "markdown",
   "metadata": {
    "hidden": true
   },
   "source": [
    "Randomly split into training and validation."
   ]
  },
  {
   "cell_type": "code",
   "execution_count": 79,
   "metadata": {
    "collapsed": false,
    "hidden": true
   },
   "outputs": [],
   "source": [
    "msk = np.random.rand(len(ratings)) < 0.8\n",
    "trn = ratings[msk]\n",
    "val = ratings[~msk]"
   ]
  },
  {
   "cell_type": "markdown",
   "metadata": {},
   "source": [
    "what is np.random.seed?\n",
    "\n",
    "다른 곳에서의 설명은 이러한데... 여기서는 적용이 안된다.\n",
    "https://datascienceschool.net/view-notebook/8bf41f87a08b4c44b307799577736a28/\n"
   ]
  },
  {
   "cell_type": "code",
   "execution_count": 80,
   "metadata": {
    "collapsed": false,
    "scrolled": true
   },
   "outputs": [
    {
     "data": {
      "text/plain": [
       "array([ True,  True,  True], dtype=bool)"
      ]
     },
     "execution_count": 80,
     "metadata": {},
     "output_type": "execute_result"
    }
   ],
   "source": [
    "np.random.rand(3) < 0.8"
   ]
  },
  {
   "cell_type": "code",
   "execution_count": 1,
   "metadata": {
    "collapsed": false
   },
   "outputs": [
    {
     "ename": "NameError",
     "evalue": "name 'np' is not defined",
     "output_type": "error",
     "traceback": [
      "\u001b[0;31m---------------------------------------------------------------------------\u001b[0m",
      "\u001b[0;31mNameError\u001b[0m                                 Traceback (most recent call last)",
      "\u001b[0;32m<ipython-input-1-aa8f8710616d>\u001b[0m in \u001b[0;36m<module>\u001b[0;34m()\u001b[0m\n\u001b[0;32m----> 1\u001b[0;31m \u001b[0mnp\u001b[0m\u001b[0;34m.\u001b[0m\u001b[0mrandom\u001b[0m\u001b[0;34m.\u001b[0m\u001b[0mseed\u001b[0m \u001b[0;34m=\u001b[0m \u001b[0;36m42\u001b[0m\u001b[0;34m\u001b[0m\u001b[0m\n\u001b[0m",
      "\u001b[0;31mNameError\u001b[0m: name 'np' is not defined"
     ]
    }
   ],
   "source": [
    "np.random.seed = 42"
   ]
  },
  {
   "cell_type": "code",
   "execution_count": 82,
   "metadata": {
    "collapsed": false,
    "scrolled": true
   },
   "outputs": [
    {
     "data": {
      "text/plain": [
       "array([ 0.5818,  0.6369,  0.8093])"
      ]
     },
     "execution_count": 82,
     "metadata": {},
     "output_type": "execute_result"
    }
   ],
   "source": [
    "np.random.rand(3)"
   ]
  },
  {
   "cell_type": "code",
   "execution_count": 83,
   "metadata": {
    "collapsed": false
   },
   "outputs": [],
   "source": [
    "np.random.seed = 42"
   ]
  },
  {
   "cell_type": "code",
   "execution_count": 84,
   "metadata": {
    "collapsed": false
   },
   "outputs": [
    {
     "data": {
      "text/plain": [
       "array([ 0.3905,  0.9291,  0.2812])"
      ]
     },
     "execution_count": 84,
     "metadata": {},
     "output_type": "execute_result"
    }
   ],
   "source": [
    "np.random.rand(3)"
   ]
  },
  {
   "cell_type": "code",
   "execution_count": 85,
   "metadata": {
    "collapsed": false
   },
   "outputs": [
    {
     "data": {
      "text/plain": [
       "array([ 0.6538,  0.1634,  0.3023])"
      ]
     },
     "execution_count": 85,
     "metadata": {},
     "output_type": "execute_result"
    }
   ],
   "source": [
    "np.random.rand(3)"
   ]
  },
  {
   "cell_type": "markdown",
   "metadata": {
    "heading_collapsed": true
   },
   "source": [
    "## Create subset for Excel"
   ]
  },
  {
   "cell_type": "markdown",
   "metadata": {
    "hidden": true
   },
   "source": [
    "We create a crosstab of the most popular movies and most movie-addicted users which we'll copy into Excel for creating a simple example. This isn't necessary for any of the modeling below however."
   ]
  },
  {
   "cell_type": "code",
   "execution_count": 86,
   "metadata": {
    "collapsed": false
   },
   "outputs": [
    {
     "data": {
      "text/html": [
       "<div>\n",
       "<table border=\"1\" class=\"dataframe\">\n",
       "  <thead>\n",
       "    <tr style=\"text-align: right;\">\n",
       "      <th></th>\n",
       "      <th>a</th>\n",
       "      <th>b</th>\n",
       "      <th>c</th>\n",
       "    </tr>\n",
       "  </thead>\n",
       "  <tbody>\n",
       "    <tr>\n",
       "      <th>0</th>\n",
       "      <td>1</td>\n",
       "      <td>2</td>\n",
       "      <td>3</td>\n",
       "    </tr>\n",
       "    <tr>\n",
       "      <th>1</th>\n",
       "      <td>10</td>\n",
       "      <td>11</td>\n",
       "      <td>12</td>\n",
       "    </tr>\n",
       "    <tr>\n",
       "      <th>2</th>\n",
       "      <td>20</td>\n",
       "      <td>21</td>\n",
       "      <td>22</td>\n",
       "    </tr>\n",
       "    <tr>\n",
       "      <th>3</th>\n",
       "      <td>20</td>\n",
       "      <td>21</td>\n",
       "      <td>22</td>\n",
       "    </tr>\n",
       "    <tr>\n",
       "      <th>4</th>\n",
       "      <td>20</td>\n",
       "      <td>21</td>\n",
       "      <td>22</td>\n",
       "    </tr>\n",
       "    <tr>\n",
       "      <th>5</th>\n",
       "      <td>20</td>\n",
       "      <td>21</td>\n",
       "      <td>22</td>\n",
       "    </tr>\n",
       "  </tbody>\n",
       "</table>\n",
       "</div>"
      ],
      "text/plain": [
       "    a   b   c\n",
       "0   1   2   3\n",
       "1  10  11  12\n",
       "2  20  21  22\n",
       "3  20  21  22\n",
       "4  20  21  22\n",
       "5  20  21  22"
      ]
     },
     "execution_count": 86,
     "metadata": {},
     "output_type": "execute_result"
    }
   ],
   "source": [
    "ex_col = ['a','b','c']\n",
    "ex_data = pd.DataFrame([[1,2,3],[10,11,12],[20,21,22],[20,21,22],[20,21,22],[20,21,22]] , columns = ex_col)\n",
    "ex_data"
   ]
  },
  {
   "cell_type": "code",
   "execution_count": 87,
   "metadata": {
    "collapsed": false
   },
   "outputs": [
    {
     "data": {
      "text/plain": [
       "a\n",
       "1     1\n",
       "10    1\n",
       "20    4\n",
       "Name: b, dtype: int64"
      ]
     },
     "execution_count": 87,
     "metadata": {},
     "output_type": "execute_result"
    }
   ],
   "source": [
    "ex_data.groupby('a')['b'].count()"
   ]
  },
  {
   "cell_type": "markdown",
   "metadata": {},
   "source": [
    "각 유저가 본 영화의 갯수를 g에 저장합니다. 그리고는 내림차순으로 15개를 topUsers 변수에 저장합니다."
   ]
  },
  {
   "cell_type": "code",
   "execution_count": 88,
   "metadata": {
    "collapsed": false,
    "hidden": true
   },
   "outputs": [],
   "source": [
    "g=ratings.groupby('userId')['rating'].count()\n",
    "topUsers=g.sort_values(ascending=False)[:15]"
   ]
  },
  {
   "cell_type": "code",
   "execution_count": 89,
   "metadata": {
    "collapsed": false
   },
   "outputs": [
    {
     "data": {
      "text/plain": [
       "userId\n",
       "0        20\n",
       "1        76\n",
       "2        51\n",
       "3       204\n",
       "4       100\n",
       "5        44\n",
       "6        88\n",
       "7       116\n",
       "8        45\n",
       "9        46\n",
       "10       38\n",
       "11       61\n",
       "12       53\n",
       "13       20\n",
       "14     1700\n",
       "15       29\n",
       "16      363\n",
       "17       51\n",
       "18      423\n",
       "19       98\n",
       "20      162\n",
       "21      220\n",
       "22      726\n",
       "23       21\n",
       "24       26\n",
       "25      172\n",
       "26       23\n",
       "27       50\n",
       "28       22\n",
       "29     1011\n",
       "       ... \n",
       "641      36\n",
       "642      24\n",
       "643      39\n",
       "644      30\n",
       "645     169\n",
       "646     150\n",
       "647     256\n",
       "648      90\n",
       "649      29\n",
       "650      20\n",
       "651     267\n",
       "652      51\n",
       "653     626\n",
       "654     105\n",
       "655     128\n",
       "656      20\n",
       "657      60\n",
       "658     142\n",
       "659      92\n",
       "660      33\n",
       "661      58\n",
       "662      26\n",
       "663     519\n",
       "664     434\n",
       "665      40\n",
       "666      68\n",
       "667      20\n",
       "668      37\n",
       "669      31\n",
       "670     115\n",
       "Name: rating, dtype: int64"
      ]
     },
     "execution_count": 89,
     "metadata": {},
     "output_type": "execute_result"
    }
   ],
   "source": [
    "g"
   ]
  },
  {
   "cell_type": "code",
   "execution_count": 90,
   "metadata": {
    "collapsed": false
   },
   "outputs": [
    {
     "data": {
      "text/plain": [
       "userId\n",
       "546    2391\n",
       "563    1868\n",
       "623    1735\n",
       "14     1700\n",
       "72     1610\n",
       "451    1340\n",
       "467    1291\n",
       "379    1063\n",
       "310    1019\n",
       "29     1011\n",
       "293     947\n",
       "508     923\n",
       "579     922\n",
       "212     910\n",
       "211     876\n",
       "Name: rating, dtype: int64"
      ]
     },
     "execution_count": 90,
     "metadata": {},
     "output_type": "execute_result"
    }
   ],
   "source": [
    "topUsers"
   ]
  },
  {
   "cell_type": "markdown",
   "metadata": {},
   "source": [
    "각 영화와 영화마다 평점받은 횟수를 g에 저장합니다. 그리고는 내림차순으로 15개를 topMovies 변수에 저장합니다."
   ]
  },
  {
   "cell_type": "code",
   "execution_count": 91,
   "metadata": {
    "collapsed": false,
    "hidden": true
   },
   "outputs": [],
   "source": [
    "g=ratings.groupby('movieId')['rating'].count()\n",
    "topMovies=g.sort_values(ascending=False)[:15]"
   ]
  },
  {
   "cell_type": "code",
   "execution_count": 92,
   "metadata": {
    "collapsed": false
   },
   "outputs": [
    {
     "data": {
      "text/plain": [
       "movieId\n",
       "0        42\n",
       "1        42\n",
       "2        33\n",
       "3        48\n",
       "4        46\n",
       "5        48\n",
       "6        46\n",
       "7        46\n",
       "8        52\n",
       "9        39\n",
       "10       47\n",
       "11       46\n",
       "12       46\n",
       "13       47\n",
       "14       36\n",
       "15       42\n",
       "16       53\n",
       "17       47\n",
       "18       43\n",
       "19       62\n",
       "20      122\n",
       "21       86\n",
       "22      120\n",
       "23      201\n",
       "24      201\n",
       "25       51\n",
       "26       87\n",
       "27      228\n",
       "28       26\n",
       "29      200\n",
       "       ... \n",
       "9036      1\n",
       "9037      1\n",
       "9038      1\n",
       "9039      1\n",
       "9040      1\n",
       "9041      1\n",
       "9042      1\n",
       "9043      1\n",
       "9044      1\n",
       "9045      1\n",
       "9046      1\n",
       "9047      1\n",
       "9048      1\n",
       "9049      1\n",
       "9050      1\n",
       "9051      1\n",
       "9052      1\n",
       "9053      1\n",
       "9054      1\n",
       "9055      1\n",
       "9056      1\n",
       "9057      1\n",
       "9058      1\n",
       "9059      1\n",
       "9060      1\n",
       "9061      1\n",
       "9062      1\n",
       "9063      1\n",
       "9064      1\n",
       "9065      1\n",
       "Name: rating, dtype: int64"
      ]
     },
     "execution_count": 92,
     "metadata": {},
     "output_type": "execute_result"
    }
   ],
   "source": [
    "g"
   ]
  },
  {
   "cell_type": "code",
   "execution_count": 93,
   "metadata": {
    "collapsed": false
   },
   "outputs": [
    {
     "data": {
      "text/plain": [
       "movieId\n",
       "57     341\n",
       "49     324\n",
       "99     311\n",
       "92     304\n",
       "143    291\n",
       "72     274\n",
       "402    259\n",
       "417    247\n",
       "79     244\n",
       "89     237\n",
       "179    234\n",
       "27     228\n",
       "197    226\n",
       "505    224\n",
       "180    220\n",
       "Name: rating, dtype: int64"
      ]
     },
     "execution_count": 93,
     "metadata": {},
     "output_type": "execute_result"
    }
   ],
   "source": [
    "topMovies"
   ]
  },
  {
   "cell_type": "markdown",
   "metadata": {},
   "source": [
    "### code_trouble_shooting(10): what is pd.dataFrame.join()?"
   ]
  },
  {
   "cell_type": "code",
   "execution_count": 98,
   "metadata": {
    "collapsed": false
   },
   "outputs": [
    {
     "data": {
      "text/html": [
       "<div>\n",
       "<table border=\"1\" class=\"dataframe\">\n",
       "  <thead>\n",
       "    <tr style=\"text-align: right;\">\n",
       "      <th></th>\n",
       "      <th>A</th>\n",
       "      <th>key</th>\n",
       "    </tr>\n",
       "  </thead>\n",
       "  <tbody>\n",
       "    <tr>\n",
       "      <th>0</th>\n",
       "      <td>A0</td>\n",
       "      <td>K0</td>\n",
       "    </tr>\n",
       "    <tr>\n",
       "      <th>1</th>\n",
       "      <td>A1</td>\n",
       "      <td>K1</td>\n",
       "    </tr>\n",
       "    <tr>\n",
       "      <th>2</th>\n",
       "      <td>A2</td>\n",
       "      <td>K2</td>\n",
       "    </tr>\n",
       "    <tr>\n",
       "      <th>3</th>\n",
       "      <td>A3</td>\n",
       "      <td>K3</td>\n",
       "    </tr>\n",
       "    <tr>\n",
       "      <th>4</th>\n",
       "      <td>A4</td>\n",
       "      <td>K4</td>\n",
       "    </tr>\n",
       "    <tr>\n",
       "      <th>5</th>\n",
       "      <td>A5</td>\n",
       "      <td>K5</td>\n",
       "    </tr>\n",
       "  </tbody>\n",
       "</table>\n",
       "</div>"
      ],
      "text/plain": [
       "    A key\n",
       "0  A0  K0\n",
       "1  A1  K1\n",
       "2  A2  K2\n",
       "3  A3  K3\n",
       "4  A4  K4\n",
       "5  A5  K5"
      ]
     },
     "execution_count": 98,
     "metadata": {},
     "output_type": "execute_result"
    }
   ],
   "source": [
    "ex_data = pd.DataFrame({'key': ['K0', 'K1', 'K2', 'K3', 'K4', 'K5'],\n",
    "                 'A': ['A0', 'A1', 'A2', 'A3', 'A4', 'A5']})\n",
    "ex_data"
   ]
  },
  {
   "cell_type": "code",
   "execution_count": 99,
   "metadata": {
    "collapsed": false
   },
   "outputs": [
    {
     "data": {
      "text/html": [
       "<div>\n",
       "<table border=\"1\" class=\"dataframe\">\n",
       "  <thead>\n",
       "    <tr style=\"text-align: right;\">\n",
       "      <th></th>\n",
       "      <th>B</th>\n",
       "      <th>key</th>\n",
       "    </tr>\n",
       "  </thead>\n",
       "  <tbody>\n",
       "    <tr>\n",
       "      <th>0</th>\n",
       "      <td>B0</td>\n",
       "      <td>K0</td>\n",
       "    </tr>\n",
       "    <tr>\n",
       "      <th>1</th>\n",
       "      <td>B1</td>\n",
       "      <td>K1</td>\n",
       "    </tr>\n",
       "    <tr>\n",
       "      <th>2</th>\n",
       "      <td>B2</td>\n",
       "      <td>K2</td>\n",
       "    </tr>\n",
       "  </tbody>\n",
       "</table>\n",
       "</div>"
      ],
      "text/plain": [
       "    B key\n",
       "0  B0  K0\n",
       "1  B1  K1\n",
       "2  B2  K2"
      ]
     },
     "execution_count": 99,
     "metadata": {},
     "output_type": "execute_result"
    }
   ],
   "source": [
    "other = pd.DataFrame({'key': ['K0', 'K1', 'K2'],\n",
    "                      'B': ['B0', 'B1', 'B2']})\n",
    "other"
   ]
  },
  {
   "cell_type": "markdown",
   "metadata": {},
   "source": [
    "- lsuffix\n",
    "\n",
    "\n",
    ": Suffix to use from left frame’s overlapping columns\n",
    "\n",
    "- rsuffix\n",
    "\n",
    "\n",
    ": Suffix to use from right frame’s overlapping columns"
   ]
  },
  {
   "cell_type": "code",
   "execution_count": 100,
   "metadata": {
    "collapsed": false
   },
   "outputs": [
    {
     "ename": "NameError",
     "evalue": "name 'caller' is not defined",
     "output_type": "error",
     "traceback": [
      "\u001b[0;31m---------------------------------------------------------------------------\u001b[0m",
      "\u001b[0;31mNameError\u001b[0m                                 Traceback (most recent call last)",
      "\u001b[0;32m<ipython-input-100-713390ee6984>\u001b[0m in \u001b[0;36m<module>\u001b[0;34m()\u001b[0m\n\u001b[0;32m----> 1\u001b[0;31m \u001b[0mcaller\u001b[0m\u001b[0;34m.\u001b[0m\u001b[0mjoin\u001b[0m\u001b[0;34m(\u001b[0m\u001b[0mother\u001b[0m\u001b[0;34m,\u001b[0m \u001b[0mlsuffix\u001b[0m\u001b[0;34m=\u001b[0m\u001b[0;34m'_caller'\u001b[0m\u001b[0;34m,\u001b[0m \u001b[0mrsuffix\u001b[0m\u001b[0;34m=\u001b[0m\u001b[0;34m'_other'\u001b[0m\u001b[0;34m)\u001b[0m\u001b[0;34m\u001b[0m\u001b[0m\n\u001b[0m",
      "\u001b[0;31mNameError\u001b[0m: name 'caller' is not defined"
     ]
    }
   ],
   "source": [
    "ex_data.join(other, lsuffix='_caller', rsuffix='_other')"
   ]
  },
  {
   "cell_type": "markdown",
   "metadata": {},
   "source": [
    "If we want to join using the key columns, we need to set key to be the index in both caller and other. The joined DataFrame will have key as its index."
   ]
  },
  {
   "cell_type": "code",
   "execution_count": 97,
   "metadata": {
    "collapsed": false
   },
   "outputs": [
    {
     "ename": "NameError",
     "evalue": "name 'caller' is not defined",
     "output_type": "error",
     "traceback": [
      "\u001b[0;31m---------------------------------------------------------------------------\u001b[0m",
      "\u001b[0;31mNameError\u001b[0m                                 Traceback (most recent call last)",
      "\u001b[0;32m<ipython-input-97-9bd0eafc2cca>\u001b[0m in \u001b[0;36m<module>\u001b[0;34m()\u001b[0m\n\u001b[0;32m----> 1\u001b[0;31m \u001b[0mcaller\u001b[0m\u001b[0;34m.\u001b[0m\u001b[0mset_index\u001b[0m\u001b[0;34m(\u001b[0m\u001b[0;34m'key'\u001b[0m\u001b[0;34m)\u001b[0m\u001b[0;34m.\u001b[0m\u001b[0mjoin\u001b[0m\u001b[0;34m(\u001b[0m\u001b[0mother\u001b[0m\u001b[0;34m.\u001b[0m\u001b[0mset_index\u001b[0m\u001b[0;34m(\u001b[0m\u001b[0;34m'key'\u001b[0m\u001b[0;34m)\u001b[0m\u001b[0;34m)\u001b[0m\u001b[0;34m\u001b[0m\u001b[0m\n\u001b[0m",
      "\u001b[0;31mNameError\u001b[0m: name 'caller' is not defined"
     ]
    }
   ],
   "source": [
    "ex_data.set_index('key').join(other.set_index('key'))"
   ]
  },
  {
   "cell_type": "markdown",
   "metadata": {},
   "source": [
    "Another option to join using the key columns is to use the on parameter. DataFrame.join always uses other’s index but we can use any column in the caller. This method preserves the original caller’s index in the result."
   ]
  },
  {
   "cell_type": "code",
   "execution_count": 301,
   "metadata": {
    "collapsed": false
   },
   "outputs": [
    {
     "data": {
      "text/html": [
       "<div>\n",
       "<table border=\"1\" class=\"dataframe\">\n",
       "  <thead>\n",
       "    <tr style=\"text-align: right;\">\n",
       "      <th></th>\n",
       "      <th>A</th>\n",
       "      <th>key</th>\n",
       "      <th>B</th>\n",
       "    </tr>\n",
       "  </thead>\n",
       "  <tbody>\n",
       "    <tr>\n",
       "      <th>0</th>\n",
       "      <td>A0</td>\n",
       "      <td>K0</td>\n",
       "      <td>B0</td>\n",
       "    </tr>\n",
       "    <tr>\n",
       "      <th>1</th>\n",
       "      <td>A1</td>\n",
       "      <td>K1</td>\n",
       "      <td>B1</td>\n",
       "    </tr>\n",
       "    <tr>\n",
       "      <th>2</th>\n",
       "      <td>A2</td>\n",
       "      <td>K2</td>\n",
       "      <td>B2</td>\n",
       "    </tr>\n",
       "    <tr>\n",
       "      <th>3</th>\n",
       "      <td>A3</td>\n",
       "      <td>K3</td>\n",
       "      <td>NaN</td>\n",
       "    </tr>\n",
       "    <tr>\n",
       "      <th>4</th>\n",
       "      <td>A4</td>\n",
       "      <td>K4</td>\n",
       "      <td>NaN</td>\n",
       "    </tr>\n",
       "    <tr>\n",
       "      <th>5</th>\n",
       "      <td>A5</td>\n",
       "      <td>K5</td>\n",
       "      <td>NaN</td>\n",
       "    </tr>\n",
       "  </tbody>\n",
       "</table>\n",
       "</div>"
      ],
      "text/plain": [
       "    A key    B\n",
       "0  A0  K0   B0\n",
       "1  A1  K1   B1\n",
       "2  A2  K2   B2\n",
       "3  A3  K3  NaN\n",
       "4  A4  K4  NaN\n",
       "5  A5  K5  NaN"
      ]
     },
     "execution_count": 301,
     "metadata": {},
     "output_type": "execute_result"
    }
   ],
   "source": [
    "ex_data.join(other.set_index('key'), on='key')"
   ]
  },
  {
   "cell_type": "code",
   "execution_count": 302,
   "metadata": {
    "collapsed": false,
    "scrolled": true
   },
   "outputs": [
    {
     "data": {
      "text/html": [
       "<div>\n",
       "<table border=\"1\" class=\"dataframe\">\n",
       "  <thead>\n",
       "    <tr style=\"text-align: right;\">\n",
       "      <th></th>\n",
       "      <th>key</th>\n",
       "      <th>A</th>\n",
       "      <th>key_l</th>\n",
       "      <th>B</th>\n",
       "      <th>key_r</th>\n",
       "    </tr>\n",
       "  </thead>\n",
       "  <tbody>\n",
       "  </tbody>\n",
       "</table>\n",
       "</div>"
      ],
      "text/plain": [
       "Empty DataFrame\n",
       "Columns: [key, A, key_l, B, key_r]\n",
       "Index: []"
      ]
     },
     "execution_count": 302,
     "metadata": {},
     "output_type": "execute_result"
    }
   ],
   "source": [
    "ex_data.join(other, lsuffix = '_l', rsuffix = '_r', how='inner', on='key')"
   ]
  },
  {
   "cell_type": "markdown",
   "metadata": {},
   "source": [
    "inner: form intersection of calling frame’s index (or column if on is specified) with other frame’s index, preserving the order of the calling’s one"
   ]
  },
  {
   "cell_type": "code",
   "execution_count": 303,
   "metadata": {
    "collapsed": false
   },
   "outputs": [
    {
     "data": {
      "text/html": [
       "<div>\n",
       "<table border=\"1\" class=\"dataframe\">\n",
       "  <thead>\n",
       "    <tr style=\"text-align: right;\">\n",
       "      <th></th>\n",
       "      <th>A</th>\n",
       "      <th>key_l</th>\n",
       "      <th>B</th>\n",
       "      <th>key_r</th>\n",
       "    </tr>\n",
       "  </thead>\n",
       "  <tbody>\n",
       "    <tr>\n",
       "      <th>0</th>\n",
       "      <td>A0</td>\n",
       "      <td>K0</td>\n",
       "      <td>B0</td>\n",
       "      <td>K0</td>\n",
       "    </tr>\n",
       "    <tr>\n",
       "      <th>1</th>\n",
       "      <td>A1</td>\n",
       "      <td>K1</td>\n",
       "      <td>B1</td>\n",
       "      <td>K1</td>\n",
       "    </tr>\n",
       "    <tr>\n",
       "      <th>2</th>\n",
       "      <td>A2</td>\n",
       "      <td>K2</td>\n",
       "      <td>B2</td>\n",
       "      <td>K2</td>\n",
       "    </tr>\n",
       "  </tbody>\n",
       "</table>\n",
       "</div>"
      ],
      "text/plain": [
       "    A key_l   B key_r\n",
       "0  A0    K0  B0    K0\n",
       "1  A1    K1  B1    K1\n",
       "2  A2    K2  B2    K2"
      ]
     },
     "execution_count": 303,
     "metadata": {},
     "output_type": "execute_result"
    }
   ],
   "source": [
    "ex_data.join(other, lsuffix = '_l', rsuffix = '_r', how='inner')"
   ]
  },
  {
   "cell_type": "markdown",
   "metadata": {},
   "source": [
    "outer: form union of calling frame’s index (or column if on is specified) with other frame’s index, and sort it lexicographically\n",
    "\n",
    "Column(s)[in this case: key] in the caller to join on the index in other, otherwise joins index-on-index. If multiples columns given, the passed DataFrame must have a MultiIndex. Can pass an array as the join key if not already contained in the calling DataFrame."
   ]
  },
  {
   "cell_type": "code",
   "execution_count": 304,
   "metadata": {
    "collapsed": false,
    "scrolled": true
   },
   "outputs": [
    {
     "data": {
      "text/html": [
       "<div>\n",
       "<table border=\"1\" class=\"dataframe\">\n",
       "  <thead>\n",
       "    <tr style=\"text-align: right;\">\n",
       "      <th></th>\n",
       "      <th>key</th>\n",
       "      <th>A</th>\n",
       "      <th>key_l</th>\n",
       "      <th>B</th>\n",
       "      <th>key_r</th>\n",
       "    </tr>\n",
       "  </thead>\n",
       "  <tbody>\n",
       "    <tr>\n",
       "      <th>0</th>\n",
       "      <td>K0</td>\n",
       "      <td>A0</td>\n",
       "      <td>K0</td>\n",
       "      <td>NaN</td>\n",
       "      <td>NaN</td>\n",
       "    </tr>\n",
       "    <tr>\n",
       "      <th>1</th>\n",
       "      <td>K1</td>\n",
       "      <td>A1</td>\n",
       "      <td>K1</td>\n",
       "      <td>NaN</td>\n",
       "      <td>NaN</td>\n",
       "    </tr>\n",
       "    <tr>\n",
       "      <th>2</th>\n",
       "      <td>K2</td>\n",
       "      <td>A2</td>\n",
       "      <td>K2</td>\n",
       "      <td>NaN</td>\n",
       "      <td>NaN</td>\n",
       "    </tr>\n",
       "    <tr>\n",
       "      <th>3</th>\n",
       "      <td>K3</td>\n",
       "      <td>A3</td>\n",
       "      <td>K3</td>\n",
       "      <td>NaN</td>\n",
       "      <td>NaN</td>\n",
       "    </tr>\n",
       "    <tr>\n",
       "      <th>4</th>\n",
       "      <td>K4</td>\n",
       "      <td>A4</td>\n",
       "      <td>K4</td>\n",
       "      <td>NaN</td>\n",
       "      <td>NaN</td>\n",
       "    </tr>\n",
       "    <tr>\n",
       "      <th>5</th>\n",
       "      <td>K5</td>\n",
       "      <td>A5</td>\n",
       "      <td>K5</td>\n",
       "      <td>NaN</td>\n",
       "      <td>NaN</td>\n",
       "    </tr>\n",
       "    <tr>\n",
       "      <th>5</th>\n",
       "      <td>0</td>\n",
       "      <td>NaN</td>\n",
       "      <td>NaN</td>\n",
       "      <td>B0</td>\n",
       "      <td>K0</td>\n",
       "    </tr>\n",
       "    <tr>\n",
       "      <th>5</th>\n",
       "      <td>1</td>\n",
       "      <td>NaN</td>\n",
       "      <td>NaN</td>\n",
       "      <td>B1</td>\n",
       "      <td>K1</td>\n",
       "    </tr>\n",
       "    <tr>\n",
       "      <th>5</th>\n",
       "      <td>2</td>\n",
       "      <td>NaN</td>\n",
       "      <td>NaN</td>\n",
       "      <td>B2</td>\n",
       "      <td>K2</td>\n",
       "    </tr>\n",
       "  </tbody>\n",
       "</table>\n",
       "</div>"
      ],
      "text/plain": [
       "  key    A key_l    B key_r\n",
       "0  K0   A0    K0  NaN   NaN\n",
       "1  K1   A1    K1  NaN   NaN\n",
       "2  K2   A2    K2  NaN   NaN\n",
       "3  K3   A3    K3  NaN   NaN\n",
       "4  K4   A4    K4  NaN   NaN\n",
       "5  K5   A5    K5  NaN   NaN\n",
       "5   0  NaN   NaN   B0    K0\n",
       "5   1  NaN   NaN   B1    K1\n",
       "5   2  NaN   NaN   B2    K2"
      ]
     },
     "execution_count": 304,
     "metadata": {},
     "output_type": "execute_result"
    }
   ],
   "source": [
    "ex_data.join(other, lsuffix = '_l', rsuffix = '_r', how='outer', on='key')"
   ]
  },
  {
   "cell_type": "markdown",
   "metadata": {},
   "source": [
    "outer: form union of calling frame’s index (or column if on is specified) with other frame’s index, and sort it lexicographically"
   ]
  },
  {
   "cell_type": "code",
   "execution_count": 305,
   "metadata": {
    "collapsed": false,
    "scrolled": true
   },
   "outputs": [
    {
     "data": {
      "text/html": [
       "<div>\n",
       "<table border=\"1\" class=\"dataframe\">\n",
       "  <thead>\n",
       "    <tr style=\"text-align: right;\">\n",
       "      <th></th>\n",
       "      <th>A</th>\n",
       "      <th>key_l</th>\n",
       "      <th>B</th>\n",
       "      <th>key_r</th>\n",
       "    </tr>\n",
       "  </thead>\n",
       "  <tbody>\n",
       "    <tr>\n",
       "      <th>0</th>\n",
       "      <td>A0</td>\n",
       "      <td>K0</td>\n",
       "      <td>B0</td>\n",
       "      <td>K0</td>\n",
       "    </tr>\n",
       "    <tr>\n",
       "      <th>1</th>\n",
       "      <td>A1</td>\n",
       "      <td>K1</td>\n",
       "      <td>B1</td>\n",
       "      <td>K1</td>\n",
       "    </tr>\n",
       "    <tr>\n",
       "      <th>2</th>\n",
       "      <td>A2</td>\n",
       "      <td>K2</td>\n",
       "      <td>B2</td>\n",
       "      <td>K2</td>\n",
       "    </tr>\n",
       "    <tr>\n",
       "      <th>3</th>\n",
       "      <td>A3</td>\n",
       "      <td>K3</td>\n",
       "      <td>NaN</td>\n",
       "      <td>NaN</td>\n",
       "    </tr>\n",
       "    <tr>\n",
       "      <th>4</th>\n",
       "      <td>A4</td>\n",
       "      <td>K4</td>\n",
       "      <td>NaN</td>\n",
       "      <td>NaN</td>\n",
       "    </tr>\n",
       "    <tr>\n",
       "      <th>5</th>\n",
       "      <td>A5</td>\n",
       "      <td>K5</td>\n",
       "      <td>NaN</td>\n",
       "      <td>NaN</td>\n",
       "    </tr>\n",
       "  </tbody>\n",
       "</table>\n",
       "</div>"
      ],
      "text/plain": [
       "    A key_l    B key_r\n",
       "0  A0    K0   B0    K0\n",
       "1  A1    K1   B1    K1\n",
       "2  A2    K2   B2    K2\n",
       "3  A3    K3  NaN   NaN\n",
       "4  A4    K4  NaN   NaN\n",
       "5  A5    K5  NaN   NaN"
      ]
     },
     "execution_count": 305,
     "metadata": {},
     "output_type": "execute_result"
    }
   ],
   "source": [
    "ex_data.join(other, lsuffix = '_l', rsuffix = '_r', how='outer')"
   ]
  },
  {
   "cell_type": "markdown",
   "metadata": {},
   "source": [
    "left : use calling frame's index\n",
    "\n",
    "Column(s)[in this case: A, key] in the caller to join on the index in other, otherwise joins index-on-index. If multiples columns given, the passed DataFrame must have a MultiIndex. Can pass an array as the join key if not already contained in the calling DataFrame."
   ]
  },
  {
   "cell_type": "code",
   "execution_count": 306,
   "metadata": {
    "collapsed": false
   },
   "outputs": [
    {
     "data": {
      "text/html": [
       "<div>\n",
       "<table border=\"1\" class=\"dataframe\">\n",
       "  <thead>\n",
       "    <tr style=\"text-align: right;\">\n",
       "      <th></th>\n",
       "      <th>A</th>\n",
       "      <th>key_l</th>\n",
       "      <th>B</th>\n",
       "      <th>key_r</th>\n",
       "    </tr>\n",
       "  </thead>\n",
       "  <tbody>\n",
       "    <tr>\n",
       "      <th>0</th>\n",
       "      <td>A0</td>\n",
       "      <td>K0</td>\n",
       "      <td>NaN</td>\n",
       "      <td>NaN</td>\n",
       "    </tr>\n",
       "    <tr>\n",
       "      <th>1</th>\n",
       "      <td>A1</td>\n",
       "      <td>K1</td>\n",
       "      <td>NaN</td>\n",
       "      <td>NaN</td>\n",
       "    </tr>\n",
       "    <tr>\n",
       "      <th>2</th>\n",
       "      <td>A2</td>\n",
       "      <td>K2</td>\n",
       "      <td>NaN</td>\n",
       "      <td>NaN</td>\n",
       "    </tr>\n",
       "    <tr>\n",
       "      <th>3</th>\n",
       "      <td>A3</td>\n",
       "      <td>K3</td>\n",
       "      <td>NaN</td>\n",
       "      <td>NaN</td>\n",
       "    </tr>\n",
       "    <tr>\n",
       "      <th>4</th>\n",
       "      <td>A4</td>\n",
       "      <td>K4</td>\n",
       "      <td>NaN</td>\n",
       "      <td>NaN</td>\n",
       "    </tr>\n",
       "    <tr>\n",
       "      <th>5</th>\n",
       "      <td>A5</td>\n",
       "      <td>K5</td>\n",
       "      <td>NaN</td>\n",
       "      <td>NaN</td>\n",
       "    </tr>\n",
       "  </tbody>\n",
       "</table>\n",
       "</div>"
      ],
      "text/plain": [
       "    A key_l    B key_r\n",
       "0  A0    K0  NaN   NaN\n",
       "1  A1    K1  NaN   NaN\n",
       "2  A2    K2  NaN   NaN\n",
       "3  A3    K3  NaN   NaN\n",
       "4  A4    K4  NaN   NaN\n",
       "5  A5    K5  NaN   NaN"
      ]
     },
     "execution_count": 306,
     "metadata": {},
     "output_type": "execute_result"
    }
   ],
   "source": [
    "ex_data.join(other, lsuffix = '_l', rsuffix = '_r', how='left', on='key')"
   ]
  },
  {
   "cell_type": "markdown",
   "metadata": {},
   "source": [
    "left : use calling frame's index"
   ]
  },
  {
   "cell_type": "code",
   "execution_count": 307,
   "metadata": {
    "collapsed": false
   },
   "outputs": [
    {
     "data": {
      "text/html": [
       "<div>\n",
       "<table border=\"1\" class=\"dataframe\">\n",
       "  <thead>\n",
       "    <tr style=\"text-align: right;\">\n",
       "      <th></th>\n",
       "      <th>A</th>\n",
       "      <th>key_l</th>\n",
       "      <th>B</th>\n",
       "      <th>key_r</th>\n",
       "    </tr>\n",
       "  </thead>\n",
       "  <tbody>\n",
       "    <tr>\n",
       "      <th>0</th>\n",
       "      <td>A0</td>\n",
       "      <td>K0</td>\n",
       "      <td>B0</td>\n",
       "      <td>K0</td>\n",
       "    </tr>\n",
       "    <tr>\n",
       "      <th>1</th>\n",
       "      <td>A1</td>\n",
       "      <td>K1</td>\n",
       "      <td>B1</td>\n",
       "      <td>K1</td>\n",
       "    </tr>\n",
       "    <tr>\n",
       "      <th>2</th>\n",
       "      <td>A2</td>\n",
       "      <td>K2</td>\n",
       "      <td>B2</td>\n",
       "      <td>K2</td>\n",
       "    </tr>\n",
       "    <tr>\n",
       "      <th>3</th>\n",
       "      <td>A3</td>\n",
       "      <td>K3</td>\n",
       "      <td>NaN</td>\n",
       "      <td>NaN</td>\n",
       "    </tr>\n",
       "    <tr>\n",
       "      <th>4</th>\n",
       "      <td>A4</td>\n",
       "      <td>K4</td>\n",
       "      <td>NaN</td>\n",
       "      <td>NaN</td>\n",
       "    </tr>\n",
       "    <tr>\n",
       "      <th>5</th>\n",
       "      <td>A5</td>\n",
       "      <td>K5</td>\n",
       "      <td>NaN</td>\n",
       "      <td>NaN</td>\n",
       "    </tr>\n",
       "  </tbody>\n",
       "</table>\n",
       "</div>"
      ],
      "text/plain": [
       "    A key_l    B key_r\n",
       "0  A0    K0   B0    K0\n",
       "1  A1    K1   B1    K1\n",
       "2  A2    K2   B2    K2\n",
       "3  A3    K3  NaN   NaN\n",
       "4  A4    K4  NaN   NaN\n",
       "5  A5    K5  NaN   NaN"
      ]
     },
     "execution_count": 307,
     "metadata": {},
     "output_type": "execute_result"
    }
   ],
   "source": [
    "ex_data.join(other, lsuffix = '_l', rsuffix = '_r', how='left')"
   ]
  },
  {
   "cell_type": "markdown",
   "metadata": {},
   "source": [
    "right: use other frame’s index\n",
    "\n",
    "Column(s)[in this case: key] in the caller to join on the index in other, otherwise joins index-on-index. If multiples columns given, the passed DataFrame must have a MultiIndex. Can pass an array as the join key if not already contained in the calling DataFrame."
   ]
  },
  {
   "cell_type": "code",
   "execution_count": 308,
   "metadata": {
    "collapsed": false
   },
   "outputs": [
    {
     "data": {
      "text/html": [
       "<div>\n",
       "<table border=\"1\" class=\"dataframe\">\n",
       "  <thead>\n",
       "    <tr style=\"text-align: right;\">\n",
       "      <th></th>\n",
       "      <th>key</th>\n",
       "      <th>A</th>\n",
       "      <th>key_l</th>\n",
       "      <th>B</th>\n",
       "      <th>key_r</th>\n",
       "    </tr>\n",
       "  </thead>\n",
       "  <tbody>\n",
       "    <tr>\n",
       "      <th>5</th>\n",
       "      <td>0</td>\n",
       "      <td>NaN</td>\n",
       "      <td>NaN</td>\n",
       "      <td>B0</td>\n",
       "      <td>K0</td>\n",
       "    </tr>\n",
       "    <tr>\n",
       "      <th>5</th>\n",
       "      <td>1</td>\n",
       "      <td>NaN</td>\n",
       "      <td>NaN</td>\n",
       "      <td>B1</td>\n",
       "      <td>K1</td>\n",
       "    </tr>\n",
       "    <tr>\n",
       "      <th>5</th>\n",
       "      <td>2</td>\n",
       "      <td>NaN</td>\n",
       "      <td>NaN</td>\n",
       "      <td>B2</td>\n",
       "      <td>K2</td>\n",
       "    </tr>\n",
       "  </tbody>\n",
       "</table>\n",
       "</div>"
      ],
      "text/plain": [
       "  key    A key_l   B key_r\n",
       "5   0  NaN   NaN  B0    K0\n",
       "5   1  NaN   NaN  B1    K1\n",
       "5   2  NaN   NaN  B2    K2"
      ]
     },
     "execution_count": 308,
     "metadata": {},
     "output_type": "execute_result"
    }
   ],
   "source": [
    "ex_data.join(other, lsuffix = '_l', rsuffix = '_r', how='right', on='key')"
   ]
  },
  {
   "cell_type": "markdown",
   "metadata": {},
   "source": [
    "right: use other frame’s index"
   ]
  },
  {
   "cell_type": "code",
   "execution_count": 309,
   "metadata": {
    "collapsed": false
   },
   "outputs": [
    {
     "data": {
      "text/html": [
       "<div>\n",
       "<table border=\"1\" class=\"dataframe\">\n",
       "  <thead>\n",
       "    <tr style=\"text-align: right;\">\n",
       "      <th></th>\n",
       "      <th>A</th>\n",
       "      <th>key_l</th>\n",
       "      <th>B</th>\n",
       "      <th>key_r</th>\n",
       "    </tr>\n",
       "  </thead>\n",
       "  <tbody>\n",
       "    <tr>\n",
       "      <th>0</th>\n",
       "      <td>A0</td>\n",
       "      <td>K0</td>\n",
       "      <td>B0</td>\n",
       "      <td>K0</td>\n",
       "    </tr>\n",
       "    <tr>\n",
       "      <th>1</th>\n",
       "      <td>A1</td>\n",
       "      <td>K1</td>\n",
       "      <td>B1</td>\n",
       "      <td>K1</td>\n",
       "    </tr>\n",
       "    <tr>\n",
       "      <th>2</th>\n",
       "      <td>A2</td>\n",
       "      <td>K2</td>\n",
       "      <td>B2</td>\n",
       "      <td>K2</td>\n",
       "    </tr>\n",
       "  </tbody>\n",
       "</table>\n",
       "</div>"
      ],
      "text/plain": [
       "    A key_l   B key_r\n",
       "0  A0    K0  B0    K0\n",
       "1  A1    K1  B1    K1\n",
       "2  A2    K2  B2    K2"
      ]
     },
     "execution_count": 309,
     "metadata": {},
     "output_type": "execute_result"
    }
   ],
   "source": [
    "ex_data.join(other, lsuffix = '_l', rsuffix = '_r', how='right')"
   ]
  },
  {
   "cell_type": "markdown",
   "metadata": {},
   "source": [
    "### on \n",
    "\n",
    ": column name, tuple/list of column names, or array-like\n",
    "\n",
    "Column(s) in the caller to join on the index in other, otherwise joins index-on-index. If multiples columns given, the passed DataFrame must have a MultiIndex. Can pass an array as the join key if not already contained in the calling DataFrame. Like an Excel VLOOKUP operation\n",
    "\n",
    "### how \n",
    "\n",
    ": {‘left’, ‘right’, ‘outer’, ‘inner’}, default: ‘left’\n",
    "\n",
    "How to handle the operation of the two objects.\n",
    "\n",
    "- left: use calling frame’s index (or column if on is specified)\n",
    "\n",
    "- right: use other frame’s index\n",
    "\n",
    "- outer: form union of calling frame’s index (or column if on is specified) with other frame’s index, and sort it lexicographically\n",
    "\n",
    "- inner: form intersection of calling frame’s index (or column if on is specified) with other frame’s index, preserving the order of the calling’s one"
   ]
  },
  {
   "cell_type": "markdown",
   "metadata": {},
   "source": [
    "inner: form intersection of calling frame’s index (or column if on is specified) with other frame’s index, preserving the order of the calling’s one\n",
    "\n",
    "Column [in this case, the column 'userId'] in the caller to join on the index in other, otherwise joins index-on-index."
   ]
  },
  {
   "cell_type": "markdown",
   "metadata": {},
   "source": [
    "# 아직 잘 모르겠는 부분.\n",
    "\n",
    "ratings의 순서를 유지하면서(그러니깐, topUsers의 첫 element 118204대신 ratings의 첫 element 8404가 먼저 나옵니다.), ratings와 topUsers의 intersection을 합니다. on='userId'이므로, ratings의 'userId'컬럼을 기준으로, 묶습니다.\n",
    "\n",
    "row의 갯수는 topUsers가 본 영화들의 총합입니다."
   ]
  },
  {
   "cell_type": "code",
   "execution_count": 101,
   "metadata": {
    "collapsed": false,
    "hidden": true
   },
   "outputs": [],
   "source": [
    "top_r = ratings.join(topUsers, rsuffix='_r', how='inner', on='userId')"
   ]
  },
  {
   "cell_type": "code",
   "execution_count": 102,
   "metadata": {
    "collapsed": false
   },
   "outputs": [
    {
     "data": {
      "text/plain": [
       "['userId', 'movieId', 'rating', 'timestamp']"
      ]
     },
     "execution_count": 102,
     "metadata": {},
     "output_type": "execute_result"
    }
   ],
   "source": [
    "list(ratings)"
   ]
  },
  {
   "cell_type": "code",
   "execution_count": 103,
   "metadata": {
    "collapsed": false
   },
   "outputs": [
    {
     "data": {
      "text/plain": [
       "userId\n",
       "546    2391\n",
       "563    1868\n",
       "623    1735\n",
       "14     1700\n",
       "72     1610\n",
       "451    1340\n",
       "467    1291\n",
       "379    1063\n",
       "310    1019\n",
       "29     1011\n",
       "293     947\n",
       "508     923\n",
       "579     922\n",
       "212     910\n",
       "211     876\n",
       "Name: rating, dtype: int64"
      ]
     },
     "execution_count": 103,
     "metadata": {},
     "output_type": "execute_result"
    }
   ],
   "source": [
    "topUsers"
   ]
  },
  {
   "cell_type": "code",
   "execution_count": 104,
   "metadata": {
    "collapsed": false
   },
   "outputs": [
    {
     "data": {
      "text/html": [
       "<div>\n",
       "<table border=\"1\" class=\"dataframe\">\n",
       "  <thead>\n",
       "    <tr style=\"text-align: right;\">\n",
       "      <th></th>\n",
       "      <th>userId</th>\n",
       "      <th>movieId</th>\n",
       "      <th>rating</th>\n",
       "      <th>timestamp</th>\n",
       "      <th>rating_r</th>\n",
       "    </tr>\n",
       "  </thead>\n",
       "  <tbody>\n",
       "    <tr>\n",
       "      <th>962</th>\n",
       "      <td>14</td>\n",
       "      <td>417</td>\n",
       "      <td>2.0</td>\n",
       "      <td>997938310</td>\n",
       "      <td>1700</td>\n",
       "    </tr>\n",
       "    <tr>\n",
       "      <th>963</th>\n",
       "      <td>14</td>\n",
       "      <td>650</td>\n",
       "      <td>2.0</td>\n",
       "      <td>1134521380</td>\n",
       "      <td>1700</td>\n",
       "    </tr>\n",
       "    <tr>\n",
       "      <th>964</th>\n",
       "      <td>14</td>\n",
       "      <td>651</td>\n",
       "      <td>4.5</td>\n",
       "      <td>1093070098</td>\n",
       "      <td>1700</td>\n",
       "    </tr>\n",
       "    <tr>\n",
       "      <th>965</th>\n",
       "      <td>14</td>\n",
       "      <td>652</td>\n",
       "      <td>4.0</td>\n",
       "      <td>1040205753</td>\n",
       "      <td>1700</td>\n",
       "    </tr>\n",
       "    <tr>\n",
       "      <th>966</th>\n",
       "      <td>14</td>\n",
       "      <td>20</td>\n",
       "      <td>3.0</td>\n",
       "      <td>1093028290</td>\n",
       "      <td>1700</td>\n",
       "    </tr>\n",
       "    <tr>\n",
       "      <th>967</th>\n",
       "      <td>14</td>\n",
       "      <td>653</td>\n",
       "      <td>2.5</td>\n",
       "      <td>1093028381</td>\n",
       "      <td>1700</td>\n",
       "    </tr>\n",
       "    <tr>\n",
       "      <th>968</th>\n",
       "      <td>14</td>\n",
       "      <td>654</td>\n",
       "      <td>2.5</td>\n",
       "      <td>1166586286</td>\n",
       "      <td>1700</td>\n",
       "    </tr>\n",
       "    <tr>\n",
       "      <th>969</th>\n",
       "      <td>14</td>\n",
       "      <td>655</td>\n",
       "      <td>3.5</td>\n",
       "      <td>1093070150</td>\n",
       "      <td>1700</td>\n",
       "    </tr>\n",
       "    <tr>\n",
       "      <th>970</th>\n",
       "      <td>14</td>\n",
       "      <td>21</td>\n",
       "      <td>3.0</td>\n",
       "      <td>997939404</td>\n",
       "      <td>1700</td>\n",
       "    </tr>\n",
       "    <tr>\n",
       "      <th>971</th>\n",
       "      <td>14</td>\n",
       "      <td>656</td>\n",
       "      <td>1.0</td>\n",
       "      <td>1093028409</td>\n",
       "      <td>1700</td>\n",
       "    </tr>\n",
       "    <tr>\n",
       "      <th>972</th>\n",
       "      <td>14</td>\n",
       "      <td>418</td>\n",
       "      <td>4.5</td>\n",
       "      <td>1058249528</td>\n",
       "      <td>1700</td>\n",
       "    </tr>\n",
       "    <tr>\n",
       "      <th>973</th>\n",
       "      <td>14</td>\n",
       "      <td>657</td>\n",
       "      <td>2.5</td>\n",
       "      <td>1093070415</td>\n",
       "      <td>1700</td>\n",
       "    </tr>\n",
       "    <tr>\n",
       "      <th>974</th>\n",
       "      <td>14</td>\n",
       "      <td>658</td>\n",
       "      <td>3.0</td>\n",
       "      <td>1033345172</td>\n",
       "      <td>1700</td>\n",
       "    </tr>\n",
       "    <tr>\n",
       "      <th>975</th>\n",
       "      <td>14</td>\n",
       "      <td>447</td>\n",
       "      <td>4.0</td>\n",
       "      <td>997938466</td>\n",
       "      <td>1700</td>\n",
       "    </tr>\n",
       "    <tr>\n",
       "      <th>976</th>\n",
       "      <td>14</td>\n",
       "      <td>139</td>\n",
       "      <td>3.0</td>\n",
       "      <td>997938310</td>\n",
       "      <td>1700</td>\n",
       "    </tr>\n",
       "    <tr>\n",
       "      <th>977</th>\n",
       "      <td>14</td>\n",
       "      <td>504</td>\n",
       "      <td>1.0</td>\n",
       "      <td>1033345287</td>\n",
       "      <td>1700</td>\n",
       "    </tr>\n",
       "    <tr>\n",
       "      <th>978</th>\n",
       "      <td>14</td>\n",
       "      <td>22</td>\n",
       "      <td>2.5</td>\n",
       "      <td>1093028334</td>\n",
       "      <td>1700</td>\n",
       "    </tr>\n",
       "    <tr>\n",
       "      <th>979</th>\n",
       "      <td>14</td>\n",
       "      <td>659</td>\n",
       "      <td>3.0</td>\n",
       "      <td>1122576665</td>\n",
       "      <td>1700</td>\n",
       "    </tr>\n",
       "    <tr>\n",
       "      <th>980</th>\n",
       "      <td>14</td>\n",
       "      <td>23</td>\n",
       "      <td>5.0</td>\n",
       "      <td>1054449816</td>\n",
       "      <td>1700</td>\n",
       "    </tr>\n",
       "    <tr>\n",
       "      <th>981</th>\n",
       "      <td>14</td>\n",
       "      <td>24</td>\n",
       "      <td>5.0</td>\n",
       "      <td>997938500</td>\n",
       "      <td>1700</td>\n",
       "    </tr>\n",
       "    <tr>\n",
       "      <th>982</th>\n",
       "      <td>14</td>\n",
       "      <td>25</td>\n",
       "      <td>2.5</td>\n",
       "      <td>1093070271</td>\n",
       "      <td>1700</td>\n",
       "    </tr>\n",
       "    <tr>\n",
       "      <th>983</th>\n",
       "      <td>14</td>\n",
       "      <td>26</td>\n",
       "      <td>2.0</td>\n",
       "      <td>1093028336</td>\n",
       "      <td>1700</td>\n",
       "    </tr>\n",
       "    <tr>\n",
       "      <th>984</th>\n",
       "      <td>14</td>\n",
       "      <td>547</td>\n",
       "      <td>0.5</td>\n",
       "      <td>1093070467</td>\n",
       "      <td>1700</td>\n",
       "    </tr>\n",
       "    <tr>\n",
       "      <th>985</th>\n",
       "      <td>14</td>\n",
       "      <td>660</td>\n",
       "      <td>5.0</td>\n",
       "      <td>1044220302</td>\n",
       "      <td>1700</td>\n",
       "    </tr>\n",
       "    <tr>\n",
       "      <th>986</th>\n",
       "      <td>14</td>\n",
       "      <td>661</td>\n",
       "      <td>3.0</td>\n",
       "      <td>1166587063</td>\n",
       "      <td>1700</td>\n",
       "    </tr>\n",
       "    <tr>\n",
       "      <th>987</th>\n",
       "      <td>14</td>\n",
       "      <td>662</td>\n",
       "      <td>1.5</td>\n",
       "      <td>1093028331</td>\n",
       "      <td>1700</td>\n",
       "    </tr>\n",
       "    <tr>\n",
       "      <th>988</th>\n",
       "      <td>14</td>\n",
       "      <td>663</td>\n",
       "      <td>4.0</td>\n",
       "      <td>1134522072</td>\n",
       "      <td>1700</td>\n",
       "    </tr>\n",
       "    <tr>\n",
       "      <th>989</th>\n",
       "      <td>14</td>\n",
       "      <td>320</td>\n",
       "      <td>1.0</td>\n",
       "      <td>1093070113</td>\n",
       "      <td>1700</td>\n",
       "    </tr>\n",
       "    <tr>\n",
       "      <th>990</th>\n",
       "      <td>14</td>\n",
       "      <td>664</td>\n",
       "      <td>2.0</td>\n",
       "      <td>1166586594</td>\n",
       "      <td>1700</td>\n",
       "    </tr>\n",
       "    <tr>\n",
       "      <th>991</th>\n",
       "      <td>14</td>\n",
       "      <td>27</td>\n",
       "      <td>3.0</td>\n",
       "      <td>1040205792</td>\n",
       "      <td>1700</td>\n",
       "    </tr>\n",
       "    <tr>\n",
       "      <th>...</th>\n",
       "      <td>...</td>\n",
       "      <td>...</td>\n",
       "      <td>...</td>\n",
       "      <td>...</td>\n",
       "      <td>...</td>\n",
       "    </tr>\n",
       "    <tr>\n",
       "      <th>95239</th>\n",
       "      <td>623</td>\n",
       "      <td>8895</td>\n",
       "      <td>1.0</td>\n",
       "      <td>1462023798</td>\n",
       "      <td>1735</td>\n",
       "    </tr>\n",
       "    <tr>\n",
       "      <th>95240</th>\n",
       "      <td>623</td>\n",
       "      <td>8896</td>\n",
       "      <td>1.5</td>\n",
       "      <td>1462127826</td>\n",
       "      <td>1735</td>\n",
       "    </tr>\n",
       "    <tr>\n",
       "      <th>95241</th>\n",
       "      <td>623</td>\n",
       "      <td>8897</td>\n",
       "      <td>2.5</td>\n",
       "      <td>1451771590</td>\n",
       "      <td>1735</td>\n",
       "    </tr>\n",
       "    <tr>\n",
       "      <th>95242</th>\n",
       "      <td>623</td>\n",
       "      <td>1895</td>\n",
       "      <td>2.0</td>\n",
       "      <td>1458847358</td>\n",
       "      <td>1735</td>\n",
       "    </tr>\n",
       "    <tr>\n",
       "      <th>95243</th>\n",
       "      <td>623</td>\n",
       "      <td>1898</td>\n",
       "      <td>2.0</td>\n",
       "      <td>1474657854</td>\n",
       "      <td>1735</td>\n",
       "    </tr>\n",
       "    <tr>\n",
       "      <th>95244</th>\n",
       "      <td>623</td>\n",
       "      <td>6643</td>\n",
       "      <td>3.5</td>\n",
       "      <td>1443733663</td>\n",
       "      <td>1735</td>\n",
       "    </tr>\n",
       "    <tr>\n",
       "      <th>95245</th>\n",
       "      <td>623</td>\n",
       "      <td>8898</td>\n",
       "      <td>1.5</td>\n",
       "      <td>1450297616</td>\n",
       "      <td>1735</td>\n",
       "    </tr>\n",
       "    <tr>\n",
       "      <th>95246</th>\n",
       "      <td>623</td>\n",
       "      <td>8899</td>\n",
       "      <td>3.0</td>\n",
       "      <td>1467397459</td>\n",
       "      <td>1735</td>\n",
       "    </tr>\n",
       "    <tr>\n",
       "      <th>95247</th>\n",
       "      <td>623</td>\n",
       "      <td>8900</td>\n",
       "      <td>3.0</td>\n",
       "      <td>1465727277</td>\n",
       "      <td>1735</td>\n",
       "    </tr>\n",
       "    <tr>\n",
       "      <th>95248</th>\n",
       "      <td>623</td>\n",
       "      <td>8901</td>\n",
       "      <td>2.0</td>\n",
       "      <td>1468319799</td>\n",
       "      <td>1735</td>\n",
       "    </tr>\n",
       "    <tr>\n",
       "      <th>95249</th>\n",
       "      <td>623</td>\n",
       "      <td>8902</td>\n",
       "      <td>2.0</td>\n",
       "      <td>1472294240</td>\n",
       "      <td>1735</td>\n",
       "    </tr>\n",
       "    <tr>\n",
       "      <th>95250</th>\n",
       "      <td>623</td>\n",
       "      <td>8903</td>\n",
       "      <td>3.0</td>\n",
       "      <td>1462187665</td>\n",
       "      <td>1735</td>\n",
       "    </tr>\n",
       "    <tr>\n",
       "      <th>95251</th>\n",
       "      <td>623</td>\n",
       "      <td>8904</td>\n",
       "      <td>2.5</td>\n",
       "      <td>1475668765</td>\n",
       "      <td>1735</td>\n",
       "    </tr>\n",
       "    <tr>\n",
       "      <th>95252</th>\n",
       "      <td>623</td>\n",
       "      <td>6644</td>\n",
       "      <td>3.0</td>\n",
       "      <td>1472492996</td>\n",
       "      <td>1735</td>\n",
       "    </tr>\n",
       "    <tr>\n",
       "      <th>95253</th>\n",
       "      <td>623</td>\n",
       "      <td>8905</td>\n",
       "      <td>2.0</td>\n",
       "      <td>1473962172</td>\n",
       "      <td>1735</td>\n",
       "    </tr>\n",
       "    <tr>\n",
       "      <th>95254</th>\n",
       "      <td>623</td>\n",
       "      <td>6025</td>\n",
       "      <td>2.5</td>\n",
       "      <td>1476465026</td>\n",
       "      <td>1735</td>\n",
       "    </tr>\n",
       "    <tr>\n",
       "      <th>95255</th>\n",
       "      <td>623</td>\n",
       "      <td>8906</td>\n",
       "      <td>1.5</td>\n",
       "      <td>1474309547</td>\n",
       "      <td>1735</td>\n",
       "    </tr>\n",
       "    <tr>\n",
       "      <th>95256</th>\n",
       "      <td>623</td>\n",
       "      <td>8907</td>\n",
       "      <td>2.5</td>\n",
       "      <td>1461356507</td>\n",
       "      <td>1735</td>\n",
       "    </tr>\n",
       "    <tr>\n",
       "      <th>95257</th>\n",
       "      <td>623</td>\n",
       "      <td>8908</td>\n",
       "      <td>2.0</td>\n",
       "      <td>1474224802</td>\n",
       "      <td>1735</td>\n",
       "    </tr>\n",
       "    <tr>\n",
       "      <th>95258</th>\n",
       "      <td>623</td>\n",
       "      <td>8909</td>\n",
       "      <td>1.5</td>\n",
       "      <td>1459171686</td>\n",
       "      <td>1735</td>\n",
       "    </tr>\n",
       "    <tr>\n",
       "      <th>95259</th>\n",
       "      <td>623</td>\n",
       "      <td>8910</td>\n",
       "      <td>1.5</td>\n",
       "      <td>1474972061</td>\n",
       "      <td>1735</td>\n",
       "    </tr>\n",
       "    <tr>\n",
       "      <th>95260</th>\n",
       "      <td>623</td>\n",
       "      <td>8911</td>\n",
       "      <td>3.0</td>\n",
       "      <td>1476465033</td>\n",
       "      <td>1735</td>\n",
       "    </tr>\n",
       "    <tr>\n",
       "      <th>95261</th>\n",
       "      <td>623</td>\n",
       "      <td>8912</td>\n",
       "      <td>2.0</td>\n",
       "      <td>1472820632</td>\n",
       "      <td>1735</td>\n",
       "    </tr>\n",
       "    <tr>\n",
       "      <th>95262</th>\n",
       "      <td>623</td>\n",
       "      <td>8913</td>\n",
       "      <td>2.5</td>\n",
       "      <td>1464975088</td>\n",
       "      <td>1735</td>\n",
       "    </tr>\n",
       "    <tr>\n",
       "      <th>95263</th>\n",
       "      <td>623</td>\n",
       "      <td>8914</td>\n",
       "      <td>2.0</td>\n",
       "      <td>1472845892</td>\n",
       "      <td>1735</td>\n",
       "    </tr>\n",
       "    <tr>\n",
       "      <th>95264</th>\n",
       "      <td>623</td>\n",
       "      <td>8915</td>\n",
       "      <td>3.0</td>\n",
       "      <td>1471897318</td>\n",
       "      <td>1735</td>\n",
       "    </tr>\n",
       "    <tr>\n",
       "      <th>95265</th>\n",
       "      <td>623</td>\n",
       "      <td>8916</td>\n",
       "      <td>1.5</td>\n",
       "      <td>1476469445</td>\n",
       "      <td>1735</td>\n",
       "    </tr>\n",
       "    <tr>\n",
       "      <th>95266</th>\n",
       "      <td>623</td>\n",
       "      <td>8917</td>\n",
       "      <td>1.5</td>\n",
       "      <td>1470510722</td>\n",
       "      <td>1735</td>\n",
       "    </tr>\n",
       "    <tr>\n",
       "      <th>95267</th>\n",
       "      <td>623</td>\n",
       "      <td>8918</td>\n",
       "      <td>1.0</td>\n",
       "      <td>1472493010</td>\n",
       "      <td>1735</td>\n",
       "    </tr>\n",
       "    <tr>\n",
       "      <th>95268</th>\n",
       "      <td>623</td>\n",
       "      <td>8919</td>\n",
       "      <td>1.5</td>\n",
       "      <td>1472929873</td>\n",
       "      <td>1735</td>\n",
       "    </tr>\n",
       "  </tbody>\n",
       "</table>\n",
       "<p>19606 rows × 5 columns</p>\n",
       "</div>"
      ],
      "text/plain": [
       "       userId  movieId  rating   timestamp  rating_r\n",
       "962        14      417     2.0   997938310      1700\n",
       "963        14      650     2.0  1134521380      1700\n",
       "964        14      651     4.5  1093070098      1700\n",
       "965        14      652     4.0  1040205753      1700\n",
       "966        14       20     3.0  1093028290      1700\n",
       "967        14      653     2.5  1093028381      1700\n",
       "968        14      654     2.5  1166586286      1700\n",
       "969        14      655     3.5  1093070150      1700\n",
       "970        14       21     3.0   997939404      1700\n",
       "971        14      656     1.0  1093028409      1700\n",
       "972        14      418     4.5  1058249528      1700\n",
       "973        14      657     2.5  1093070415      1700\n",
       "974        14      658     3.0  1033345172      1700\n",
       "975        14      447     4.0   997938466      1700\n",
       "976        14      139     3.0   997938310      1700\n",
       "977        14      504     1.0  1033345287      1700\n",
       "978        14       22     2.5  1093028334      1700\n",
       "979        14      659     3.0  1122576665      1700\n",
       "980        14       23     5.0  1054449816      1700\n",
       "981        14       24     5.0   997938500      1700\n",
       "982        14       25     2.5  1093070271      1700\n",
       "983        14       26     2.0  1093028336      1700\n",
       "984        14      547     0.5  1093070467      1700\n",
       "985        14      660     5.0  1044220302      1700\n",
       "986        14      661     3.0  1166587063      1700\n",
       "987        14      662     1.5  1093028331      1700\n",
       "988        14      663     4.0  1134522072      1700\n",
       "989        14      320     1.0  1093070113      1700\n",
       "990        14      664     2.0  1166586594      1700\n",
       "991        14       27     3.0  1040205792      1700\n",
       "...       ...      ...     ...         ...       ...\n",
       "95239     623     8895     1.0  1462023798      1735\n",
       "95240     623     8896     1.5  1462127826      1735\n",
       "95241     623     8897     2.5  1451771590      1735\n",
       "95242     623     1895     2.0  1458847358      1735\n",
       "95243     623     1898     2.0  1474657854      1735\n",
       "95244     623     6643     3.5  1443733663      1735\n",
       "95245     623     8898     1.5  1450297616      1735\n",
       "95246     623     8899     3.0  1467397459      1735\n",
       "95247     623     8900     3.0  1465727277      1735\n",
       "95248     623     8901     2.0  1468319799      1735\n",
       "95249     623     8902     2.0  1472294240      1735\n",
       "95250     623     8903     3.0  1462187665      1735\n",
       "95251     623     8904     2.5  1475668765      1735\n",
       "95252     623     6644     3.0  1472492996      1735\n",
       "95253     623     8905     2.0  1473962172      1735\n",
       "95254     623     6025     2.5  1476465026      1735\n",
       "95255     623     8906     1.5  1474309547      1735\n",
       "95256     623     8907     2.5  1461356507      1735\n",
       "95257     623     8908     2.0  1474224802      1735\n",
       "95258     623     8909     1.5  1459171686      1735\n",
       "95259     623     8910     1.5  1474972061      1735\n",
       "95260     623     8911     3.0  1476465033      1735\n",
       "95261     623     8912     2.0  1472820632      1735\n",
       "95262     623     8913     2.5  1464975088      1735\n",
       "95263     623     8914     2.0  1472845892      1735\n",
       "95264     623     8915     3.0  1471897318      1735\n",
       "95265     623     8916     1.5  1476469445      1735\n",
       "95266     623     8917     1.5  1470510722      1735\n",
       "95267     623     8918     1.0  1472493010      1735\n",
       "95268     623     8919     1.5  1472929873      1735\n",
       "\n",
       "[19606 rows x 5 columns]"
      ]
     },
     "execution_count": 104,
     "metadata": {},
     "output_type": "execute_result"
    }
   ],
   "source": [
    "top_r"
   ]
  },
  {
   "cell_type": "code",
   "execution_count": 105,
   "metadata": {
    "collapsed": false,
    "hidden": true
   },
   "outputs": [],
   "source": [
    "top_r = top_r.join(topMovies, rsuffix='_r', how='inner', on='movieId')"
   ]
  },
  {
   "cell_type": "code",
   "execution_count": 106,
   "metadata": {
    "collapsed": false
   },
   "outputs": [
    {
     "data": {
      "text/html": [
       "<div>\n",
       "<table border=\"1\" class=\"dataframe\">\n",
       "  <thead>\n",
       "    <tr style=\"text-align: right;\">\n",
       "      <th></th>\n",
       "      <th>userId</th>\n",
       "      <th>movieId</th>\n",
       "      <th>rating</th>\n",
       "      <th>timestamp</th>\n",
       "      <th>rating_r</th>\n",
       "      <th>rating_r</th>\n",
       "    </tr>\n",
       "  </thead>\n",
       "  <tbody>\n",
       "    <tr>\n",
       "      <th>962</th>\n",
       "      <td>14</td>\n",
       "      <td>417</td>\n",
       "      <td>2.0</td>\n",
       "      <td>997938310</td>\n",
       "      <td>1700</td>\n",
       "      <td>247</td>\n",
       "    </tr>\n",
       "    <tr>\n",
       "      <th>5048</th>\n",
       "      <td>29</td>\n",
       "      <td>417</td>\n",
       "      <td>4.0</td>\n",
       "      <td>944943070</td>\n",
       "      <td>1011</td>\n",
       "      <td>247</td>\n",
       "    </tr>\n",
       "    <tr>\n",
       "      <th>10214</th>\n",
       "      <td>72</td>\n",
       "      <td>417</td>\n",
       "      <td>5.0</td>\n",
       "      <td>1303464840</td>\n",
       "      <td>1610</td>\n",
       "      <td>247</td>\n",
       "    </tr>\n",
       "    <tr>\n",
       "      <th>28390</th>\n",
       "      <td>211</td>\n",
       "      <td>417</td>\n",
       "      <td>3.0</td>\n",
       "      <td>1218405007</td>\n",
       "      <td>876</td>\n",
       "      <td>247</td>\n",
       "    </tr>\n",
       "    <tr>\n",
       "      <th>29266</th>\n",
       "      <td>212</td>\n",
       "      <td>417</td>\n",
       "      <td>3.0</td>\n",
       "      <td>1462637445</td>\n",
       "      <td>910</td>\n",
       "      <td>247</td>\n",
       "    </tr>\n",
       "    <tr>\n",
       "      <th>40153</th>\n",
       "      <td>293</td>\n",
       "      <td>417</td>\n",
       "      <td>4.0</td>\n",
       "      <td>1047071649</td>\n",
       "      <td>947</td>\n",
       "      <td>247</td>\n",
       "    </tr>\n",
       "    <tr>\n",
       "      <th>43329</th>\n",
       "      <td>310</td>\n",
       "      <td>417</td>\n",
       "      <td>3.0</td>\n",
       "      <td>898007830</td>\n",
       "      <td>1019</td>\n",
       "      <td>247</td>\n",
       "    </tr>\n",
       "    <tr>\n",
       "      <th>51144</th>\n",
       "      <td>379</td>\n",
       "      <td>417</td>\n",
       "      <td>4.0</td>\n",
       "      <td>1048092869</td>\n",
       "      <td>1063</td>\n",
       "      <td>247</td>\n",
       "    </tr>\n",
       "    <tr>\n",
       "      <th>61432</th>\n",
       "      <td>451</td>\n",
       "      <td>417</td>\n",
       "      <td>3.5</td>\n",
       "      <td>1133735252</td>\n",
       "      <td>1340</td>\n",
       "      <td>247</td>\n",
       "    </tr>\n",
       "    <tr>\n",
       "      <th>65657</th>\n",
       "      <td>467</td>\n",
       "      <td>417</td>\n",
       "      <td>4.0</td>\n",
       "      <td>1296195523</td>\n",
       "      <td>1291</td>\n",
       "      <td>247</td>\n",
       "    </tr>\n",
       "    <tr>\n",
       "      <th>72287</th>\n",
       "      <td>508</td>\n",
       "      <td>417</td>\n",
       "      <td>3.0</td>\n",
       "      <td>939329344</td>\n",
       "      <td>923</td>\n",
       "      <td>247</td>\n",
       "    </tr>\n",
       "    <tr>\n",
       "      <th>78433</th>\n",
       "      <td>546</td>\n",
       "      <td>417</td>\n",
       "      <td>3.5</td>\n",
       "      <td>1053173138</td>\n",
       "      <td>2391</td>\n",
       "      <td>247</td>\n",
       "    </tr>\n",
       "    <tr>\n",
       "      <th>82824</th>\n",
       "      <td>563</td>\n",
       "      <td>417</td>\n",
       "      <td>4.0</td>\n",
       "      <td>974712079</td>\n",
       "      <td>1868</td>\n",
       "      <td>247</td>\n",
       "    </tr>\n",
       "    <tr>\n",
       "      <th>86489</th>\n",
       "      <td>579</td>\n",
       "      <td>417</td>\n",
       "      <td>4.0</td>\n",
       "      <td>1155616380</td>\n",
       "      <td>922</td>\n",
       "      <td>247</td>\n",
       "    </tr>\n",
       "    <tr>\n",
       "      <th>93534</th>\n",
       "      <td>623</td>\n",
       "      <td>417</td>\n",
       "      <td>5.0</td>\n",
       "      <td>1019126661</td>\n",
       "      <td>1735</td>\n",
       "      <td>247</td>\n",
       "    </tr>\n",
       "    <tr>\n",
       "      <th>991</th>\n",
       "      <td>14</td>\n",
       "      <td>27</td>\n",
       "      <td>3.0</td>\n",
       "      <td>1040205792</td>\n",
       "      <td>1700</td>\n",
       "      <td>228</td>\n",
       "    </tr>\n",
       "    <tr>\n",
       "      <th>5070</th>\n",
       "      <td>29</td>\n",
       "      <td>27</td>\n",
       "      <td>5.0</td>\n",
       "      <td>945122218</td>\n",
       "      <td>1011</td>\n",
       "      <td>228</td>\n",
       "    </tr>\n",
       "    <tr>\n",
       "      <th>10241</th>\n",
       "      <td>72</td>\n",
       "      <td>27</td>\n",
       "      <td>4.0</td>\n",
       "      <td>1255508598</td>\n",
       "      <td>1610</td>\n",
       "      <td>228</td>\n",
       "    </tr>\n",
       "    <tr>\n",
       "      <th>28408</th>\n",
       "      <td>211</td>\n",
       "      <td>27</td>\n",
       "      <td>5.0</td>\n",
       "      <td>1218399244</td>\n",
       "      <td>876</td>\n",
       "      <td>228</td>\n",
       "    </tr>\n",
       "    <tr>\n",
       "      <th>29282</th>\n",
       "      <td>212</td>\n",
       "      <td>27</td>\n",
       "      <td>2.5</td>\n",
       "      <td>1462640515</td>\n",
       "      <td>910</td>\n",
       "      <td>228</td>\n",
       "    </tr>\n",
       "    <tr>\n",
       "      <th>40171</th>\n",
       "      <td>293</td>\n",
       "      <td>27</td>\n",
       "      <td>3.0</td>\n",
       "      <td>1054068398</td>\n",
       "      <td>947</td>\n",
       "      <td>228</td>\n",
       "    </tr>\n",
       "    <tr>\n",
       "      <th>43365</th>\n",
       "      <td>310</td>\n",
       "      <td>27</td>\n",
       "      <td>3.0</td>\n",
       "      <td>898008040</td>\n",
       "      <td>1019</td>\n",
       "      <td>228</td>\n",
       "    </tr>\n",
       "    <tr>\n",
       "      <th>51161</th>\n",
       "      <td>379</td>\n",
       "      <td>27</td>\n",
       "      <td>5.0</td>\n",
       "      <td>949368612</td>\n",
       "      <td>1063</td>\n",
       "      <td>228</td>\n",
       "    </tr>\n",
       "    <tr>\n",
       "      <th>61465</th>\n",
       "      <td>451</td>\n",
       "      <td>27</td>\n",
       "      <td>4.0</td>\n",
       "      <td>976425416</td>\n",
       "      <td>1340</td>\n",
       "      <td>228</td>\n",
       "    </tr>\n",
       "    <tr>\n",
       "      <th>65683</th>\n",
       "      <td>467</td>\n",
       "      <td>27</td>\n",
       "      <td>3.0</td>\n",
       "      <td>1296195515</td>\n",
       "      <td>1291</td>\n",
       "      <td>228</td>\n",
       "    </tr>\n",
       "    <tr>\n",
       "      <th>72318</th>\n",
       "      <td>508</td>\n",
       "      <td>27</td>\n",
       "      <td>5.0</td>\n",
       "      <td>939339943</td>\n",
       "      <td>923</td>\n",
       "      <td>228</td>\n",
       "    </tr>\n",
       "    <tr>\n",
       "      <th>82890</th>\n",
       "      <td>563</td>\n",
       "      <td>27</td>\n",
       "      <td>1.0</td>\n",
       "      <td>974711555</td>\n",
       "      <td>1868</td>\n",
       "      <td>228</td>\n",
       "    </tr>\n",
       "    <tr>\n",
       "      <th>86512</th>\n",
       "      <td>579</td>\n",
       "      <td>27</td>\n",
       "      <td>4.5</td>\n",
       "      <td>1155485834</td>\n",
       "      <td>922</td>\n",
       "      <td>228</td>\n",
       "    </tr>\n",
       "    <tr>\n",
       "      <th>1032</th>\n",
       "      <td>14</td>\n",
       "      <td>143</td>\n",
       "      <td>5.0</td>\n",
       "      <td>997938437</td>\n",
       "      <td>1700</td>\n",
       "      <td>291</td>\n",
       "    </tr>\n",
       "    <tr>\n",
       "      <th>5090</th>\n",
       "      <td>29</td>\n",
       "      <td>143</td>\n",
       "      <td>4.0</td>\n",
       "      <td>948167472</td>\n",
       "      <td>1011</td>\n",
       "      <td>291</td>\n",
       "    </tr>\n",
       "    <tr>\n",
       "      <th>...</th>\n",
       "      <td>...</td>\n",
       "      <td>...</td>\n",
       "      <td>...</td>\n",
       "      <td>...</td>\n",
       "      <td>...</td>\n",
       "      <td>...</td>\n",
       "    </tr>\n",
       "    <tr>\n",
       "      <th>1248</th>\n",
       "      <td>14</td>\n",
       "      <td>197</td>\n",
       "      <td>5.0</td>\n",
       "      <td>997938451</td>\n",
       "      <td>1700</td>\n",
       "      <td>226</td>\n",
       "    </tr>\n",
       "    <tr>\n",
       "      <th>5292</th>\n",
       "      <td>29</td>\n",
       "      <td>197</td>\n",
       "      <td>5.0</td>\n",
       "      <td>951010688</td>\n",
       "      <td>1011</td>\n",
       "      <td>226</td>\n",
       "    </tr>\n",
       "    <tr>\n",
       "      <th>10449</th>\n",
       "      <td>72</td>\n",
       "      <td>197</td>\n",
       "      <td>5.0</td>\n",
       "      <td>1285479373</td>\n",
       "      <td>1610</td>\n",
       "      <td>226</td>\n",
       "    </tr>\n",
       "    <tr>\n",
       "      <th>28574</th>\n",
       "      <td>211</td>\n",
       "      <td>197</td>\n",
       "      <td>3.0</td>\n",
       "      <td>1218403561</td>\n",
       "      <td>876</td>\n",
       "      <td>226</td>\n",
       "    </tr>\n",
       "    <tr>\n",
       "      <th>29399</th>\n",
       "      <td>212</td>\n",
       "      <td>197</td>\n",
       "      <td>3.0</td>\n",
       "      <td>1462637492</td>\n",
       "      <td>910</td>\n",
       "      <td>226</td>\n",
       "    </tr>\n",
       "    <tr>\n",
       "      <th>40354</th>\n",
       "      <td>293</td>\n",
       "      <td>197</td>\n",
       "      <td>4.0</td>\n",
       "      <td>1161746877</td>\n",
       "      <td>947</td>\n",
       "      <td>226</td>\n",
       "    </tr>\n",
       "    <tr>\n",
       "      <th>43700</th>\n",
       "      <td>310</td>\n",
       "      <td>197</td>\n",
       "      <td>4.5</td>\n",
       "      <td>1062016011</td>\n",
       "      <td>1019</td>\n",
       "      <td>226</td>\n",
       "    </tr>\n",
       "    <tr>\n",
       "      <th>51263</th>\n",
       "      <td>379</td>\n",
       "      <td>197</td>\n",
       "      <td>3.0</td>\n",
       "      <td>949367239</td>\n",
       "      <td>1063</td>\n",
       "      <td>226</td>\n",
       "    </tr>\n",
       "    <tr>\n",
       "      <th>61724</th>\n",
       "      <td>451</td>\n",
       "      <td>197</td>\n",
       "      <td>4.0</td>\n",
       "      <td>989112202</td>\n",
       "      <td>1340</td>\n",
       "      <td>226</td>\n",
       "    </tr>\n",
       "    <tr>\n",
       "      <th>65922</th>\n",
       "      <td>467</td>\n",
       "      <td>197</td>\n",
       "      <td>3.0</td>\n",
       "      <td>1296191518</td>\n",
       "      <td>1291</td>\n",
       "      <td>226</td>\n",
       "    </tr>\n",
       "    <tr>\n",
       "      <th>72571</th>\n",
       "      <td>508</td>\n",
       "      <td>197</td>\n",
       "      <td>3.0</td>\n",
       "      <td>1093299730</td>\n",
       "      <td>923</td>\n",
       "      <td>226</td>\n",
       "    </tr>\n",
       "    <tr>\n",
       "      <th>78762</th>\n",
       "      <td>546</td>\n",
       "      <td>197</td>\n",
       "      <td>3.5</td>\n",
       "      <td>1053172545</td>\n",
       "      <td>2391</td>\n",
       "      <td>226</td>\n",
       "    </tr>\n",
       "    <tr>\n",
       "      <th>83446</th>\n",
       "      <td>563</td>\n",
       "      <td>197</td>\n",
       "      <td>3.0</td>\n",
       "      <td>974832715</td>\n",
       "      <td>1868</td>\n",
       "      <td>226</td>\n",
       "    </tr>\n",
       "    <tr>\n",
       "      <th>86716</th>\n",
       "      <td>579</td>\n",
       "      <td>197</td>\n",
       "      <td>3.0</td>\n",
       "      <td>1155616690</td>\n",
       "      <td>922</td>\n",
       "      <td>226</td>\n",
       "    </tr>\n",
       "    <tr>\n",
       "      <th>93728</th>\n",
       "      <td>623</td>\n",
       "      <td>197</td>\n",
       "      <td>5.0</td>\n",
       "      <td>1019127202</td>\n",
       "      <td>1735</td>\n",
       "      <td>226</td>\n",
       "    </tr>\n",
       "    <tr>\n",
       "      <th>1481</th>\n",
       "      <td>14</td>\n",
       "      <td>402</td>\n",
       "      <td>5.0</td>\n",
       "      <td>997938438</td>\n",
       "      <td>1700</td>\n",
       "      <td>259</td>\n",
       "    </tr>\n",
       "    <tr>\n",
       "      <th>5551</th>\n",
       "      <td>29</td>\n",
       "      <td>402</td>\n",
       "      <td>3.0</td>\n",
       "      <td>945117284</td>\n",
       "      <td>1011</td>\n",
       "      <td>259</td>\n",
       "    </tr>\n",
       "    <tr>\n",
       "      <th>10672</th>\n",
       "      <td>72</td>\n",
       "      <td>402</td>\n",
       "      <td>4.5</td>\n",
       "      <td>1282543426</td>\n",
       "      <td>1610</td>\n",
       "      <td>259</td>\n",
       "    </tr>\n",
       "    <tr>\n",
       "      <th>28720</th>\n",
       "      <td>211</td>\n",
       "      <td>402</td>\n",
       "      <td>5.0</td>\n",
       "      <td>1218399610</td>\n",
       "      <td>876</td>\n",
       "      <td>259</td>\n",
       "    </tr>\n",
       "    <tr>\n",
       "      <th>29526</th>\n",
       "      <td>212</td>\n",
       "      <td>402</td>\n",
       "      <td>4.0</td>\n",
       "      <td>1462633918</td>\n",
       "      <td>910</td>\n",
       "      <td>259</td>\n",
       "    </tr>\n",
       "    <tr>\n",
       "      <th>40535</th>\n",
       "      <td>293</td>\n",
       "      <td>402</td>\n",
       "      <td>4.5</td>\n",
       "      <td>1055278632</td>\n",
       "      <td>947</td>\n",
       "      <td>259</td>\n",
       "    </tr>\n",
       "    <tr>\n",
       "      <th>43917</th>\n",
       "      <td>310</td>\n",
       "      <td>402</td>\n",
       "      <td>4.0</td>\n",
       "      <td>930667693</td>\n",
       "      <td>1019</td>\n",
       "      <td>259</td>\n",
       "    </tr>\n",
       "    <tr>\n",
       "      <th>51380</th>\n",
       "      <td>379</td>\n",
       "      <td>402</td>\n",
       "      <td>5.0</td>\n",
       "      <td>949368060</td>\n",
       "      <td>1063</td>\n",
       "      <td>259</td>\n",
       "    </tr>\n",
       "    <tr>\n",
       "      <th>62009</th>\n",
       "      <td>451</td>\n",
       "      <td>402</td>\n",
       "      <td>2.0</td>\n",
       "      <td>976423675</td>\n",
       "      <td>1340</td>\n",
       "      <td>259</td>\n",
       "    </tr>\n",
       "    <tr>\n",
       "      <th>66151</th>\n",
       "      <td>467</td>\n",
       "      <td>402</td>\n",
       "      <td>3.0</td>\n",
       "      <td>1296195542</td>\n",
       "      <td>1291</td>\n",
       "      <td>259</td>\n",
       "    </tr>\n",
       "    <tr>\n",
       "      <th>72822</th>\n",
       "      <td>508</td>\n",
       "      <td>402</td>\n",
       "      <td>4.5</td>\n",
       "      <td>1093279062</td>\n",
       "      <td>923</td>\n",
       "      <td>259</td>\n",
       "    </tr>\n",
       "    <tr>\n",
       "      <th>79045</th>\n",
       "      <td>546</td>\n",
       "      <td>402</td>\n",
       "      <td>3.5</td>\n",
       "      <td>1053171807</td>\n",
       "      <td>2391</td>\n",
       "      <td>259</td>\n",
       "    </tr>\n",
       "    <tr>\n",
       "      <th>84114</th>\n",
       "      <td>563</td>\n",
       "      <td>402</td>\n",
       "      <td>3.0</td>\n",
       "      <td>974712259</td>\n",
       "      <td>1868</td>\n",
       "      <td>259</td>\n",
       "    </tr>\n",
       "    <tr>\n",
       "      <th>86903</th>\n",
       "      <td>579</td>\n",
       "      <td>402</td>\n",
       "      <td>4.5</td>\n",
       "      <td>1220561591</td>\n",
       "      <td>922</td>\n",
       "      <td>259</td>\n",
       "    </tr>\n",
       "    <tr>\n",
       "      <th>93939</th>\n",
       "      <td>623</td>\n",
       "      <td>402</td>\n",
       "      <td>2.0</td>\n",
       "      <td>1162753923</td>\n",
       "      <td>1735</td>\n",
       "      <td>259</td>\n",
       "    </tr>\n",
       "  </tbody>\n",
       "</table>\n",
       "<p>206 rows × 6 columns</p>\n",
       "</div>"
      ],
      "text/plain": [
       "       userId  movieId  rating   timestamp  rating_r  rating_r\n",
       "962        14      417     2.0   997938310      1700       247\n",
       "5048       29      417     4.0   944943070      1011       247\n",
       "10214      72      417     5.0  1303464840      1610       247\n",
       "28390     211      417     3.0  1218405007       876       247\n",
       "29266     212      417     3.0  1462637445       910       247\n",
       "40153     293      417     4.0  1047071649       947       247\n",
       "43329     310      417     3.0   898007830      1019       247\n",
       "51144     379      417     4.0  1048092869      1063       247\n",
       "61432     451      417     3.5  1133735252      1340       247\n",
       "65657     467      417     4.0  1296195523      1291       247\n",
       "72287     508      417     3.0   939329344       923       247\n",
       "78433     546      417     3.5  1053173138      2391       247\n",
       "82824     563      417     4.0   974712079      1868       247\n",
       "86489     579      417     4.0  1155616380       922       247\n",
       "93534     623      417     5.0  1019126661      1735       247\n",
       "991        14       27     3.0  1040205792      1700       228\n",
       "5070       29       27     5.0   945122218      1011       228\n",
       "10241      72       27     4.0  1255508598      1610       228\n",
       "28408     211       27     5.0  1218399244       876       228\n",
       "29282     212       27     2.5  1462640515       910       228\n",
       "40171     293       27     3.0  1054068398       947       228\n",
       "43365     310       27     3.0   898008040      1019       228\n",
       "51161     379       27     5.0   949368612      1063       228\n",
       "61465     451       27     4.0   976425416      1340       228\n",
       "65683     467       27     3.0  1296195515      1291       228\n",
       "72318     508       27     5.0   939339943       923       228\n",
       "82890     563       27     1.0   974711555      1868       228\n",
       "86512     579       27     4.5  1155485834       922       228\n",
       "1032       14      143     5.0   997938437      1700       291\n",
       "5090       29      143     4.0   948167472      1011       291\n",
       "...       ...      ...     ...         ...       ...       ...\n",
       "1248       14      197     5.0   997938451      1700       226\n",
       "5292       29      197     5.0   951010688      1011       226\n",
       "10449      72      197     5.0  1285479373      1610       226\n",
       "28574     211      197     3.0  1218403561       876       226\n",
       "29399     212      197     3.0  1462637492       910       226\n",
       "40354     293      197     4.0  1161746877       947       226\n",
       "43700     310      197     4.5  1062016011      1019       226\n",
       "51263     379      197     3.0   949367239      1063       226\n",
       "61724     451      197     4.0   989112202      1340       226\n",
       "65922     467      197     3.0  1296191518      1291       226\n",
       "72571     508      197     3.0  1093299730       923       226\n",
       "78762     546      197     3.5  1053172545      2391       226\n",
       "83446     563      197     3.0   974832715      1868       226\n",
       "86716     579      197     3.0  1155616690       922       226\n",
       "93728     623      197     5.0  1019127202      1735       226\n",
       "1481       14      402     5.0   997938438      1700       259\n",
       "5551       29      402     3.0   945117284      1011       259\n",
       "10672      72      402     4.5  1282543426      1610       259\n",
       "28720     211      402     5.0  1218399610       876       259\n",
       "29526     212      402     4.0  1462633918       910       259\n",
       "40535     293      402     4.5  1055278632       947       259\n",
       "43917     310      402     4.0   930667693      1019       259\n",
       "51380     379      402     5.0   949368060      1063       259\n",
       "62009     451      402     2.0   976423675      1340       259\n",
       "66151     467      402     3.0  1296195542      1291       259\n",
       "72822     508      402     4.5  1093279062       923       259\n",
       "79045     546      402     3.5  1053171807      2391       259\n",
       "84114     563      402     3.0   974712259      1868       259\n",
       "86903     579      402     4.5  1220561591       922       259\n",
       "93939     623      402     2.0  1162753923      1735       259\n",
       "\n",
       "[206 rows x 6 columns]"
      ]
     },
     "execution_count": 106,
     "metadata": {},
     "output_type": "execute_result"
    }
   ],
   "source": [
    "top_r"
   ]
  },
  {
   "cell_type": "code",
   "execution_count": 112,
   "metadata": {
    "collapsed": false,
    "hidden": true,
    "scrolled": true
   },
   "outputs": [
    {
     "data": {
      "text/html": [
       "<div>\n",
       "<table border=\"1\" class=\"dataframe\">\n",
       "  <thead>\n",
       "    <tr style=\"text-align: right;\">\n",
       "      <th>movieId</th>\n",
       "      <th>27</th>\n",
       "      <th>49</th>\n",
       "      <th>57</th>\n",
       "      <th>72</th>\n",
       "      <th>79</th>\n",
       "      <th>89</th>\n",
       "      <th>92</th>\n",
       "      <th>99</th>\n",
       "      <th>143</th>\n",
       "      <th>179</th>\n",
       "      <th>180</th>\n",
       "      <th>197</th>\n",
       "      <th>402</th>\n",
       "      <th>417</th>\n",
       "      <th>505</th>\n",
       "    </tr>\n",
       "    <tr>\n",
       "      <th>userId</th>\n",
       "      <th></th>\n",
       "      <th></th>\n",
       "      <th></th>\n",
       "      <th></th>\n",
       "      <th></th>\n",
       "      <th></th>\n",
       "      <th></th>\n",
       "      <th></th>\n",
       "      <th></th>\n",
       "      <th></th>\n",
       "      <th></th>\n",
       "      <th></th>\n",
       "      <th></th>\n",
       "      <th></th>\n",
       "      <th></th>\n",
       "    </tr>\n",
       "  </thead>\n",
       "  <tbody>\n",
       "    <tr>\n",
       "      <th>14</th>\n",
       "      <td>3.0</td>\n",
       "      <td>5.0</td>\n",
       "      <td>1.0</td>\n",
       "      <td>3.0</td>\n",
       "      <td>4.0</td>\n",
       "      <td>4.0</td>\n",
       "      <td>5.0</td>\n",
       "      <td>2.0</td>\n",
       "      <td>5.0</td>\n",
       "      <td>5.0</td>\n",
       "      <td>4.0</td>\n",
       "      <td>5.0</td>\n",
       "      <td>5.0</td>\n",
       "      <td>2.0</td>\n",
       "      <td>5.0</td>\n",
       "    </tr>\n",
       "    <tr>\n",
       "      <th>29</th>\n",
       "      <td>5.0</td>\n",
       "      <td>5.0</td>\n",
       "      <td>5.0</td>\n",
       "      <td>4.0</td>\n",
       "      <td>5.0</td>\n",
       "      <td>4.0</td>\n",
       "      <td>4.0</td>\n",
       "      <td>5.0</td>\n",
       "      <td>4.0</td>\n",
       "      <td>4.0</td>\n",
       "      <td>5.0</td>\n",
       "      <td>5.0</td>\n",
       "      <td>3.0</td>\n",
       "      <td>4.0</td>\n",
       "      <td>5.0</td>\n",
       "    </tr>\n",
       "    <tr>\n",
       "      <th>72</th>\n",
       "      <td>4.0</td>\n",
       "      <td>5.0</td>\n",
       "      <td>5.0</td>\n",
       "      <td>4.0</td>\n",
       "      <td>5.0</td>\n",
       "      <td>3.0</td>\n",
       "      <td>4.5</td>\n",
       "      <td>5.0</td>\n",
       "      <td>4.5</td>\n",
       "      <td>5.0</td>\n",
       "      <td>5.0</td>\n",
       "      <td>5.0</td>\n",
       "      <td>4.5</td>\n",
       "      <td>5.0</td>\n",
       "      <td>4.0</td>\n",
       "    </tr>\n",
       "    <tr>\n",
       "      <th>211</th>\n",
       "      <td>5.0</td>\n",
       "      <td>4.0</td>\n",
       "      <td>4.0</td>\n",
       "      <td>3.0</td>\n",
       "      <td>5.0</td>\n",
       "      <td>3.0</td>\n",
       "      <td>4.0</td>\n",
       "      <td>4.5</td>\n",
       "      <td>4.0</td>\n",
       "      <td>NaN</td>\n",
       "      <td>3.0</td>\n",
       "      <td>3.0</td>\n",
       "      <td>5.0</td>\n",
       "      <td>3.0</td>\n",
       "      <td>NaN</td>\n",
       "    </tr>\n",
       "    <tr>\n",
       "      <th>212</th>\n",
       "      <td>2.5</td>\n",
       "      <td>NaN</td>\n",
       "      <td>2.0</td>\n",
       "      <td>5.0</td>\n",
       "      <td>NaN</td>\n",
       "      <td>4.0</td>\n",
       "      <td>2.5</td>\n",
       "      <td>NaN</td>\n",
       "      <td>5.0</td>\n",
       "      <td>5.0</td>\n",
       "      <td>3.0</td>\n",
       "      <td>3.0</td>\n",
       "      <td>4.0</td>\n",
       "      <td>3.0</td>\n",
       "      <td>2.0</td>\n",
       "    </tr>\n",
       "    <tr>\n",
       "      <th>293</th>\n",
       "      <td>3.0</td>\n",
       "      <td>NaN</td>\n",
       "      <td>4.0</td>\n",
       "      <td>4.0</td>\n",
       "      <td>4.0</td>\n",
       "      <td>3.0</td>\n",
       "      <td>NaN</td>\n",
       "      <td>3.0</td>\n",
       "      <td>4.0</td>\n",
       "      <td>4.0</td>\n",
       "      <td>4.5</td>\n",
       "      <td>4.0</td>\n",
       "      <td>4.5</td>\n",
       "      <td>4.0</td>\n",
       "      <td>NaN</td>\n",
       "    </tr>\n",
       "    <tr>\n",
       "      <th>310</th>\n",
       "      <td>3.0</td>\n",
       "      <td>3.0</td>\n",
       "      <td>5.0</td>\n",
       "      <td>4.5</td>\n",
       "      <td>5.0</td>\n",
       "      <td>4.5</td>\n",
       "      <td>2.0</td>\n",
       "      <td>4.5</td>\n",
       "      <td>4.0</td>\n",
       "      <td>3.0</td>\n",
       "      <td>4.5</td>\n",
       "      <td>4.5</td>\n",
       "      <td>4.0</td>\n",
       "      <td>3.0</td>\n",
       "      <td>4.0</td>\n",
       "    </tr>\n",
       "    <tr>\n",
       "      <th>379</th>\n",
       "      <td>5.0</td>\n",
       "      <td>5.0</td>\n",
       "      <td>5.0</td>\n",
       "      <td>4.0</td>\n",
       "      <td>NaN</td>\n",
       "      <td>4.0</td>\n",
       "      <td>5.0</td>\n",
       "      <td>4.0</td>\n",
       "      <td>4.0</td>\n",
       "      <td>4.0</td>\n",
       "      <td>NaN</td>\n",
       "      <td>3.0</td>\n",
       "      <td>5.0</td>\n",
       "      <td>4.0</td>\n",
       "      <td>4.0</td>\n",
       "    </tr>\n",
       "    <tr>\n",
       "      <th>451</th>\n",
       "      <td>4.0</td>\n",
       "      <td>5.0</td>\n",
       "      <td>4.0</td>\n",
       "      <td>5.0</td>\n",
       "      <td>4.0</td>\n",
       "      <td>4.0</td>\n",
       "      <td>5.0</td>\n",
       "      <td>5.0</td>\n",
       "      <td>4.0</td>\n",
       "      <td>4.0</td>\n",
       "      <td>4.0</td>\n",
       "      <td>4.0</td>\n",
       "      <td>2.0</td>\n",
       "      <td>3.5</td>\n",
       "      <td>5.0</td>\n",
       "    </tr>\n",
       "    <tr>\n",
       "      <th>467</th>\n",
       "      <td>3.0</td>\n",
       "      <td>3.5</td>\n",
       "      <td>3.0</td>\n",
       "      <td>2.5</td>\n",
       "      <td>NaN</td>\n",
       "      <td>NaN</td>\n",
       "      <td>3.0</td>\n",
       "      <td>3.5</td>\n",
       "      <td>3.5</td>\n",
       "      <td>3.0</td>\n",
       "      <td>3.5</td>\n",
       "      <td>3.0</td>\n",
       "      <td>3.0</td>\n",
       "      <td>4.0</td>\n",
       "      <td>4.0</td>\n",
       "    </tr>\n",
       "    <tr>\n",
       "      <th>508</th>\n",
       "      <td>5.0</td>\n",
       "      <td>5.0</td>\n",
       "      <td>4.0</td>\n",
       "      <td>3.0</td>\n",
       "      <td>5.0</td>\n",
       "      <td>2.0</td>\n",
       "      <td>4.0</td>\n",
       "      <td>4.0</td>\n",
       "      <td>5.0</td>\n",
       "      <td>5.0</td>\n",
       "      <td>5.0</td>\n",
       "      <td>3.0</td>\n",
       "      <td>4.5</td>\n",
       "      <td>3.0</td>\n",
       "      <td>4.5</td>\n",
       "    </tr>\n",
       "    <tr>\n",
       "      <th>546</th>\n",
       "      <td>NaN</td>\n",
       "      <td>5.0</td>\n",
       "      <td>2.0</td>\n",
       "      <td>3.0</td>\n",
       "      <td>5.0</td>\n",
       "      <td>NaN</td>\n",
       "      <td>5.0</td>\n",
       "      <td>5.0</td>\n",
       "      <td>NaN</td>\n",
       "      <td>2.5</td>\n",
       "      <td>2.0</td>\n",
       "      <td>3.5</td>\n",
       "      <td>3.5</td>\n",
       "      <td>3.5</td>\n",
       "      <td>5.0</td>\n",
       "    </tr>\n",
       "    <tr>\n",
       "      <th>563</th>\n",
       "      <td>1.0</td>\n",
       "      <td>5.0</td>\n",
       "      <td>3.0</td>\n",
       "      <td>5.0</td>\n",
       "      <td>4.0</td>\n",
       "      <td>5.0</td>\n",
       "      <td>5.0</td>\n",
       "      <td>NaN</td>\n",
       "      <td>2.0</td>\n",
       "      <td>5.0</td>\n",
       "      <td>5.0</td>\n",
       "      <td>3.0</td>\n",
       "      <td>3.0</td>\n",
       "      <td>4.0</td>\n",
       "      <td>5.0</td>\n",
       "    </tr>\n",
       "    <tr>\n",
       "      <th>579</th>\n",
       "      <td>4.5</td>\n",
       "      <td>4.5</td>\n",
       "      <td>3.5</td>\n",
       "      <td>3.0</td>\n",
       "      <td>4.0</td>\n",
       "      <td>4.5</td>\n",
       "      <td>4.0</td>\n",
       "      <td>4.0</td>\n",
       "      <td>4.0</td>\n",
       "      <td>4.0</td>\n",
       "      <td>3.5</td>\n",
       "      <td>3.0</td>\n",
       "      <td>4.5</td>\n",
       "      <td>4.0</td>\n",
       "      <td>4.5</td>\n",
       "    </tr>\n",
       "    <tr>\n",
       "      <th>623</th>\n",
       "      <td>NaN</td>\n",
       "      <td>5.0</td>\n",
       "      <td>3.0</td>\n",
       "      <td>3.0</td>\n",
       "      <td>NaN</td>\n",
       "      <td>3.0</td>\n",
       "      <td>5.0</td>\n",
       "      <td>NaN</td>\n",
       "      <td>5.0</td>\n",
       "      <td>5.0</td>\n",
       "      <td>5.0</td>\n",
       "      <td>5.0</td>\n",
       "      <td>2.0</td>\n",
       "      <td>5.0</td>\n",
       "      <td>4.0</td>\n",
       "    </tr>\n",
       "  </tbody>\n",
       "</table>\n",
       "</div>"
      ],
      "text/plain": [
       "movieId  27   49   57   72   79   89   92   99   143  179  180  197  402  417  \\\n",
       "userId                                                                          \n",
       "14       3.0  5.0  1.0  3.0  4.0  4.0  5.0  2.0  5.0  5.0  4.0  5.0  5.0  2.0   \n",
       "29       5.0  5.0  5.0  4.0  5.0  4.0  4.0  5.0  4.0  4.0  5.0  5.0  3.0  4.0   \n",
       "72       4.0  5.0  5.0  4.0  5.0  3.0  4.5  5.0  4.5  5.0  5.0  5.0  4.5  5.0   \n",
       "211      5.0  4.0  4.0  3.0  5.0  3.0  4.0  4.5  4.0  NaN  3.0  3.0  5.0  3.0   \n",
       "212      2.5  NaN  2.0  5.0  NaN  4.0  2.5  NaN  5.0  5.0  3.0  3.0  4.0  3.0   \n",
       "293      3.0  NaN  4.0  4.0  4.0  3.0  NaN  3.0  4.0  4.0  4.5  4.0  4.5  4.0   \n",
       "310      3.0  3.0  5.0  4.5  5.0  4.5  2.0  4.5  4.0  3.0  4.5  4.5  4.0  3.0   \n",
       "379      5.0  5.0  5.0  4.0  NaN  4.0  5.0  4.0  4.0  4.0  NaN  3.0  5.0  4.0   \n",
       "451      4.0  5.0  4.0  5.0  4.0  4.0  5.0  5.0  4.0  4.0  4.0  4.0  2.0  3.5   \n",
       "467      3.0  3.5  3.0  2.5  NaN  NaN  3.0  3.5  3.5  3.0  3.5  3.0  3.0  4.0   \n",
       "508      5.0  5.0  4.0  3.0  5.0  2.0  4.0  4.0  5.0  5.0  5.0  3.0  4.5  3.0   \n",
       "546      NaN  5.0  2.0  3.0  5.0  NaN  5.0  5.0  NaN  2.5  2.0  3.5  3.5  3.5   \n",
       "563      1.0  5.0  3.0  5.0  4.0  5.0  5.0  NaN  2.0  5.0  5.0  3.0  3.0  4.0   \n",
       "579      4.5  4.5  3.5  3.0  4.0  4.5  4.0  4.0  4.0  4.0  3.5  3.0  4.5  4.0   \n",
       "623      NaN  5.0  3.0  3.0  NaN  3.0  5.0  NaN  5.0  5.0  5.0  5.0  2.0  5.0   \n",
       "\n",
       "movieId  505  \n",
       "userId        \n",
       "14       5.0  \n",
       "29       5.0  \n",
       "72       4.0  \n",
       "211      NaN  \n",
       "212      2.0  \n",
       "293      NaN  \n",
       "310      4.0  \n",
       "379      4.0  \n",
       "451      5.0  \n",
       "467      4.0  \n",
       "508      4.5  \n",
       "546      5.0  \n",
       "563      5.0  \n",
       "579      4.5  \n",
       "623      4.0  "
      ]
     },
     "execution_count": 112,
     "metadata": {},
     "output_type": "execute_result"
    }
   ],
   "source": [
    "pd.crosstab(top_r.userId, top_r.movieId, top_r.rating, aggfunc=np.sum)"
   ]
  },
  {
   "cell_type": "markdown",
   "metadata": {
    "collapsed": true,
    "heading_collapsed": true
   },
   "source": [
    "## Dot product"
   ]
  },
  {
   "cell_type": "markdown",
   "metadata": {
    "hidden": true
   },
   "source": [
    "The most basic model is a dot product of a movie embedding and a user embedding. Let's see how well that works:"
   ]
  },
  {
   "cell_type": "markdown",
   "metadata": {},
   "source": [
    "### What are embeddings?\n",
    "\n",
    "Collaborative filtering is an approach that learns from this sort of data to make predictions for new users, and this is done by constructing an embedding for every distinct mover and every distinct user. \n",
    "\n",
    "These embeddings are simply vectors whose elements describe an as of yet unknown quality or feature. If we take the dot product for each user/movie embedding pair and call it that user's rating for that movie, we can now train the elements of each embedding as parameters in a gradient descent optimization problem, where the actual ratings are used as the true labels. \n",
    "\n",
    "In the lecture, we can see we've achieved pretty good results using such a simple idea."
   ]
  },
  {
   "cell_type": "markdown",
   "metadata": {},
   "source": [
    "#### keras.layers.embeddings.Embedding(input_dim, output_dim, embeddings_initializer='uniform', embeddings_regularizer=None, activity_regularizer=None, embeddings_constraint=None, mask_zero=False, input_length=None)\n",
    "\n",
    "- n_users(671명) 가 인풋_dim, n_factors(50개)가 아웃풋_dim, input_length()는 1로 잡아준다.\n",
    "\n",
    "The weights of the Embedding layer are of the shape (vocabulary_size, embedding_dimension). For each training sample, its input are integers, which represent certain words. The integers are in the range of the vocabulary size. The Embedding layer transforms each integer i into the ith line of the embedding weights matrix.\n",
    "\n",
    "In order to quickly do this as a matrix multiplication, the input integers are not stored as a list of integers but as a one-hot matrix. Therefore the input shape is (nb_words, vocabulary_size) with one non-zero value per line. If you multiply this by the embedding weights, you get the output in the shape\n",
    "\n",
    "- (nb_words, vocab_size) x (vocab_size, embedding_dim) = (nb_words, embedding_dim)\n",
    "\n",
    "The weights of the Embedding layer are of the shape (vocabulary_size, embedding_dimension). For each training sample, its input are integers, which represent certain words. The integers are in the range of the vocabulary size. The Embedding layer transforms each integer i into the ith line of the embedding weights matrix.\n",
    "\n",
    "In order to quickly do this as a matrix multiplication, the input integers are not stored as a list of integers but as a one-hot matrix. Therefore the input shape is (nb_words, vocabulary_size) with one non-zero value per line. If you multiply this by the embedding weights, you get the output in the shape (nb_words, vocab_size) x (vocab_size, embedding_dim) = (nb_words, embedding_dim)\n",
    "\n",
    "- mapping to vector space\n",
    "\n",
    "Roughly, the idea of Word2Vec is that our vocabulary is discrete and we will learn an map which will embed each word into a continuous vector space. Using this vector space representation will allow us to have a continuous, distributed representation of our vocabulary words. "
   ]
  },
  {
   "cell_type": "code",
   "execution_count": 117,
   "metadata": {
    "collapsed": true,
    "hidden": true
   },
   "outputs": [],
   "source": [
    "user_in = Input(shape=(1,), dtype='int64', name='user_in')\n",
    "u = Embedding(n_users, n_factors, input_length=1, W_regularizer=l2(1e-4))(user_in)\n",
    "movie_in = Input(shape=(1,), dtype='int64', name='movie_in')\n",
    "m = Embedding(n_movies, n_factors, input_length=1, W_regularizer=l2(1e-4))(movie_in)"
   ]
  },
  {
   "cell_type": "code",
   "execution_count": 127,
   "metadata": {
    "collapsed": false
   },
   "outputs": [
    {
     "data": {
      "text/plain": [
       "671"
      ]
     },
     "execution_count": 127,
     "metadata": {},
     "output_type": "execute_result"
    }
   ],
   "source": [
    "n_users"
   ]
  },
  {
   "cell_type": "code",
   "execution_count": 126,
   "metadata": {
    "collapsed": false
   },
   "outputs": [
    {
     "data": {
      "text/plain": [
       "50"
      ]
     },
     "execution_count": 126,
     "metadata": {},
     "output_type": "execute_result"
    }
   ],
   "source": [
    "n_factors"
   ]
  },
  {
   "cell_type": "code",
   "execution_count": 118,
   "metadata": {
    "collapsed": false,
    "scrolled": true
   },
   "outputs": [
    {
     "data": {
      "text/plain": [
       "<tf.Tensor 'user_in_2:0' shape=(?, 1) dtype=int64>"
      ]
     },
     "execution_count": 118,
     "metadata": {},
     "output_type": "execute_result"
    }
   ],
   "source": [
    "user_in"
   ]
  },
  {
   "cell_type": "code",
   "execution_count": 119,
   "metadata": {
    "collapsed": false,
    "scrolled": true
   },
   "outputs": [
    {
     "data": {
      "text/plain": [
       "<tf.Tensor 'Gather_4:0' shape=(?, 1, 50) dtype=float32>"
      ]
     },
     "execution_count": 119,
     "metadata": {},
     "output_type": "execute_result"
    }
   ],
   "source": [
    "u"
   ]
  },
  {
   "cell_type": "code",
   "execution_count": 120,
   "metadata": {
    "collapsed": false
   },
   "outputs": [
    {
     "data": {
      "text/plain": [
       "<tf.Tensor 'movie_in_2:0' shape=(?, 1) dtype=int64>"
      ]
     },
     "execution_count": 120,
     "metadata": {},
     "output_type": "execute_result"
    }
   ],
   "source": [
    "movie_in"
   ]
  },
  {
   "cell_type": "code",
   "execution_count": 121,
   "metadata": {
    "collapsed": false
   },
   "outputs": [
    {
     "data": {
      "text/plain": [
       "<tf.Tensor 'Gather_5:0' shape=(?, 1, 50) dtype=float32>"
      ]
     },
     "execution_count": 121,
     "metadata": {},
     "output_type": "execute_result"
    }
   ],
   "source": [
    "m"
   ]
  },
  {
   "cell_type": "code",
   "execution_count": 122,
   "metadata": {
    "collapsed": false,
    "hidden": true
   },
   "outputs": [],
   "source": [
    "x = merge([u, m], mode='dot')\n",
    "x = Flatten()(x)\n",
    "model = Model([user_in, movie_in], x)\n",
    "model.compile(Adam(0.001), loss='mse')"
   ]
  },
  {
   "cell_type": "code",
   "execution_count": 123,
   "metadata": {
    "collapsed": false,
    "hidden": true
   },
   "outputs": [
    {
     "name": "stdout",
     "output_type": "stream",
     "text": [
      "Train on 80027 samples, validate on 19977 samples\n",
      "Epoch 1/1\n",
      "80027/80027 [==============================] - 32s - loss: 10.1119 - val_loss: 4.3743\n"
     ]
    },
    {
     "data": {
      "text/plain": [
       "<keras.callbacks.History at 0x125d976d0>"
      ]
     },
     "execution_count": 123,
     "metadata": {},
     "output_type": "execute_result"
    }
   ],
   "source": [
    "model.fit([trn.userId, trn.movieId], trn.rating, batch_size=64, nb_epoch=1, \n",
    "          validation_data=([val.userId, val.movieId], val.rating))"
   ]
  },
  {
   "cell_type": "code",
   "execution_count": 124,
   "metadata": {
    "collapsed": true,
    "hidden": true
   },
   "outputs": [],
   "source": [
    "model.optimizer.lr=0.01"
   ]
  },
  {
   "cell_type": "code",
   "execution_count": 125,
   "metadata": {
    "collapsed": false,
    "hidden": true
   },
   "outputs": [
    {
     "name": "stdout",
     "output_type": "stream",
     "text": [
      "Train on 80027 samples, validate on 19977 samples\n",
      "Epoch 1/3\n",
      "80027/80027 [==============================] - 33s - loss: 3.1655 - val_loss: 2.8278\n",
      "Epoch 2/3\n",
      "80027/80027 [==============================] - 38s - loss: 2.4206 - val_loss: 2.5970\n",
      "Epoch 3/3\n",
      "80027/80027 [==============================] - 38s - loss: 2.2473 - val_loss: 2.5487\n"
     ]
    },
    {
     "data": {
      "text/plain": [
       "<keras.callbacks.History at 0x1257e1fd0>"
      ]
     },
     "execution_count": 125,
     "metadata": {},
     "output_type": "execute_result"
    }
   ],
   "source": [
    "model.fit([trn.userId, trn.movieId], trn.rating, batch_size=64, nb_epoch=3, \n",
    "          validation_data=([val.userId, val.movieId], val.rating))"
   ]
  },
  {
   "cell_type": "code",
   "execution_count": 128,
   "metadata": {
    "collapsed": true,
    "hidden": true
   },
   "outputs": [],
   "source": [
    "model.optimizer.lr=0.001"
   ]
  },
  {
   "cell_type": "code",
   "execution_count": 129,
   "metadata": {
    "collapsed": false,
    "hidden": true
   },
   "outputs": [
    {
     "name": "stdout",
     "output_type": "stream",
     "text": [
      "Train on 80027 samples, validate on 19977 samples\n",
      "Epoch 1/6\n",
      "80027/80027 [==============================] - 36s - loss: 2.1799 - val_loss: 2.5302\n",
      "Epoch 2/6\n",
      "80027/80027 [==============================] - 38s - loss: 2.1436 - val_loss: 2.5256\n",
      "Epoch 3/6\n",
      "80027/80027 [==============================] - 40s - loss: 2.1181 - val_loss: 2.5253\n",
      "Epoch 4/6\n",
      "80027/80027 [==============================] - 39s - loss: 2.0948 - val_loss: 2.5356\n",
      "Epoch 5/6\n",
      "80027/80027 [==============================] - 40s - loss: 2.0761 - val_loss: 2.5378\n",
      "Epoch 6/6\n",
      "80027/80027 [==============================] - 40s - loss: 2.0562 - val_loss: 2.5431\n"
     ]
    },
    {
     "data": {
      "text/plain": [
       "<keras.callbacks.History at 0x125a59510>"
      ]
     },
     "execution_count": 129,
     "metadata": {},
     "output_type": "execute_result"
    }
   ],
   "source": [
    "model.fit([trn.userId, trn.movieId], trn.rating, batch_size=64, nb_epoch=6, \n",
    "          validation_data=([val.userId, val.movieId], val.rating))"
   ]
  },
  {
   "cell_type": "markdown",
   "metadata": {
    "hidden": true
   },
   "source": [
    "The [best benchmarks](http://www.librec.net/example.html) are a bit over 0.9, so this model doesn't seem to be working that well..."
   ]
  },
  {
   "cell_type": "markdown",
   "metadata": {
    "heading_collapsed": true
   },
   "source": [
    "##  Bias"
   ]
  },
  {
   "cell_type": "markdown",
   "metadata": {
    "hidden": true
   },
   "source": [
    "The problem is likely to be that we don't have bias terms - that is, a single bias for each user and each movie representing how positive or negative each user is, and how good each movie is. We can add that easily by simply creating an embedding with one output for each movie and each user, and adding it to our output.\n",
    "\n",
    "One thing we have not accounted for yet is bias. In this context, we can think of bias as something that might describe whether or not a user in general likes movies more than others, or whether some movies are more popular than others. We can include this by modifying our collaborative filtering process to include bias terms for each user and movie, which are simply added on to the dot product. These bias terms are also treated as parameters in training, and optimized in gradient descent. We find after training that our result here is better than without bias, as expected."
   ]
  },
  {
   "cell_type": "code",
   "execution_count": 130,
   "metadata": {
    "collapsed": true,
    "hidden": true
   },
   "outputs": [],
   "source": [
    "def embedding_input(name, n_in, n_out, reg):\n",
    "    inp = Input(shape=(1,), dtype='int64', name=name)\n",
    "    return inp, Embedding(n_in, n_out, input_length=1, W_regularizer=l2(reg))(inp)"
   ]
  },
  {
   "cell_type": "markdown",
   "metadata": {},
   "source": [
    "what is W_regularizer?\n",
    "\n",
    "what is Embedding(...)(inp)?? (inp)>....?\n",
    "\n",
    ":일종의 model.add()로 봐야할 듯 싶습니다."
   ]
  },
  {
   "cell_type": "code",
   "execution_count": 131,
   "metadata": {
    "collapsed": true,
    "hidden": true
   },
   "outputs": [],
   "source": [
    "user_in, u = embedding_input('user_in', n_users, n_factors, 1e-4)\n",
    "movie_in, m = embedding_input('movie_in', n_movies, n_factors, 1e-4)"
   ]
  },
  {
   "cell_type": "code",
   "execution_count": 132,
   "metadata": {
    "collapsed": true,
    "hidden": true
   },
   "outputs": [],
   "source": [
    "def create_bias(inp, n_in):\n",
    "    x = Embedding(n_in, 1, input_length=1)(inp)\n",
    "    return Flatten()(x)"
   ]
  },
  {
   "cell_type": "code",
   "execution_count": 133,
   "metadata": {
    "collapsed": true,
    "hidden": true
   },
   "outputs": [],
   "source": [
    "ub = create_bias(user_in, n_users)\n",
    "mb = create_bias(movie_in, n_movies)"
   ]
  },
  {
   "cell_type": "code",
   "execution_count": 134,
   "metadata": {
    "collapsed": false,
    "hidden": true
   },
   "outputs": [],
   "source": [
    "x = merge([u, m], mode='dot')\n",
    "x = Flatten()(x)\n",
    "x = merge([x, ub], mode='sum')\n",
    "x = merge([x, mb], mode='sum')\n",
    "model = Model([user_in, movie_in], x)\n",
    "model.compile(Adam(0.001), loss='mse')"
   ]
  },
  {
   "cell_type": "code",
   "execution_count": 135,
   "metadata": {
    "collapsed": false,
    "hidden": true
   },
   "outputs": [
    {
     "name": "stdout",
     "output_type": "stream",
     "text": [
      "Train on 80027 samples, validate on 19977 samples\n",
      "Epoch 1/1\n",
      "80027/80027 [==============================] - 41s - loss: 8.8780 - val_loss: 3.5386\n"
     ]
    },
    {
     "data": {
      "text/plain": [
       "<keras.callbacks.History at 0x125626f50>"
      ]
     },
     "execution_count": 135,
     "metadata": {},
     "output_type": "execute_result"
    }
   ],
   "source": [
    "model.fit([trn.userId, trn.movieId], trn.rating, batch_size=64, nb_epoch=1, \n",
    "          validation_data=([val.userId, val.movieId], val.rating))"
   ]
  },
  {
   "cell_type": "code",
   "execution_count": 136,
   "metadata": {
    "collapsed": true,
    "hidden": true
   },
   "outputs": [],
   "source": [
    "model.optimizer.lr=0.01"
   ]
  },
  {
   "cell_type": "code",
   "execution_count": 137,
   "metadata": {
    "collapsed": false,
    "hidden": true
   },
   "outputs": [
    {
     "name": "stdout",
     "output_type": "stream",
     "text": [
      "Train on 80027 samples, validate on 19977 samples\n",
      "Epoch 1/6\n",
      "80027/80027 [==============================] - 38s - loss: 2.5941 - val_loss: 2.3062\n",
      "Epoch 2/6\n",
      "80027/80027 [==============================] - 35s - loss: 2.0009 - val_loss: 2.0937\n",
      "Epoch 3/6\n",
      "80027/80027 [==============================] - 37s - loss: 1.8368 - val_loss: 1.9959\n",
      "Epoch 4/6\n",
      "80027/80027 [==============================] - 40s - loss: 1.7410 - val_loss: 1.9216\n",
      "Epoch 5/6\n",
      "80027/80027 [==============================] - 42s - loss: 1.6588 - val_loss: 1.8532\n",
      "Epoch 6/6\n",
      "80027/80027 [==============================] - 41s - loss: 1.5825 - val_loss: 1.7887\n"
     ]
    },
    {
     "data": {
      "text/plain": [
       "<keras.callbacks.History at 0x1258aac10>"
      ]
     },
     "execution_count": 137,
     "metadata": {},
     "output_type": "execute_result"
    }
   ],
   "source": [
    "model.fit([trn.userId, trn.movieId], trn.rating, batch_size=64, nb_epoch=6, \n",
    "          validation_data=([val.userId, val.movieId], val.rating))"
   ]
  },
  {
   "cell_type": "code",
   "execution_count": 138,
   "metadata": {
    "collapsed": true,
    "hidden": true
   },
   "outputs": [],
   "source": [
    "model.optimizer.lr=0.001"
   ]
  },
  {
   "cell_type": "code",
   "execution_count": 139,
   "metadata": {
    "collapsed": false,
    "hidden": true
   },
   "outputs": [
    {
     "name": "stdout",
     "output_type": "stream",
     "text": [
      "Train on 80027 samples, validate on 19977 samples\n",
      "Epoch 1/10\n",
      "80027/80027 [==============================] - 40s - loss: 1.5087 - val_loss: 1.7245\n",
      "Epoch 2/10\n",
      "80027/80027 [==============================] - 41s - loss: 1.4371 - val_loss: 1.6668\n",
      "Epoch 3/10\n",
      "80027/80027 [==============================] - 45s - loss: 1.3683 - val_loss: 1.6177\n",
      "Epoch 4/10\n",
      "80027/80027 [==============================] - 48s - loss: 1.3040 - val_loss: 1.5606\n",
      "Epoch 5/10\n",
      "80027/80027 [==============================] - 49s - loss: 1.2408 - val_loss: 1.5121\n",
      "Epoch 6/10\n",
      "80027/80027 [==============================] - 47s - loss: 1.1799 - val_loss: 1.4634\n",
      "Epoch 7/10\n",
      "80027/80027 [==============================] - 37s - loss: 1.1226 - val_loss: 1.4180\n",
      "Epoch 8/10\n",
      "80027/80027 [==============================] - 34s - loss: 1.0682 - val_loss: 1.3748\n",
      "Epoch 9/10\n",
      "80027/80027 [==============================] - 42s - loss: 1.0159 - val_loss: 1.3358\n",
      "Epoch 10/10\n",
      "80027/80027 [==============================] - 49s - loss: 0.9662 - val_loss: 1.2957\n"
     ]
    },
    {
     "data": {
      "text/plain": [
       "<keras.callbacks.History at 0x123409850>"
      ]
     },
     "execution_count": 139,
     "metadata": {},
     "output_type": "execute_result"
    }
   ],
   "source": [
    "model.fit([trn.userId, trn.movieId], trn.rating, batch_size=64, nb_epoch=10, \n",
    "          validation_data=([val.userId, val.movieId], val.rating))"
   ]
  },
  {
   "cell_type": "code",
   "execution_count": 140,
   "metadata": {
    "collapsed": false,
    "hidden": true
   },
   "outputs": [
    {
     "name": "stdout",
     "output_type": "stream",
     "text": [
      "Train on 80027 samples, validate on 19977 samples\n",
      "Epoch 1/5\n",
      "80027/80027 [==============================] - 46s - loss: 0.9201 - val_loss: 1.2641\n",
      "Epoch 2/5\n",
      "80027/80027 [==============================] - 47s - loss: 0.8767 - val_loss: 1.2319\n",
      "Epoch 3/5\n",
      "80027/80027 [==============================] - 44s - loss: 0.8360 - val_loss: 1.2028\n",
      "Epoch 4/5\n",
      "80027/80027 [==============================] - 47s - loss: 0.7991 - val_loss: 1.1752\n",
      "Epoch 5/5\n",
      "80027/80027 [==============================] - 47s - loss: 0.7646 - val_loss: 1.1505\n"
     ]
    },
    {
     "data": {
      "text/plain": [
       "<keras.callbacks.History at 0x123409c10>"
      ]
     },
     "execution_count": 140,
     "metadata": {},
     "output_type": "execute_result"
    }
   ],
   "source": [
    "model.fit([trn.userId, trn.movieId], trn.rating, batch_size=64, nb_epoch=5, \n",
    "          validation_data=([val.userId, val.movieId], val.rating))"
   ]
  },
  {
   "cell_type": "markdown",
   "metadata": {
    "hidden": true
   },
   "source": [
    "This result is quite a bit better than the best benchmarks that we could find with a quick google search - so looks like a great approach!"
   ]
  },
  {
   "cell_type": "code",
   "execution_count": 141,
   "metadata": {
    "collapsed": true,
    "hidden": true
   },
   "outputs": [],
   "source": [
    "model.save_weights(model_path+'bias.h5')"
   ]
  },
  {
   "cell_type": "code",
   "execution_count": 142,
   "metadata": {
    "collapsed": true,
    "hidden": true
   },
   "outputs": [],
   "source": [
    "model.load_weights(model_path+'bias.h5')"
   ]
  },
  {
   "cell_type": "markdown",
   "metadata": {
    "hidden": true
   },
   "source": [
    "We can use the model to generate predictions by passing a pair of ints - a user id and a movie id. For instance, this predicts that user #3 would really enjoy movie #6."
   ]
  },
  {
   "cell_type": "code",
   "execution_count": 144,
   "metadata": {
    "collapsed": false,
    "hidden": true
   },
   "outputs": [
    {
     "data": {
      "text/plain": [
       "array([[ 4.9707]], dtype=float32)"
      ]
     },
     "execution_count": 144,
     "metadata": {},
     "output_type": "execute_result"
    }
   ],
   "source": [
    "model.predict([np.array([3]), np.array([6])])"
   ]
  },
  {
   "cell_type": "markdown",
   "metadata": {
    "heading_collapsed": true
   },
   "source": [
    "## Analyze results"
   ]
  },
  {
   "cell_type": "markdown",
   "metadata": {
    "hidden": true
   },
   "source": [
    "To make the analysis of the factors more interesting, we'll restrict it to the top 2000 most popular movies.\n",
    "\n",
    ":g는 (1) 영화와 (2) 영화가 rate된 횟수를 저장하는 변수입니다.\n",
    "\n",
    "\n",
    ":topMovies는 제일 많이 본 상위 2000개를 뽑아내 저장하는 변수입니다.\n",
    "\n",
    "\n",
    ":이후에 topMovies는 array로 변합니다."
   ]
  },
  {
   "cell_type": "code",
   "execution_count": 153,
   "metadata": {
    "collapsed": false,
    "hidden": true
   },
   "outputs": [
    {
     "data": {
      "text/plain": [
       "array([  57,   49,   99, ..., 3436, 1804, 1793])"
      ]
     },
     "execution_count": 153,
     "metadata": {},
     "output_type": "execute_result"
    }
   ],
   "source": [
    "g=ratings.groupby('movieId')['rating'].count()\n",
    "topMovies=g.sort_values(ascending=False)[:2000]\n",
    "topMovies = np.array(topMovies.index)\n",
    "topMovies"
   ]
  },
  {
   "cell_type": "markdown",
   "metadata": {
    "hidden": true
   },
   "source": [
    "First, we'll look at the movie bias term. We create a 'model' - which in keras is simply a way of associating one or more inputs with one more more outputs, using the functional API. Here, our input is the movie id (a single id), and the output is the movie bias (a single float)."
   ]
  },
  {
   "cell_type": "markdown",
   "metadata": {},
   "source": [
    "zip(iterable*)은 동일한 개수로 이루어진 자료형을 묶어 주는 역할을 하는 함수이다.\n",
    "\n",
    "list(zip([1, 2, 3], [4, 5, 6]))\n",
    "\n",
    "\n",
    ">[(1, 4), (2, 5), (3, 6)]"
   ]
  },
  {
   "cell_type": "code",
   "execution_count": 154,
   "metadata": {
    "collapsed": false,
    "hidden": true
   },
   "outputs": [],
   "source": [
    "get_movie_bias = Model(movie_in, mb)\n",
    "movie_bias = get_movie_bias.predict(topMovies)\n",
    "movie_ratings = [(b[0], movie_names[movies[i]]) for i,b in zip(topMovies,movie_bias)]"
   ]
  },
  {
   "cell_type": "code",
   "execution_count": 155,
   "metadata": {
    "collapsed": false
   },
   "outputs": [
    {
     "data": {
      "text/plain": [
       "<tf.Tensor 'movie_in_3:0' shape=(?, 1) dtype=int64>"
      ]
     },
     "execution_count": 155,
     "metadata": {},
     "output_type": "execute_result"
    }
   ],
   "source": [
    "movie_in"
   ]
  },
  {
   "cell_type": "code",
   "execution_count": 156,
   "metadata": {
    "collapsed": false
   },
   "outputs": [
    {
     "data": {
      "text/plain": [
       "<tf.Tensor 'Reshape_2:0' shape=(?, ?) dtype=float32>"
      ]
     },
     "execution_count": 156,
     "metadata": {},
     "output_type": "execute_result"
    }
   ],
   "source": [
    "mb"
   ]
  },
  {
   "cell_type": "code",
   "execution_count": 157,
   "metadata": {
    "collapsed": false
   },
   "outputs": [
    {
     "data": {
      "text/plain": [
       "array([[ 1.007 ],\n",
       "       [ 1.0626],\n",
       "       [ 1.2657],\n",
       "       ..., \n",
       "       [ 0.9274],\n",
       "       [ 0.344 ],\n",
       "       [ 0.464 ]], dtype=float32)"
      ]
     },
     "execution_count": 157,
     "metadata": {},
     "output_type": "execute_result"
    }
   ],
   "source": [
    "movie_bias"
   ]
  },
  {
   "cell_type": "code",
   "execution_count": 158,
   "metadata": {
    "collapsed": false
   },
   "outputs": [
    {
     "data": {
      "text/plain": [
       "2000"
      ]
     },
     "execution_count": 158,
     "metadata": {},
     "output_type": "execute_result"
    }
   ],
   "source": [
    "len(movie_bias)"
   ]
  },
  {
   "cell_type": "code",
   "execution_count": 160,
   "metadata": {
    "collapsed": false
   },
   "outputs": [
    {
     "data": {
      "text/plain": [
       "[(57, array([ 1.007], dtype=float32)),\n",
       " (49, array([ 1.0626], dtype=float32)),\n",
       " (99, array([ 1.2657], dtype=float32)),\n",
       " (92, array([ 1.0792], dtype=float32)),\n",
       " (143, array([ 0.9246], dtype=float32)),\n",
       " (72, array([ 0.8517], dtype=float32)),\n",
       " (402, array([ 0.8916], dtype=float32)),\n",
       " (417, array([ 0.7703], dtype=float32)),\n",
       " (79, array([ 1.075], dtype=float32)),\n",
       " (89, array([ 0.8047], dtype=float32)),\n",
       " (179, array([ 0.8842], dtype=float32)),\n",
       " (27, array([ 0.865], dtype=float32)),\n",
       " (197, array([ 0.9229], dtype=float32)),\n",
       " (505, array([ 1.0475], dtype=float32)),\n",
       " (180, array([ 0.8509], dtype=float32)),\n",
       " (121, array([ 0.9151], dtype=float32)),\n",
       " (432, array([ 0.8491], dtype=float32)),\n",
       " (106, array([ 0.878], dtype=float32)),\n",
       " (88, array([ 0.7444], dtype=float32)),\n",
       " (69, array([ 1.1116], dtype=float32)),\n",
       " (122, array([ 0.8346], dtype=float32)),\n",
       " (90, array([ 0.787], dtype=float32)),\n",
       " (23, array([ 0.8345], dtype=float32)),\n",
       " (24, array([ 0.9846], dtype=float32)),\n",
       " (59, array([ 0.7071], dtype=float32)),\n",
       " (157, array([ 1.1929], dtype=float32)),\n",
       " (480, array([ 0.8397], dtype=float32)),\n",
       " (29, array([ 0.981], dtype=float32)),\n",
       " (146, array([ 0.6164], dtype=float32)),\n",
       " (91, array([ 0.808], dtype=float32)),\n",
       " (447, array([ 0.9453], dtype=float32)),\n",
       " (119, array([ 0.8533], dtype=float32)),\n",
       " (113, array([ 0.7652], dtype=float32)),\n",
       " (110, array([ 0.7247], dtype=float32)),\n",
       " (412, array([ 0.8096], dtype=float32)),\n",
       " (64, array([ 0.8082], dtype=float32)),\n",
       " (101, array([ 0.7959], dtype=float32)),\n",
       " (129, array([ 0.8975], dtype=float32)),\n",
       " (323, array([ 0.374], dtype=float32)),\n",
       " (354, array([ 0.7118], dtype=float32)),\n",
       " (714, array([ 0.7954], dtype=float32)),\n",
       " (196, array([ 0.6585], dtype=float32)),\n",
       " (111, array([ 0.5262], dtype=float32)),\n",
       " (105, array([ 0.8596], dtype=float32)),\n",
       " (468, array([ 0.8057], dtype=float32)),\n",
       " (174, array([ 0.6389], dtype=float32)),\n",
       " (191, array([ 0.7706], dtype=float32)),\n",
       " (321, array([ 0.2834], dtype=float32)),\n",
       " (60, array([ 0.5542], dtype=float32)),\n",
       " (459, array([ 0.8523], dtype=float32)),\n",
       " (75, array([ 0.8334], dtype=float32)),\n",
       " (170, array([ 0.6508], dtype=float32)),\n",
       " (102, array([ 0.6419], dtype=float32)),\n",
       " (139, array([ 0.6519], dtype=float32)),\n",
       " (171, array([ 0.8373], dtype=float32)),\n",
       " (118, array([ 0.6031], dtype=float32)),\n",
       " (324, array([ 0.7039], dtype=float32)),\n",
       " (202, array([ 0.9912], dtype=float32)),\n",
       " (153, array([ 0.8726], dtype=float32)),\n",
       " (177, array([ 0.8801], dtype=float32)),\n",
       " (423, array([ 0.7788], dtype=float32)),\n",
       " (327, array([ 0.9498], dtype=float32)),\n",
       " (32, array([ 0.8723], dtype=float32)),\n",
       " (1339, array([ 0.6927], dtype=float32)),\n",
       " (278, array([ 0.4594], dtype=float32)),\n",
       " (332, array([ 0.8481], dtype=float32)),\n",
       " (328, array([ 1.0336], dtype=float32)),\n",
       " (506, array([ 0.9106], dtype=float32)),\n",
       " (126, array([ 0.5133], dtype=float32)),\n",
       " (298, array([ 0.7091], dtype=float32)),\n",
       " (173, array([ 0.7536], dtype=float32)),\n",
       " (474, array([ 0.9613], dtype=float32)),\n",
       " (387, array([ 0.9235], dtype=float32)),\n",
       " (184, array([ 0.8177], dtype=float32)),\n",
       " (358, array([ 0.8125], dtype=float32)),\n",
       " (477, array([ 0.7455], dtype=float32)),\n",
       " (86, array([ 0.5791], dtype=float32)),\n",
       " (30, array([ 0.6009], dtype=float32)),\n",
       " (185, array([ 0.6214], dtype=float32)),\n",
       " (598, array([ 0.698], dtype=float32)),\n",
       " (1435, array([ 0.7511], dtype=float32)),\n",
       " (343, array([ 0.7035], dtype=float32)),\n",
       " (87, array([ 0.6102], dtype=float32)),\n",
       " (181, array([ 0.733], dtype=float32)),\n",
       " (42, array([ 0.6947], dtype=float32)),\n",
       " (344, array([ 0.6278], dtype=float32)),\n",
       " (479, array([ 0.741], dtype=float32)),\n",
       " (81, array([ 0.714], dtype=float32)),\n",
       " (457, array([ 0.8535], dtype=float32)),\n",
       " (103, array([ 0.8727], dtype=float32)),\n",
       " (335, array([ 0.5713], dtype=float32)),\n",
       " (434, array([ 0.6618], dtype=float32)),\n",
       " (20, array([ 0.9683], dtype=float32)),\n",
       " (128, array([ 0.7809], dtype=float32)),\n",
       " (58, array([ 0.7183], dtype=float32)),\n",
       " (182, array([ 0.6489], dtype=float32)),\n",
       " (519, array([ 0.712], dtype=float32)),\n",
       " (137, array([ 0.9865], dtype=float32)),\n",
       " (584, array([ 0.7054], dtype=float32)),\n",
       " (22, array([ 0.5606], dtype=float32)),\n",
       " (225, array([ 0.7637], dtype=float32)),\n",
       " (385, array([ 0.8737], dtype=float32)),\n",
       " (818, array([ 0.7708], dtype=float32)),\n",
       " (736, array([ 0.8828], dtype=float32)),\n",
       " (227, array([ 0.8624], dtype=float32)),\n",
       " (161, array([ 0.7719], dtype=float32)),\n",
       " (55, array([ 1.0437], dtype=float32)),\n",
       " (483, array([ 0.6302], dtype=float32)),\n",
       " (145, array([ 0.6972], dtype=float32)),\n",
       " (359, array([ 0.8069], dtype=float32)),\n",
       " (470, array([ 0.7685], dtype=float32)),\n",
       " (36, array([ 0.5809], dtype=float32)),\n",
       " (222, array([ 0.4587], dtype=float32)),\n",
       " (195, array([ 0.904], dtype=float32)),\n",
       " (281, array([ 0.4345], dtype=float32)),\n",
       " (183, array([ 0.6995], dtype=float32)),\n",
       " (342, array([ 0.5789], dtype=float32)),\n",
       " (489, array([ 0.5908], dtype=float32)),\n",
       " (564, array([ 0.8832], dtype=float32)),\n",
       " (68, array([ 0.9501], dtype=float32)),\n",
       " (48, array([ 0.7994], dtype=float32)),\n",
       " (38, array([ 0.586], dtype=float32)),\n",
       " (300, array([ 0.6255], dtype=float32)),\n",
       " (214, array([ 0.6859], dtype=float32)),\n",
       " (650, array([ 0.7197], dtype=float32)),\n",
       " (289, array([ 0.6878], dtype=float32)),\n",
       " (464, array([ 0.8515], dtype=float32)),\n",
       " (817, array([ 0.5148], dtype=float32)),\n",
       " (690, array([ 0.635], dtype=float32)),\n",
       " (330, array([ 0.877], dtype=float32)),\n",
       " (341, array([ 0.8182], dtype=float32)),\n",
       " (287, array([ 0.4499], dtype=float32)),\n",
       " (130, array([ 0.8423], dtype=float32)),\n",
       " (148, array([ 0.6491], dtype=float32)),\n",
       " (720, array([ 0.83], dtype=float32)),\n",
       " (497, array([ 0.6808], dtype=float32)),\n",
       " (478, array([ 0.7385], dtype=float32)),\n",
       " (339, array([ 0.6733], dtype=float32)),\n",
       " (188, array([ 0.681], dtype=float32)),\n",
       " (297, array([ 0.6808], dtype=float32)),\n",
       " (652, array([ 1.0281], dtype=float32)),\n",
       " (263, array([ 0.5122], dtype=float32)),\n",
       " (504, array([ 0.9708], dtype=float32)),\n",
       " (467, array([ 0.8875], dtype=float32)),\n",
       " (492, array([ 0.5346], dtype=float32)),\n",
       " (34, array([ 0.6842], dtype=float32)),\n",
       " (54, array([ 0.7267], dtype=float32)),\n",
       " (194, array([ 0.8852], dtype=float32)),\n",
       " (658, array([ 0.8442], dtype=float32)),\n",
       " (1266, array([ 0.7334], dtype=float32)),\n",
       " (189, array([ 0.8596], dtype=float32)),\n",
       " (348, array([ 0.7602], dtype=float32)),\n",
       " (409, array([ 0.5863], dtype=float32)),\n",
       " (878, array([ 0.7043], dtype=float32)),\n",
       " (486, array([ 1.0756], dtype=float32)),\n",
       " (463, array([ 0.8054], dtype=float32)),\n",
       " (334, array([ 0.5819], dtype=float32)),\n",
       " (256, array([ 0.7416], dtype=float32)),\n",
       " (828, array([ 0.8303], dtype=float32)),\n",
       " (1126, array([ 0.6261], dtype=float32)),\n",
       " (352, array([ 0.6621], dtype=float32)),\n",
       " (151, array([ 0.5232], dtype=float32)),\n",
       " (418, array([ 0.7262], dtype=float32)),\n",
       " (471, array([ 0.7818], dtype=float32)),\n",
       " (778, array([ 0.644], dtype=float32)),\n",
       " (187, array([ 0.7366], dtype=float32)),\n",
       " (320, array([ 0.6973], dtype=float32)),\n",
       " (879, array([ 0.734], dtype=float32)),\n",
       " (141, array([ 0.8343], dtype=float32)),\n",
       " (630, array([ 0.743], dtype=float32)),\n",
       " (662, array([ 0.6712], dtype=float32)),\n",
       " (732, array([ 1.0176], dtype=float32)),\n",
       " (512, array([ 0.6774], dtype=float32)),\n",
       " (656, array([ 0.4477], dtype=float32)),\n",
       " (435, array([ 0.5575], dtype=float32)),\n",
       " (150, array([ 0.8404], dtype=float32)),\n",
       " (213, array([ 0.525], dtype=float32)),\n",
       " (229, array([ 0.5749], dtype=float32)),\n",
       " (50, array([ 0.8887], dtype=float32)),\n",
       " (83, array([ 0.7641], dtype=float32)),\n",
       " (517, array([ 0.7029], dtype=float32)),\n",
       " (172, array([ 0.7117], dtype=float32)),\n",
       " (329, array([ 0.7793], dtype=float32)),\n",
       " (349, array([ 0.418], dtype=float32)),\n",
       " (1041, array([ 0.7905], dtype=float32)),\n",
       " (655, array([ 0.8303], dtype=float32)),\n",
       " (1941, array([ 0.8371], dtype=float32)),\n",
       " (26, array([ 1.0665], dtype=float32)),\n",
       " (733, array([ 1.0055], dtype=float32)),\n",
       " (204, array([ 0.6547], dtype=float32)),\n",
       " (21, array([ 0.8827], dtype=float32)),\n",
       " (947, array([ 0.0393], dtype=float32)),\n",
       " (76, array([ 0.7607], dtype=float32)),\n",
       " (551, array([ 0.7949], dtype=float32)),\n",
       " (346, array([ 0.6623], dtype=float32)),\n",
       " (369, array([ 0.6508], dtype=float32)),\n",
       " (414, array([ 0.8111], dtype=float32)),\n",
       " (835, array([ 0.6139], dtype=float32)),\n",
       " (559, array([ 1.0344], dtype=float32)),\n",
       " (132, array([ 0.558], dtype=float32)),\n",
       " (824, array([ 0.5217], dtype=float32)),\n",
       " (208, array([ 0.9317], dtype=float32)),\n",
       " (1329, array([ 0.4762], dtype=float32)),\n",
       " (201, array([ 0.7774], dtype=float32)),\n",
       " (482, array([ 0.4563], dtype=float32)),\n",
       " (653, array([ 0.9569], dtype=float32)),\n",
       " (1328, array([ 0.6033], dtype=float32)),\n",
       " (1409, array([ 0.6747], dtype=float32)),\n",
       " (647, array([ 0.559], dtype=float32)),\n",
       " (364, array([ 0.7254], dtype=float32)),\n",
       " (495, array([ 0.7555], dtype=float32)),\n",
       " (31, array([ 1.0573], dtype=float32)),\n",
       " (768, array([ 0.9472], dtype=float32)),\n",
       " (404, array([ 0.8712], dtype=float32)),\n",
       " (805, array([ 0.3364], dtype=float32)),\n",
       " (190, array([ 0.6851], dtype=float32)),\n",
       " (71, array([ 0.848], dtype=float32)),\n",
       " (326, array([ 0.7697], dtype=float32)),\n",
       " (934, array([ 0.7889], dtype=float32)),\n",
       " (407, array([ 0.4432], dtype=float32)),\n",
       " (1106, array([ 0.1832], dtype=float32)),\n",
       " (937, array([ 0.5573], dtype=float32)),\n",
       " (77, array([ 0.7196], dtype=float32)),\n",
       " (244, array([ 0.6918], dtype=float32)),\n",
       " (264, array([ 0.7569], dtype=float32)),\n",
       " (165, array([ 0.7493], dtype=float32)),\n",
       " (40, array([ 0.7117], dtype=float32)),\n",
       " (186, array([ 0.9612], dtype=float32)),\n",
       " (1558, array([ 0.6242], dtype=float32)),\n",
       " (728, array([ 0.8987], dtype=float32)),\n",
       " (462, array([ 0.6457], dtype=float32)),\n",
       " (240, array([ 0.4134], dtype=float32)),\n",
       " (267, array([ 0.7913], dtype=float32)),\n",
       " (458, array([ 0.8695], dtype=float32)),\n",
       " (1496, array([ 0.7621], dtype=float32)),\n",
       " (782, array([ 0.9314], dtype=float32)),\n",
       " (436, array([ 0.6509], dtype=float32)),\n",
       " (798, array([ 0.8431], dtype=float32)),\n",
       " (1550, array([ 1.0769], dtype=float32)),\n",
       " (279, array([ 0.6503], dtype=float32)),\n",
       " (290, array([ 0.9015], dtype=float32)),\n",
       " (943, array([ 0.5497], dtype=float32)),\n",
       " (527, array([ 0.4374], dtype=float32)),\n",
       " (923, array([ 0.9224], dtype=float32)),\n",
       " (1007, array([ 0.5139], dtype=float32)),\n",
       " (198, array([ 0.7253], dtype=float32)),\n",
       " (1421, array([ 0.7163], dtype=float32)),\n",
       " (767, array([ 0.9874], dtype=float32)),\n",
       " (763, array([ 0.7642], dtype=float32)),\n",
       " (806, array([ 0.5442], dtype=float32)),\n",
       " (473, array([ 0.6859], dtype=float32)),\n",
       " (134, array([ 0.9126], dtype=float32)),\n",
       " (67, array([ 0.6828], dtype=float32)),\n",
       " (45, array([ 0.6693], dtype=float32)),\n",
       " (837, array([ 0.511], dtype=float32)),\n",
       " (210, array([ 0.6222], dtype=float32)),\n",
       " (725, array([ 0.6227], dtype=float32)),\n",
       " (742, array([ 0.8122], dtype=float32)),\n",
       " (1540, array([ 0.8473], dtype=float32)),\n",
       " (331, array([ 0.5015], dtype=float32)),\n",
       " (2524, array([ 0.7816], dtype=float32)),\n",
       " (176, array([ 0.6549], dtype=float32)),\n",
       " (154, array([ 0.6802], dtype=float32)),\n",
       " (1154, array([ 0.599], dtype=float32)),\n",
       " (827, array([ 0.5425], dtype=float32)),\n",
       " (445, array([ 0.6942], dtype=float32)),\n",
       " (142, array([ 0.4638], dtype=float32)),\n",
       " (52, array([ 0.515], dtype=float32)),\n",
       " (56, array([ 0.8029], dtype=float32)),\n",
       " (416, array([ 0.9628], dtype=float32)),\n",
       " (709, array([ 0.8651], dtype=float32)),\n",
       " (333, array([ 0.3765], dtype=float32)),\n",
       " (224, array([ 0.5472], dtype=float32)),\n",
       " (125, array([ 0.7125], dtype=float32)),\n",
       " (1310, array([ 1.0015], dtype=float32)),\n",
       " (158, array([ 1.0005], dtype=float32)),\n",
       " (433, array([ 0.7498], dtype=float32)),\n",
       " (1221, array([ 0.4788], dtype=float32)),\n",
       " (738, array([ 0.8133], dtype=float32)),\n",
       " (913, array([ 0.6931], dtype=float32)),\n",
       " (325, array([ 0.6328], dtype=float32)),\n",
       " (2174, array([ 0.7636], dtype=float32)),\n",
       " (441, array([ 0.6331], dtype=float32)),\n",
       " (697, array([ 0.7012], dtype=float32)),\n",
       " (465, array([ 0.8279], dtype=float32)),\n",
       " (217, array([ 0.5263], dtype=float32)),\n",
       " (1622, array([ 0.6581], dtype=float32)),\n",
       " (61, array([ 0.6127], dtype=float32)),\n",
       " (345, array([ 0.6383], dtype=float32)),\n",
       " (803, array([ 0.586], dtype=float32)),\n",
       " (391, array([ 0.5274], dtype=float32)),\n",
       " (159, array([ 0.7585], dtype=float32)),\n",
       " (155, array([ 0.6781], dtype=float32)),\n",
       " (450, array([ 0.6696], dtype=float32)),\n",
       " (211, array([ 0.7285], dtype=float32)),\n",
       " (272, array([ 0.7785], dtype=float32)),\n",
       " (645, array([ 0.6173], dtype=float32)),\n",
       " (347, array([ 0.4554], dtype=float32)),\n",
       " (392, array([ 0.5817], dtype=float32)),\n",
       " (389, array([ 0.8423], dtype=float32)),\n",
       " (374, array([ 0.7492], dtype=float32)),\n",
       " (455, array([ 0.7684], dtype=float32)),\n",
       " (212, array([ 0.5899], dtype=float32)),\n",
       " (336, array([ 0.4793], dtype=float32)),\n",
       " (901, array([ 0.6976], dtype=float32)),\n",
       " (731, array([ 0.9756], dtype=float32)),\n",
       " (199, array([ 0.6449], dtype=float32)),\n",
       " (2252, array([ 0.7954], dtype=float32)),\n",
       " (940, array([ 0.5839], dtype=float32)),\n",
       " (2529, array([ 0.4931], dtype=float32)),\n",
       " (1289, array([ 0.8631], dtype=float32)),\n",
       " (672, array([ 0.7528], dtype=float32)),\n",
       " (948, array([ 0.6906], dtype=float32)),\n",
       " (403, array([ 0.4345], dtype=float32)),\n",
       " (1240, array([ 0.5821], dtype=float32)),\n",
       " (670, array([ 0.3701], dtype=float32)),\n",
       " (776, array([ 0.8422], dtype=float32)),\n",
       " (1038, array([ 0.9747], dtype=float32)),\n",
       " (766, array([ 0.7249], dtype=float32)),\n",
       " (431, array([ 0.7589], dtype=float32)),\n",
       " (2075, array([ 0.4391], dtype=float32)),\n",
       " (160, array([ 1.1122], dtype=float32)),\n",
       " (496, array([ 0.7915], dtype=float32)),\n",
       " (19, array([ 0.9172], dtype=float32)),\n",
       " (44, array([ 0.845], dtype=float32)),\n",
       " (836, array([ 0.7748], dtype=float32)),\n",
       " (282, array([ 0.6033], dtype=float32)),\n",
       " (1115, array([ 0.642], dtype=float32)),\n",
       " (1508, array([ 0.8546], dtype=float32)),\n",
       " (2088, array([ 0.4926], dtype=float32)),\n",
       " (688, array([ 0.899], dtype=float32)),\n",
       " (428, array([ 0.8341], dtype=float32)),\n",
       " (705, array([ 1.0441], dtype=float32)),\n",
       " (365, array([ 0.9758], dtype=float32)),\n",
       " (1600, array([ 0.8352], dtype=float32)),\n",
       " (200, array([ 0.9234], dtype=float32)),\n",
       " (632, array([ 0.8703], dtype=float32)),\n",
       " (340, array([ 0.4195], dtype=float32)),\n",
       " (2506, array([ 0.5176], dtype=float32)),\n",
       " (550, array([ 0.6469], dtype=float32)),\n",
       " (2277, array([ 0.6306], dtype=float32)),\n",
       " (833, array([ 0.6363], dtype=float32)),\n",
       " (74, array([ 0.9434], dtype=float32)),\n",
       " (1098, array([ 0.7668], dtype=float32)),\n",
       " (1475, array([ 0.8951], dtype=float32)),\n",
       " (456, array([ 0.5051], dtype=float32)),\n",
       " (394, array([ 0.5261], dtype=float32)),\n",
       " (1512, array([ 0.8242], dtype=float32)),\n",
       " (1492, array([ 0.7371], dtype=float32)),\n",
       " (319, array([ 0.7434], dtype=float32)),\n",
       " (1592, array([ 1.0681], dtype=float32)),\n",
       " (722, array([ 0.4335], dtype=float32)),\n",
       " (1516, array([ 0.6916], dtype=float32)),\n",
       " (1229, array([ 0.5381], dtype=float32)),\n",
       " (1032, array([ 0.708], dtype=float32)),\n",
       " (701, array([ 0.7383], dtype=float32)),\n",
       " (386, array([ 0.4636], dtype=float32)),\n",
       " (127, array([ 0.7929], dtype=float32)),\n",
       " (971, array([ 0.6432], dtype=float32)),\n",
       " (890, array([ 0.6269], dtype=float32)),\n",
       " (439, array([ 0.5762], dtype=float32)),\n",
       " (982, array([ 0.7848], dtype=float32)),\n",
       " (415, array([ 0.6577], dtype=float32)),\n",
       " (507, array([ 0.7036], dtype=float32)),\n",
       " (787, array([ 0.5357], dtype=float32)),\n",
       " (996, array([ 0.5936], dtype=float32)),\n",
       " (397, array([ 0.6328], dtype=float32)),\n",
       " (842, array([ 0.7604], dtype=float32)),\n",
       " (2236, array([ 0.7016], dtype=float32)),\n",
       " (401, array([ 0.5161], dtype=float32)),\n",
       " (624, array([ 0.7332], dtype=float32)),\n",
       " (2951, array([ 0.4447], dtype=float32)),\n",
       " (553, array([ 0.7184], dtype=float32)),\n",
       " (373, array([ 0.5922], dtype=float32)),\n",
       " (315, array([ 0.46], dtype=float32)),\n",
       " (1072, array([ 0.4077], dtype=float32)),\n",
       " (750, array([ 0.5049], dtype=float32)),\n",
       " (748, array([ 0.9], dtype=float32)),\n",
       " (696, array([ 0.5357], dtype=float32)),\n",
       " (651, array([ 0.6592], dtype=float32)),\n",
       " (219, array([ 0.9239], dtype=float32)),\n",
       " (487, array([ 0.8158], dtype=float32)),\n",
       " (876, array([ 0.5808], dtype=float32)),\n",
       " (164, array([ 0.5638], dtype=float32)),\n",
       " (1379, array([ 0.744], dtype=float32)),\n",
       " (799, array([ 0.696], dtype=float32)),\n",
       " (370, array([ 0.7575], dtype=float32)),\n",
       " (355, array([ 0.5835], dtype=float32)),\n",
       " (680, array([ 0.6513], dtype=float32)),\n",
       " (1167, array([ 0.3068], dtype=float32)),\n",
       " (149, array([ 0.3581], dtype=float32)),\n",
       " (398, array([ 1.0043], dtype=float32)),\n",
       " (1360, array([ 0.3543], dtype=float32)),\n",
       " (777, array([ 0.7341], dtype=float32)),\n",
       " (1054, array([ 0.5822], dtype=float32)),\n",
       " (444, array([ 0.6125], dtype=float32)),\n",
       " (1277, array([ 0.5442], dtype=float32)),\n",
       " (749, array([ 0.6889], dtype=float32)),\n",
       " (1608, array([ 0.9357], dtype=float32)),\n",
       " (1080, array([ 0.5065], dtype=float32)),\n",
       " (2061, array([ 0.6649], dtype=float32)),\n",
       " (94, array([ 0.7809], dtype=float32)),\n",
       " (73, array([ 0.5178], dtype=float32)),\n",
       " (1048, array([ 0.6073], dtype=float32)),\n",
       " (965, array([ 0.73], dtype=float32)),\n",
       " (353, array([ 0.4949], dtype=float32)),\n",
       " (1035, array([ 0.7387], dtype=float32)),\n",
       " (16, array([ 0.4819], dtype=float32)),\n",
       " (1572, array([ 0.8638], dtype=float32)),\n",
       " (1505, array([ 0.6352], dtype=float32)),\n",
       " (452, array([ 0.66], dtype=float32)),\n",
       " (1507, array([ 0.8588], dtype=float32)),\n",
       " (1260, array([ 0.8033], dtype=float32)),\n",
       " (582, array([ 0.8491], dtype=float32)),\n",
       " (368, array([ 0.826], dtype=float32)),\n",
       " (313, array([ 0.7512], dtype=float32)),\n",
       " (985, array([ 0.7025], dtype=float32)),\n",
       " (2082, array([ 0.671], dtype=float32)),\n",
       " (823, array([ 0.5864], dtype=float32)),\n",
       " (251, array([ 0.4653], dtype=float32)),\n",
       " (8, array([ 0.672], dtype=float32)),\n",
       " (39, array([ 0.7702], dtype=float32)),\n",
       " (523, array([ 0.572], dtype=float32)),\n",
       " (1354, array([ 0.8683], dtype=float32)),\n",
       " (844, array([ 0.5551], dtype=float32)),\n",
       " (361, array([ 0.5232], dtype=float32)),\n",
       " (1050, array([ 0.3955], dtype=float32)),\n",
       " (1308, array([ 0.7014], dtype=float32)),\n",
       " (1625, array([ 0.9142], dtype=float32)),\n",
       " (25, array([ 0.809], dtype=float32)),\n",
       " (285, array([ 0.5939], dtype=float32)),\n",
       " (43, array([ 0.8758], dtype=float32)),\n",
       " (243, array([ 0.8044], dtype=float32)),\n",
       " (1597, array([ 0.6901], dtype=float32)),\n",
       " (232, array([ 0.6616], dtype=float32)),\n",
       " (775, array([ 0.8512], dtype=float32)),\n",
       " (216, array([ 0.7758], dtype=float32)),\n",
       " (623, array([ 0.6664], dtype=float32)),\n",
       " (800, array([ 0.695], dtype=float32)),\n",
       " (253, array([ 0.7225], dtype=float32)),\n",
       " (922, array([ 0.5441], dtype=float32)),\n",
       " (388, array([ 0.7263], dtype=float32)),\n",
       " (1138, array([ 1.1402], dtype=float32)),\n",
       " (380, array([ 0.6747], dtype=float32)),\n",
       " (367, array([ 0.5015], dtype=float32)),\n",
       " (774, array([ 0.8877], dtype=float32)),\n",
       " (929, array([ 0.6708], dtype=float32)),\n",
       " (84, array([ 0.6949], dtype=float32)),\n",
       " (752, array([ 0.6905], dtype=float32)),\n",
       " (580, array([ 0.3114], dtype=float32)),\n",
       " (453, array([ 1.0912], dtype=float32)),\n",
       " (2166, array([ 1.0867], dtype=float32)),\n",
       " (424, array([ 0.6358], dtype=float32)),\n",
       " (308, array([ 0.822], dtype=float32)),\n",
       " (2171, array([ 0.6306], dtype=float32)),\n",
       " (841, array([ 0.516], dtype=float32)),\n",
       " (475, array([ 0.8126], dtype=float32)),\n",
       " (4135, array([ 0.5698], dtype=float32)),\n",
       " (382, array([ 0.6936], dtype=float32)),\n",
       " (1271, array([ 0.5436], dtype=float32)),\n",
       " (454, array([ 1.0405], dtype=float32)),\n",
       " (1225, array([ 0.9075], dtype=float32)),\n",
       " (702, array([ 0.8354], dtype=float32)),\n",
       " (168, array([ 0.4976], dtype=float32)),\n",
       " (785, array([ 0.9017], dtype=float32)),\n",
       " (440, array([ 0.6147], dtype=float32)),\n",
       " (378, array([ 0.4836], dtype=float32)),\n",
       " (1198, array([ 0.69], dtype=float32)),\n",
       " (788, array([ 0.7871], dtype=float32)),\n",
       " (140, array([ 0.7523], dtype=float32)),\n",
       " (1537, array([ 0.8151], dtype=float32)),\n",
       " (425, array([ 0.5911], dtype=float32)),\n",
       " (5, array([ 0.5674], dtype=float32)),\n",
       " (395, array([ 0.5647], dtype=float32)),\n",
       " (1008, array([ 0.9314], dtype=float32)),\n",
       " (904, array([ 0.6718], dtype=float32)),\n",
       " (3, array([ 0.7397], dtype=float32)),\n",
       " (675, array([ 0.331], dtype=float32)),\n",
       " (547, array([ 0.5347], dtype=float32)),\n",
       " (420, array([ 0.7389], dtype=float32)),\n",
       " (304, array([ 0.6279], dtype=float32)),\n",
       " (1384, array([ 0.514], dtype=float32)),\n",
       " (2095, array([ 0.666], dtype=float32)),\n",
       " (571, array([ 0.7409], dtype=float32)),\n",
       " (35, array([ 0.5547], dtype=float32)),\n",
       " (377, array([ 0.8408], dtype=float32)),\n",
       " (363, array([ 0.5051], dtype=float32)),\n",
       " (376, array([ 0.4906], dtype=float32)),\n",
       " (209, array([ 0.4914], dtype=float32)),\n",
       " (2073, array([ 0.9539], dtype=float32)),\n",
       " (13, array([ 0.5542], dtype=float32)),\n",
       " (356, array([ 0.4402], dtype=float32)),\n",
       " (231, array([ 0.6271], dtype=float32)),\n",
       " (944, array([ 0.0046], dtype=float32)),\n",
       " (265, array([ 0.6202], dtype=float32)),\n",
       " (17, array([ 0.5904], dtype=float32)),\n",
       " (822, array([ 0.041], dtype=float32)),\n",
       " (396, array([ 0.6145], dtype=float32)),\n",
       " (10, array([ 0.5614], dtype=float32)),\n",
       " (11, array([ 0.5406], dtype=float32)),\n",
       " (1207, array([ 0.5666], dtype=float32)),\n",
       " (12, array([ 0.8647], dtype=float32)),\n",
       " (131, array([ 0.5151], dtype=float32)),\n",
       " (406, array([ 0.7064], dtype=float32)),\n",
       " (6, array([ 0.7276], dtype=float32)),\n",
       " (261, array([ 0.8113], dtype=float32)),\n",
       " (4, array([ 1.0911], dtype=float32)),\n",
       " (390, array([ 0.8043], dtype=float32)),\n",
       " (242, array([ 0.8356], dtype=float32)),\n",
       " (1696, array([ 0.9598], dtype=float32)),\n",
       " (488, array([ 0.9255], dtype=float32)),\n",
       " (78, array([ 0.7368], dtype=float32)),\n",
       " (7, array([ 1.068], dtype=float32)),\n",
       " (578, array([ 0.9301], dtype=float32)),\n",
       " (816, array([ 0.4608], dtype=float32)),\n",
       " (95, array([ 0.7381], dtype=float32)),\n",
       " (1431, array([ 0.5009], dtype=float32)),\n",
       " (532, array([ 0.4587], dtype=float32)),\n",
       " (1275, array([ 0.5595], dtype=float32)),\n",
       " (976, array([ 0.7221], dtype=float32)),\n",
       " (1031, array([ 0.3522], dtype=float32)),\n",
       " (642, array([ 0.384], dtype=float32)),\n",
       " (491, array([ 0.8372], dtype=float32)),\n",
       " (634, array([ 0.7882], dtype=float32)),\n",
       " (2306, array([ 0.8599], dtype=float32)),\n",
       " (1044, array([ 0.834], dtype=float32)),\n",
       " (2090, array([ 0.7335], dtype=float32)),\n",
       " (350, array([ 0.8602], dtype=float32)),\n",
       " (2330, array([ 0.7032], dtype=float32)),\n",
       " (371, array([ 0.3667], dtype=float32)),\n",
       " (372, array([ 0.6475], dtype=float32)),\n",
       " (438, array([ 0.953], dtype=float32)),\n",
       " (351, array([ 0.616], dtype=float32)),\n",
       " (449, array([ 0.623], dtype=float32)),\n",
       " (1601, array([ 0.8293], dtype=float32)),\n",
       " (2154, array([ 0.5885], dtype=float32)),\n",
       " (552, array([ 0.4687], dtype=float32)),\n",
       " (384, array([ 0.4243], dtype=float32)),\n",
       " (1757, array([ 0.957], dtype=float32)),\n",
       " (268, array([ 0.8151], dtype=float32)),\n",
       " (1026, array([ 0.8568], dtype=float32)),\n",
       " (2251, array([ 0.5885], dtype=float32)),\n",
       " (112, array([ 0.6879], dtype=float32)),\n",
       " (1187, array([ 0.4102], dtype=float32)),\n",
       " (826, array([ 0.7347], dtype=float32)),\n",
       " (1530, array([ 0.8635], dtype=float32)),\n",
       " (625, array([ 0.7117], dtype=float32)),\n",
       " (107, array([ 0.6145], dtype=float32)),\n",
       " (678, array([ 0.6172], dtype=float32)),\n",
       " (1043, array([ 0.6708], dtype=float32)),\n",
       " (1079, array([ 0.3121], dtype=float32)),\n",
       " (421, array([ 0.6506], dtype=float32)),\n",
       " (1103, array([ 0.9228], dtype=float32)),\n",
       " (667, array([ 0.7603], dtype=float32)),\n",
       " (915, array([ 0.4811], dtype=float32)),\n",
       " (541, array([ 0.5344], dtype=float32)),\n",
       " (1648, array([ 0.9079], dtype=float32)),\n",
       " (446, array([ 0.6107], dtype=float32)),\n",
       " (33, array([ 0.6357], dtype=float32)),\n",
       " (448, array([ 0.7284], dtype=float32)),\n",
       " (1506, array([ 0.6379], dtype=float32)),\n",
       " (950, array([ 0.5107], dtype=float32)),\n",
       " (338, array([ 0.8714], dtype=float32)),\n",
       " (97, array([ 0.7582], dtype=float32)),\n",
       " (18, array([ 0.4269], dtype=float32)),\n",
       " (1811, array([ 1.0317], dtype=float32)),\n",
       " (635, array([ 0.7986], dtype=float32)),\n",
       " (1028, array([ 0.7725], dtype=float32)),\n",
       " (747, array([ 1.0042], dtype=float32)),\n",
       " (1299, array([ 0.5374], dtype=float32)),\n",
       " (963, array([ 0.75], dtype=float32)),\n",
       " (683, array([ 0.369], dtype=float32)),\n",
       " (628, array([ 0.5143], dtype=float32)),\n",
       " (888, array([ 0.8822], dtype=float32)),\n",
       " (0, array([ 0.802], dtype=float32)),\n",
       " (2309, array([ 0.7659], dtype=float32)),\n",
       " (223, array([ 0.6581], dtype=float32)),\n",
       " (1539, array([ 0.495], dtype=float32)),\n",
       " (1, array([ 0.8237], dtype=float32)),\n",
       " (15, array([ 0.4754], dtype=float32)),\n",
       " (379, array([ 0.8628], dtype=float32)),\n",
       " (3009, array([ 0.5786], dtype=float32)),\n",
       " (381, array([ 0.8197], dtype=float32)),\n",
       " (405, array([ 0.7753], dtype=float32)),\n",
       " (93, array([ 0.68], dtype=float32)),\n",
       " (2208, array([ 0.7765], dtype=float32)),\n",
       " (241, array([ 1.0629], dtype=float32)),\n",
       " (1514, array([ 0.8617], dtype=float32)),\n",
       " (245, array([ 0.5091], dtype=float32)),\n",
       " (936, array([ 0.5621], dtype=float32)),\n",
       " (689, array([ 0.5658], dtype=float32)),\n",
       " (124, array([ 0.7781], dtype=float32)),\n",
       " (85, array([ 0.478], dtype=float32)),\n",
       " (3003, array([ 0.9816], dtype=float32)),\n",
       " (884, array([ 0.6758], dtype=float32)),\n",
       " (366, array([ 0.6064], dtype=float32)),\n",
       " (1166, array([ 0.6921], dtype=float32)),\n",
       " (1654, array([ 1.0084], dtype=float32)),\n",
       " (1623, array([ 0.936], dtype=float32)),\n",
       " (1181, array([ 0.6867], dtype=float32)),\n",
       " (2176, array([ 0.8886], dtype=float32)),\n",
       " (1944, array([ 1.0367], dtype=float32)),\n",
       " (1946, array([ 0.8119], dtype=float32)),\n",
       " (1954, array([ 0.7767], dtype=float32)),\n",
       " (762, array([ 0.6995], dtype=float32)),\n",
       " (218, array([ 0.6899], dtype=float32)),\n",
       " (789, array([ 0.7999], dtype=float32)),\n",
       " (108, array([ 0.6067], dtype=float32)),\n",
       " (874, array([ 0.6971], dtype=float32)),\n",
       " (516, array([ 0.9408], dtype=float32)),\n",
       " (868, array([ 0.7109], dtype=float32)),\n",
       " (1478, array([ 0.9963], dtype=float32)),\n",
       " (1464, array([ 0.8149], dtype=float32)),\n",
       " (1423, array([ 0.8293], dtype=float32)),\n",
       " (1459, array([ 0.6108], dtype=float32)),\n",
       " (1500, array([ 0.6493], dtype=float32)),\n",
       " (780, array([ 0.8433], dtype=float32)),\n",
       " (357, array([ 0.4661], dtype=float32)),\n",
       " (469, array([ 1.0035], dtype=float32)),\n",
       " (721, array([ 0.3002], dtype=float32)),\n",
       " (739, array([ 1.0208], dtype=float32)),\n",
       " (230, array([ 0.586], dtype=float32)),\n",
       " (956, array([ 0.7156], dtype=float32)),\n",
       " (437, array([ 1.1829], dtype=float32)),\n",
       " (581, array([ 0.9373], dtype=float32)),\n",
       " (220, array([ 0.4622], dtype=float32)),\n",
       " (535, array([ 0.6839], dtype=float32)),\n",
       " (871, array([ 0.8789], dtype=float32)),\n",
       " (809, array([ 0.9634], dtype=float32)),\n",
       " (9, array([ 0.8694], dtype=float32)),\n",
       " (100, array([ 0.156], dtype=float32)),\n",
       " (46, array([ 0.8527], dtype=float32)),\n",
       " (1210, array([ 0.6262], dtype=float32)),\n",
       " (589, array([ 0.286], dtype=float32)),\n",
       " (570, array([ 0.4836], dtype=float32)),\n",
       " (362, array([ 0.5562], dtype=float32)),\n",
       " (1045, array([ 0.7936], dtype=float32)),\n",
       " (53, array([ 0.8873], dtype=float32)),\n",
       " (2195, array([ 0.779], dtype=float32)),\n",
       " (2644, array([ 0.4488], dtype=float32)),\n",
       " (2622, array([ 0.7223], dtype=float32)),\n",
       " (247, array([ 0.6287], dtype=float32)),\n",
       " (974, array([ 1.2081], dtype=float32)),\n",
       " (228, array([ 0.6929], dtype=float32)),\n",
       " (771, array([ 0.9682], dtype=float32)),\n",
       " (2713, array([ 1.0198], dtype=float32)),\n",
       " (1338, array([ 0.5564], dtype=float32)),\n",
       " (740, array([ 1.1066], dtype=float32)),\n",
       " (262, array([ 0.5761], dtype=float32)),\n",
       " (627, array([ 0.6723], dtype=float32)),\n",
       " (1527, array([ 0.9978], dtype=float32)),\n",
       " (657, array([ 0.6706], dtype=float32)),\n",
       " (659, array([ 0.4939], dtype=float32)),\n",
       " (1546, array([ 0.9397], dtype=float32)),\n",
       " (1480, array([ 0.8], dtype=float32)),\n",
       " (2702, array([ 0.6246], dtype=float32)),\n",
       " (700, array([ 0.6772], dtype=float32)),\n",
       " (1062, array([ 0.5858], dtype=float32)),\n",
       " (1436, array([ 0.9467], dtype=float32)),\n",
       " (310, array([ 0.5417], dtype=float32)),\n",
       " (2153, array([ 0.8786], dtype=float32)),\n",
       " (2486, array([ 1.2345], dtype=float32)),\n",
       " (1412, array([ 0.7432], dtype=float32)),\n",
       " (2169, array([ 0.8848], dtype=float32)),\n",
       " (3016, array([ 0.4043], dtype=float32)),\n",
       " (2411, array([ 0.9104], dtype=float32)),\n",
       " (1206, array([ 0.6232], dtype=float32)),\n",
       " (2189, array([ 0.7394], dtype=float32)),\n",
       " (1617, array([ 0.6568], dtype=float32)),\n",
       " (2198, array([ 0.9191], dtype=float32)),\n",
       " (509, array([ 0.9638], dtype=float32)),\n",
       " (1083, array([ 0.3358], dtype=float32)),\n",
       " (2682, array([ 0.7835], dtype=float32)),\n",
       " (1153, array([ 0.6162], dtype=float32)),\n",
       " (1148, array([ 0.8337], dtype=float32)),\n",
       " (1528, array([ 0.6816], dtype=float32)),\n",
       " (1836, array([ 0.8927], dtype=float32)),\n",
       " (411, array([ 0.3247], dtype=float32)),\n",
       " (1413, array([ 0.7211], dtype=float32)),\n",
       " (887, array([ 0.7558], dtype=float32)),\n",
       " (894, array([ 0.8598], dtype=float32)),\n",
       " (889, array([ 0.7276], dtype=float32)),\n",
       " (945, array([ 0.7259], dtype=float32)),\n",
       " (2613, array([ 0.7767], dtype=float32)),\n",
       " (429, array([ 0.839], dtype=float32)),\n",
       " (892, array([ 0.9704], dtype=float32)),\n",
       " (283, array([ 0.4769], dtype=float32)),\n",
       " (451, array([ 0.9294], dtype=float32)),\n",
       " (14, array([ 0.7926], dtype=float32)),\n",
       " (226, array([ 0.7017], dtype=float32)),\n",
       " (410, array([ 0.5819], dtype=float32)),\n",
       " (986, array([ 0.6726], dtype=float32)),\n",
       " (751, array([ 0.6437], dtype=float32)),\n",
       " (2763, array([ 0.6556], dtype=float32)),\n",
       " (633, array([ 0.9108], dtype=float32)),\n",
       " (520, array([ 0.5618], dtype=float32)),\n",
       " (626, array([ 1.2453], dtype=float32)),\n",
       " (640, array([ 0.7059], dtype=float32)),\n",
       " (724, array([ 0.8436], dtype=float32)),\n",
       " (1165, array([ 0.5699], dtype=float32)),\n",
       " (1486, array([ 0.4388], dtype=float32)),\n",
       " (1021, array([ 0.7418], dtype=float32)),\n",
       " (257, array([ 0.8045], dtype=float32)),\n",
       " (2276, array([ 0.752], dtype=float32)),\n",
       " (2193, array([ 0.8119], dtype=float32)),\n",
       " (522, array([ 1.0119], dtype=float32)),\n",
       " (2685, array([ 0.7494], dtype=float32)),\n",
       " (337, array([ 0.608], dtype=float32)),\n",
       " (910, array([ 0.3938], dtype=float32)),\n",
       " (811, array([ 0.6677], dtype=float32)),\n",
       " (1092, array([ 1.0534], dtype=float32)),\n",
       " (2751, array([ 0.881], dtype=float32)),\n",
       " (1300, array([ 0.8359], dtype=float32)),\n",
       " (1437, array([ 0.8419], dtype=float32)),\n",
       " (679, array([ 0.3029], dtype=float32)),\n",
       " (999, array([ 0.6403], dtype=float32)),\n",
       " (322, array([ 0.7327], dtype=float32)),\n",
       " (930, array([ 0.637], dtype=float32)),\n",
       " (250, array([ 0.7138], dtype=float32)),\n",
       " (2668, array([ 0.7987], dtype=float32)),\n",
       " (1810, array([ 0.9477], dtype=float32)),\n",
       " (1304, array([ 0.7516], dtype=float32)),\n",
       " (637, array([ 1.25], dtype=float32)),\n",
       " (2289, array([ 0.5639], dtype=float32)),\n",
       " (1363, array([ 0.4772], dtype=float32)),\n",
       " (1457, array([ 0.5923], dtype=float32)),\n",
       " (63, array([ 0.4888], dtype=float32)),\n",
       " (1419, array([ 0.6703], dtype=float32)),\n",
       " (2310, array([ 0.7091], dtype=float32)),\n",
       " (235, array([ 0.7417], dtype=float32)),\n",
       " (234, array([ 0.6136], dtype=float32)),\n",
       " (1439, array([ 0.4167], dtype=float32)),\n",
       " (952, array([ 0.2628], dtype=float32)),\n",
       " (1453, array([ 0.7799], dtype=float32)),\n",
       " (1302, array([ 0.6709], dtype=float32)),\n",
       " (2190, array([ 0.7239], dtype=float32)),\n",
       " (1652, array([ 0.6673], dtype=float32)),\n",
       " (2077, array([ 0.406], dtype=float32)),\n",
       " (2275, array([ 0.6847], dtype=float32)),\n",
       " (2245, array([ 0.9351], dtype=float32)),\n",
       " (611, array([ 0.4327], dtype=float32)),\n",
       " (687, array([ 0.6363], dtype=float32)),\n",
       " (636, array([ 0.9286], dtype=float32)),\n",
       " (1369, array([ 0.8384], dtype=float32)),\n",
       " (897, array([ 0.868], dtype=float32)),\n",
       " (2480, array([ 0.621], dtype=float32)),\n",
       " (2187, array([ 0.6396], dtype=float32)),\n",
       " (1501, array([ 1.0172], dtype=float32)),\n",
       " (2505, array([ 0.7905], dtype=float32)),\n",
       " (1630, array([ 1.1919], dtype=float32)),\n",
       " (1433, array([ 0.5539], dtype=float32)),\n",
       " (70, array([ 0.9461], dtype=float32)),\n",
       " (493, array([ 0.6617], dtype=float32)),\n",
       " (156, array([ 0.4592], dtype=float32)),\n",
       " (427, array([ 1.0656], dtype=float32)),\n",
       " (2, array([ 0.884], dtype=float32)),\n",
       " (755, array([ 0.9854], dtype=float32)),\n",
       " (413, array([ 0.816], dtype=float32)),\n",
       " (882, array([ 0.7686], dtype=float32)),\n",
       " (671, array([ 0.8552], dtype=float32)),\n",
       " (1162, array([ 0.6213], dtype=float32)),\n",
       " (1141, array([ 0.3786], dtype=float32)),\n",
       " (1554, array([ 0.9467], dtype=float32)),\n",
       " (3437, array([ 0.62], dtype=float32)),\n",
       " (734, array([ 0.6529], dtype=float32)),\n",
       " (793, array([ 0.8457], dtype=float32)),\n",
       " (691, array([ 1.0253], dtype=float32)),\n",
       " (1156, array([ 0.426], dtype=float32)),\n",
       " (703, array([ 0.6699], dtype=float32)),\n",
       " (147, array([ 0.8541], dtype=float32)),\n",
       " (1850, array([ 1.3279], dtype=float32)),\n",
       " (1398, array([ 0.7092], dtype=float32)),\n",
       " (375, array([ 0.7823], dtype=float32)),\n",
       " (840, array([ 0.4039], dtype=float32)),\n",
       " (2966, array([ 0.7064], dtype=float32)),\n",
       " (3678, array([ 0.7823], dtype=float32)),\n",
       " (96, array([ 0.5145], dtype=float32)),\n",
       " (521, array([ 0.7718], dtype=float32)),\n",
       " (556, array([ 0.5624], dtype=float32)),\n",
       " (249, array([ 0.4845], dtype=float32)),\n",
       " (2199, array([ 0.5271], dtype=float32)),\n",
       " (1034, array([ 0.8489], dtype=float32)),\n",
       " (960, array([ 0.98], dtype=float32)),\n",
       " (2578, array([ 0.7043], dtype=float32)),\n",
       " (1317, array([ 0.5013], dtype=float32)),\n",
       " (2561, array([ 0.6658], dtype=float32)),\n",
       " (989, array([ 0.634], dtype=float32)),\n",
       " (1037, array([ 1.1629], dtype=float32)),\n",
       " (1448, array([ 0.6358], dtype=float32)),\n",
       " (861, array([ 0.2625], dtype=float32)),\n",
       " (2209, array([ 0.9035], dtype=float32)),\n",
       " (1864, array([ 0.7942], dtype=float32)),\n",
       " (2329, array([ 0.9529], dtype=float32)),\n",
       " (1468, array([ 0.8217], dtype=float32)),\n",
       " (966, array([ 0.7667], dtype=float32)),\n",
       " (3120, array([ 0.6103], dtype=float32)),\n",
       " (980, array([ 0.7153], dtype=float32)),\n",
       " (1532, array([ 0.7084], dtype=float32)),\n",
       " (654, array([ 0.6759], dtype=float32)),\n",
       " (758, array([ 0.7507], dtype=float32)),\n",
       " (2246, array([ 0.5775], dtype=float32)),\n",
       " (1526, array([ 0.5514], dtype=float32)),\n",
       " (4274, array([ 0.5014], dtype=float32)),\n",
       " (2260, array([ 0.3178], dtype=float32)),\n",
       " (873, array([ 0.577], dtype=float32)),\n",
       " (872, array([ 0.886], dtype=float32)),\n",
       " (1184, array([ 0.2376], dtype=float32)),\n",
       " (1551, array([ 0.6852], dtype=float32)),\n",
       " (2135, array([ 1.1521], dtype=float32)),\n",
       " (692, array([ 1.0304], dtype=float32)),\n",
       " (914, array([ 0.477], dtype=float32)),\n",
       " (2648, array([ 0.5611], dtype=float32)),\n",
       " (713, array([ 0.9617], dtype=float32)),\n",
       " (518, array([ 0.6355], dtype=float32)),\n",
       " (920, array([ 0.7103], dtype=float32)),\n",
       " (2950, array([ 0.7104], dtype=float32)),\n",
       " (622, array([ 0.6343], dtype=float32)),\n",
       " (1296, array([ 0.5468], dtype=float32)),\n",
       " (1203, array([ 0.4775], dtype=float32)),\n",
       " (2337, array([ 0.6537], dtype=float32)),\n",
       " (2162, array([ 1.0789], dtype=float32)),\n",
       " (2512, array([ 0.3759], dtype=float32)),\n",
       " (2684, array([ 0.655], dtype=float32)),\n",
       " (1955, array([ 0.9754], dtype=float32)),\n",
       " (1056, array([ 0.6163], dtype=float32)),\n",
       " (1567, array([ 0.8005], dtype=float32)),\n",
       " (1578, array([ 1.0601], dtype=float32)),\n",
       " (1151, array([ 1.3299], dtype=float32)),\n",
       " (2513, array([ 0.4687], dtype=float32)),\n",
       " (1631, array([ 0.6249], dtype=float32)),\n",
       " (2163, array([ 0.7798], dtype=float32)),\n",
       " (1089, array([ 0.2745], dtype=float32)),\n",
       " (1364, array([ 0.5176], dtype=float32)),\n",
       " (4197, array([ 0.9938], dtype=float32)),\n",
       " (1144, array([ 0.5932], dtype=float32)),\n",
       " (2311, array([ 0.9694], dtype=float32)),\n",
       " (2990, array([ 0.9777], dtype=float32)),\n",
       " (2344, array([ 1.1333], dtype=float32)),\n",
       " (746, array([ 0.838], dtype=float32)),\n",
       " (646, array([ 0.288], dtype=float32)),\n",
       " (236, array([ 0.4604], dtype=float32)),\n",
       " (711, array([ 0.6994], dtype=float32)),\n",
       " (832, array([ 0.133], dtype=float32)),\n",
       " (545, array([ 0.5503], dtype=float32)),\n",
       " (621, array([ 0.7242], dtype=float32)),\n",
       " (783, array([ 1.0689], dtype=float32)),\n",
       " (288, array([ 0.7843], dtype=float32)),\n",
       " (360, array([ 0.7085], dtype=float32)),\n",
       " (3012, array([ 0.6954], dtype=float32)),\n",
       " (309, array([ 0.9834], dtype=float32)),\n",
       " (744, array([ 0.7096], dtype=float32)),\n",
       " (1386, array([ 0.5913], dtype=float32)),\n",
       " (2158, array([ 1.0599], dtype=float32)),\n",
       " (1635, array([ 0.5793], dtype=float32)),\n",
       " (3105, array([ 1.1253], dtype=float32)),\n",
       " (1472, array([ 0.8084], dtype=float32)),\n",
       " (649, array([ 0.4534], dtype=float32)),\n",
       " (2465, array([ 0.4861], dtype=float32)),\n",
       " (1797, array([ 1.1283], dtype=float32)),\n",
       " (1164, array([ 0.6883], dtype=float32)),\n",
       " (576, array([ 0.6615], dtype=float32)),\n",
       " (4306, array([ 0.5122], dtype=float32)),\n",
       " (807, array([ 0.8163], dtype=float32)),\n",
       " (2045, array([ 0.3853], dtype=float32)),\n",
       " (2548, array([ 0.676], dtype=float32)),\n",
       " (2998, array([ 0.8294], dtype=float32)),\n",
       " (2742, array([ 0.3385], dtype=float32)),\n",
       " (1055, array([ 0.4467], dtype=float32)),\n",
       " (1452, array([ 0.5901], dtype=float32)),\n",
       " (2704, array([ 0.2706], dtype=float32)),\n",
       " (1865, array([ 0.6179], dtype=float32)),\n",
       " (303, array([ 0.8047], dtype=float32)),\n",
       " (116, array([ 0.6576], dtype=float32)),\n",
       " (764, array([ 0.355], dtype=float32)),\n",
       " (869, array([ 1.2362], dtype=float32)),\n",
       " (1005, array([ 0.9249], dtype=float32)),\n",
       " (3124, array([ 0.6286], dtype=float32)),\n",
       " (1226, array([ 0.3706], dtype=float32)),\n",
       " (316, array([ 0.5824], dtype=float32)),\n",
       " (603, array([ 0.4822], dtype=float32)),\n",
       " (591, array([ 0.6682], dtype=float32)),\n",
       " (866, array([ 0.8095], dtype=float32)),\n",
       " (1027, array([ 0.8195], dtype=float32)),\n",
       " (2192, array([ 0.9365], dtype=float32)),\n",
       " (2182, array([ 0.7737], dtype=float32)),\n",
       " (530, array([ 0.2143], dtype=float32)),\n",
       " (968, array([ 0.7097], dtype=float32)),\n",
       " (1594, array([ 1.1917], dtype=float32)),\n",
       " (629, array([ 0.8919], dtype=float32)),\n",
       " (2205, array([ 0.9437], dtype=float32)),\n",
       " (1030, array([ 0.6052], dtype=float32)),\n",
       " (1832, array([ 0.863], dtype=float32)),\n",
       " (258, array([ 0.7804], dtype=float32)),\n",
       " (400, array([ 0.5926], dtype=float32)),\n",
       " (1479, array([ 0.9602], dtype=float32)),\n",
       " (175, array([ 0.5197], dtype=float32)),\n",
       " (2177, array([ 0.629], dtype=float32)),\n",
       " (514, array([ 0.889], dtype=float32)),\n",
       " (2210, array([ 0.4859], dtype=float32)),\n",
       " (1397, array([ 0.7701], dtype=float32)),\n",
       " (2258, array([ 0.5235], dtype=float32)),\n",
       " (2338, array([ 0.7875], dtype=float32)),\n",
       " (422, array([ 0.8909], dtype=float32)),\n",
       " (2647, array([ 0.7399], dtype=float32)),\n",
       " (1394, array([ 0.6852], dtype=float32)),\n",
       " (1315, array([ 0.3989], dtype=float32)),\n",
       " (1320, array([ 0.8739], dtype=float32)),\n",
       " (2227, array([ 0.8601], dtype=float32)),\n",
       " (2058, array([ 0.7373], dtype=float32)),\n",
       " (900, array([ 0.745], dtype=float32)),\n",
       " (2081, array([ 0.4274], dtype=float32)),\n",
       " (109, array([ 0.6862], dtype=float32)),\n",
       " (1679, array([ 0.9452], dtype=float32)),\n",
       " (860, array([ 0.182], dtype=float32)),\n",
       " (270, array([ 0.6237], dtype=float32)),\n",
       " (1158, array([ 0.5229], dtype=float32)),\n",
       " (104, array([ 0.8004], dtype=float32)),\n",
       " (2165, array([ 1.0759], dtype=float32)),\n",
       " (753, array([ 0.9663], dtype=float32)),\n",
       " (1227, array([ 0.6266], dtype=float32)),\n",
       " (3123, array([ 0.5829], dtype=float32)),\n",
       " (1361, array([ 0.5375], dtype=float32)),\n",
       " (3383, array([ 0.3386], dtype=float32)),\n",
       " (3135, array([ 0.9973], dtype=float32)),\n",
       " (2712, array([ 0.8614], dtype=float32)),\n",
       " (2498, array([ 1.0841], dtype=float32)),\n",
       " (1959, array([ 0.6384], dtype=float32)),\n",
       " (1016, array([ 0.5129], dtype=float32)),\n",
       " (1014, array([ 0.3684], dtype=float32)),\n",
       " (735, array([ 1.0004], dtype=float32)),\n",
       " (2456, array([ 1.3241], dtype=float32)),\n",
       " (644, array([ 0.6057], dtype=float32)),\n",
       " (277, array([ 0.138], dtype=float32)),\n",
       " (614, array([ 0.6704], dtype=float32)),\n",
       " (2175, array([ 0.3264], dtype=float32)),\n",
       " (604, array([ 0.411], dtype=float32)),\n",
       " (3666, array([ 0.4058], dtype=float32)),\n",
       " (2410, array([ 0.8705], dtype=float32)),\n",
       " (4112, array([ 0.3424], dtype=float32)),\n",
       " (3064, array([ 0.4945], dtype=float32)),\n",
       " (664, array([ 0.8593], dtype=float32)),\n",
       " (461, array([ 0.6368], dtype=float32)),\n",
       " (1075, array([ 0.9872], dtype=float32)),\n",
       " (1474, array([ 0.8056], dtype=float32)),\n",
       " (484, array([ 0.9999], dtype=float32)),\n",
       " (215, array([ 0.451], dtype=float32)),\n",
       " (47, array([ 0.6912], dtype=float32)),\n",
       " (546, array([ 0.8649], dtype=float32)),\n",
       " (1303, array([ 0.7274], dtype=float32)),\n",
       " (2076, array([ 0.6578], dtype=float32)),\n",
       " (1018, array([ 0.6429], dtype=float32)),\n",
       " (745, array([ 0.7308], dtype=float32)),\n",
       " (408, array([ 0.7724], dtype=float32)),\n",
       " (1195, array([ 0.6512], dtype=float32)),\n",
       " (472, array([ 0.877], dtype=float32)),\n",
       " (1563, array([ 0.7874], dtype=float32)),\n",
       " (1619, array([ 0.587], dtype=float32)),\n",
       " (1732, array([ 1.2036], dtype=float32)),\n",
       " (673, array([ 0.7879], dtype=float32)),\n",
       " (259, array([ 0.6186], dtype=float32)),\n",
       " (737, array([ 0.9639], dtype=float32)),\n",
       " (1645, array([ 0.9791], dtype=float32)),\n",
       " (2579, array([ 0.7093], dtype=float32)),\n",
       " (1826, array([ 0.8047], dtype=float32)),\n",
       " (1848, array([ 1.0114], dtype=float32)),\n",
       " (2397, array([ 1.3824], dtype=float32)),\n",
       " (706, array([ 0.8385], dtype=float32)),\n",
       " (674, array([ 0.6623], dtype=float32)),\n",
       " (2547, array([ 0.8151], dtype=float32)),\n",
       " (494, array([ 0.6886], dtype=float32)),\n",
       " (2525, array([ 0.2657], dtype=float32)),\n",
       " (1605, array([ 1.0922], dtype=float32)),\n",
       " (3664, array([ 0.5914], dtype=float32)),\n",
       " (1711, array([ 0.9004], dtype=float32)),\n",
       " (2063, array([ 0.7582], dtype=float32)),\n",
       " (28, array([ 0.7158], dtype=float32)),\n",
       " (4238, array([ 0.5891], dtype=float32)),\n",
       " (2066, array([ 0.4554], dtype=float32)),\n",
       " (2288, array([ 0.9105], dtype=float32)),\n",
       " (772, array([ 1.1437], dtype=float32)),\n",
       " (1215, array([ 0.6823], dtype=float32)),\n",
       " (2173, array([ 0.8537], dtype=float32)),\n",
       " (877, array([ 0.7099], dtype=float32)),\n",
       " (1952, array([ 0.6892], dtype=float32)),\n",
       " (1261, array([ 0.6371], dtype=float32)),\n",
       " (853, array([ 0.1597], dtype=float32)),\n",
       " (2161, array([ 0.8418], dtype=float32)),\n",
       " (1244, array([ 0.7247], dtype=float32)),\n",
       " (600, array([ 0.5882], dtype=float32)),\n",
       " (2020, array([ 0.789], dtype=float32)),\n",
       " (1543, array([ 0.9166], dtype=float32)),\n",
       " (513, array([ 0.6761], dtype=float32)),\n",
       " (3062, array([ 0.4351], dtype=float32)),\n",
       " (577, array([ 0.4297], dtype=float32)),\n",
       " (3020, array([ 0.2955], dtype=float32)),\n",
       " (2083, array([ 0.2433], dtype=float32)),\n",
       " (3555, array([ 0.6819], dtype=float32)),\n",
       " (1488, array([ 0.7777], dtype=float32)),\n",
       " (2126, array([ 0.7536], dtype=float32)),\n",
       " (1482, array([ 0.9892], dtype=float32)),\n",
       " ...]"
      ]
     },
     "execution_count": 160,
     "metadata": {},
     "output_type": "execute_result"
    }
   ],
   "source": [
    "zip(topMovies, movie_bias)"
   ]
  },
  {
   "cell_type": "code",
   "execution_count": 159,
   "metadata": {
    "collapsed": false
   },
   "outputs": [
    {
     "data": {
      "text/plain": [
       "[(1.0069525, 'Forrest Gump (1994)'),\n",
       " (1.0625799, 'Pulp Fiction (1994)'),\n",
       " (1.2656702, 'Shawshank Redemption, The (1994)'),\n",
       " (1.0792106, 'Silence of the Lambs, The (1991)'),\n",
       " (0.92464334, 'Star Wars: Episode IV - A New Hope (1977)'),\n",
       " (0.85171789, 'Jurassic Park (1993)'),\n",
       " (0.89157087, 'Matrix, The (1999)'),\n",
       " (0.77026284, 'Toy Story (1995)'),\n",
       " (1.075048, \"Schindler's List (1993)\"),\n",
       " (0.80471236, 'Terminator 2: Judgment Day (1991)'),\n",
       " (0.88415796, 'Star Wars: Episode V - The Empire Strikes Back (1980)'),\n",
       " (0.86500627, 'Braveheart (1995)'),\n",
       " (0.92293924, 'Back to the Future (1985)'),\n",
       " (1.0475496, 'Fargo (1996)'),\n",
       " (0.85085064,\n",
       "  'Raiders of the Lost Ark (Indiana Jones and the Raiders of the Lost Ark) (1981)'),\n",
       " (0.91505587, 'American Beauty (1999)'),\n",
       " (0.84909695, 'Independence Day (a.k.a. ID4) (1996)'),\n",
       " (0.87804919, 'Star Wars: Episode VI - Return of the Jedi (1983)'),\n",
       " (0.74436605, 'Aladdin (1992)'),\n",
       " (1.1115816, 'Fugitive, The (1993)'),\n",
       " (0.83457738, 'Fight Club (1999)'),\n",
       " (0.78698927, 'Dances with Wolves (1990)'),\n",
       " (0.83449316, 'Seven (a.k.a. Se7en) (1995)'),\n",
       " (0.98460472, 'Usual Suspects, The (1995)'),\n",
       " (0.70705277, 'Lion King, The (1994)'),\n",
       " (1.1928998, 'Godfather, The (1972)'),\n",
       " (0.83968872, 'Lord of the Rings: The Fellowship of the Ring, The (2001)'),\n",
       " (0.98098946, 'Apollo 13 (1995)'),\n",
       " (0.61644518, 'True Lies (1994)'),\n",
       " (0.80802602, 'Batman (1989)'),\n",
       " (0.94531101, 'Twelve Monkeys (a.k.a. 12 Monkeys) (1995)'),\n",
       " (0.85326976, 'Sixth Sense, The (1999)'),\n",
       " (0.76521635, 'Saving Private Ryan (1998)'),\n",
       " (0.72465783, 'Men in Black (a.k.a. MIB) (1997)'),\n",
       " (0.80961442, 'Lord of the Rings: The Two Towers, The (2002)'),\n",
       " (0.80822408, 'Speed (1994)'),\n",
       " (0.7958917, 'Beauty and the Beast (1991)'),\n",
       " (0.89753938, 'Lord of the Rings: The Return of the King, The (2003)'),\n",
       " (0.3739666, 'Ace Ventura: Pet Detective (1994)'),\n",
       " (0.71184736, 'Shrek (2001)'),\n",
       " (0.79542547, 'Mission: Impossible (1996)'),\n",
       " (0.65847951, 'Groundhog Day (1993)'),\n",
       " (0.52622288, 'Titanic (1997)'),\n",
       " (0.85959065, 'Princess Bride, The (1987)'),\n",
       " (0.80570054, 'Gladiator (2000)'),\n",
       " (0.63889474, 'E.T. the Extra-Terrestrial (1982)'),\n",
       " (0.77057505, 'Terminator, The (1984)'),\n",
       " (0.28336325, 'Dumb & Dumber (Dumb and Dumber) (1994)'),\n",
       " (0.55417728, 'Mask, The (1994)'),\n",
       " (0.85234946, 'Good Will Hunting (1997)'),\n",
       " (0.83335549, 'Mrs. Doubtfire (1993)'),\n",
       " (0.65075266, 'Die Hard (1988)'),\n",
       " (0.64190704, 'Twister (1996)'),\n",
       " (0.65191483, 'Babe (1995)'),\n",
       " (0.83725744, 'Willy Wonka & the Chocolate Factory (1971)'),\n",
       " (0.60306388, 'Ghostbusters (a.k.a. Ghost Busters) (1984)'),\n",
       " (0.70388705, 'Pretty Woman (1990)'),\n",
       " (0.99115938, 'Indiana Jones and the Last Crusade (1989)'),\n",
       " (0.87258804, 'Blade Runner (1982)'),\n",
       " (0.88008744, 'Monty Python and the Holy Grail (1975)'),\n",
       " (0.77877355, 'Stargate (1994)'),\n",
       " (0.94984907, \"One Flew Over the Cuckoo's Nest (1975)\"),\n",
       " (0.87227398, 'Die Hard: With a Vengeance (1995)'),\n",
       " (0.69272763, 'Pirates of the Caribbean: The Curse of the Black Pearl (2003)'),\n",
       " (0.45938754, 'Star Wars: Episode I - The Phantom Menace (1999)'),\n",
       " (0.8480655, 'Truman Show, The (1998)'),\n",
       " (1.0336009, 'Godfather: Part II, The (1974)'),\n",
       " (0.91063374, 'Rock, The (1996)'),\n",
       " (0.5132677, 'Spider-Man (2002)'),\n",
       " (0.70912713, \"Ferris Bueller's Day Off (1986)\"),\n",
       " (0.75360453, 'Reservoir Dogs (1992)'),\n",
       " (0.96133232, 'Memento (2000)'),\n",
       " (0.92351335,\n",
       "  'L\\xc3\\xa9on: The Professional (a.k.a. The Professional) (L\\xc3\\xa9on) (1994)'),\n",
       " (0.81766695, 'Goodfellas (1990)'),\n",
       " (0.81248015, \"Ocean's Eleven (2001)\"),\n",
       " (0.74547613, 'Monsters, Inc. (2001)'),\n",
       " (0.57914817, 'Home Alone (1990)'),\n",
       " (0.60088187, 'Batman Forever (1995)'),\n",
       " (0.62137562, 'Alien (1979)'),\n",
       " (0.6980443, 'X-Men (2000)'),\n",
       " (0.75110447, 'Incredibles, The (2004)'),\n",
       " (0.70349431, 'Being John Malkovich (1999)'),\n",
       " (0.61016911, 'Ghost (1990)'),\n",
       " (0.73297781, 'Aliens (1986)'),\n",
       " (0.69471014, 'Interview with the Vampire: The Vampire Chronicles (1994)'),\n",
       " (0.6278131, 'Toy Story 2 (1999)'),\n",
       " (0.74102187, \"Amelie (Fabuleux destin d'Am\\xc3\\xa9lie Poulain, Le) (2001)\"),\n",
       " (0.71395957, 'Sleepless in Seattle (1993)'),\n",
       " (0.8535344, 'L.A. Confidential (1997)'),\n",
       " (0.87270004, 'Trainspotting (1996)'),\n",
       " (0.57134598, \"There's Something About Mary (1998)\"),\n",
       " (0.66175002, '2001: A Space Odyssey (1968)'),\n",
       " (0.9682799, 'GoldenEye (1995)'),\n",
       " (0.78091002, 'Finding Nemo (2003)'),\n",
       " (0.71833926, 'Four Weddings and a Funeral (1994)'),\n",
       " (0.64894378, 'Clockwork Orange, A (1971)'),\n",
       " (0.71199816, 'Shakespeare in Love (1998)'),\n",
       " (0.98648423, 'Dark Knight, The (2008)'),\n",
       " (0.70540863, 'Big Lebowski, The (1998)'),\n",
       " (0.56056708, 'Clueless (1995)'),\n",
       " (0.76365274, 'Rain Man (1988)'),\n",
       " (0.8736915, 'Taxi Driver (1976)'),\n",
       " (0.77084738, 'Fifth Element, The (1997)'),\n",
       " (0.88283521, 'Casablanca (1942)'),\n",
       " (0.86242849, 'Breakfast Club, The (1985)'),\n",
       " (0.77190167, 'Wizard of Oz, The (1939)'),\n",
       " (1.0437007, 'Clear and Present Danger (1994)'),\n",
       " (0.6301766, 'Minority Report (2002)'),\n",
       " (0.69716978, 'Star Trek: Generations (1994)'),\n",
       " (0.80694598, 'Beautiful Mind, A (2001)'),\n",
       " (0.76848072, 'Crouching Tiger, Hidden Dragon (Wo hu cang long) (2000)'),\n",
       " (0.58090705, 'Waterworld (1995)'),\n",
       " (0.45870048, 'Armageddon (1998)'),\n",
       " (0.9040156, 'Stand by Me (1986)'),\n",
       " (0.43450287, 'Austin Powers: The Spy Who Shagged Me (1999)'),\n",
       " (0.69948041, 'Apocalypse Now (1979)'),\n",
       " (0.57887775, 'American Pie (1999)'),\n",
       " (0.59075916, 'Kill Bill: Vol. 1 (2003)'),\n",
       " (0.88320488, 'Inception (2010)'),\n",
       " (0.95009804, 'Firm, The (1993)'),\n",
       " (0.79939169, 'Outbreak (1995)'),\n",
       " (0.58600694, 'Clerks (1994)'),\n",
       " (0.62554127, 'Who Framed Roger Rabbit? (1988)'),\n",
       " (0.68590683, 'Jaws (1975)'),\n",
       " (0.71974468, 'Jumanji (1995)'),\n",
       " (0.68779284, 'Big (1988)'),\n",
       " (0.85149437, 'American History X (1998)'),\n",
       " (0.51480556, 'Austin Powers: International Man of Mystery (1997)'),\n",
       " (0.63498902, 'Natural Born Killers (1994)'),\n",
       " (0.87697124, 'Jerry Maguire (1996)'),\n",
       " (0.81816542, 'Office Space (1999)'),\n",
       " (0.44986066, 'Airplane! (1980)'),\n",
       " (0.84234637, 'Eternal Sunshine of the Spotless Mind (2004)'),\n",
       " (0.64905053, 'Cliffhanger (1993)'),\n",
       " (0.82997221,\n",
       "  'Dr. Strangelove or: How I Learned to Stop Worrying and Love the Bomb (1964)'),\n",
       " (0.6807664, 'Batman Begins (2005)'),\n",
       " (0.73848969,\n",
       "  \"Harry Potter and the Sorcerer's Stone (a.k.a. Harry Potter and the Philosopher's Stone) (2001)\"),\n",
       " (0.67331886, \"Bug's Life, A (1998)\"),\n",
       " (0.68097132, 'Full Metal Jacket (1987)'),\n",
       " (0.68082547, 'Total Recall (1990)'),\n",
       " (1.0281396, 'Heat (1995)'),\n",
       " (0.51221901, 'Beetlejuice (1988)'),\n",
       " (0.97075325, 'Dead Man Walking (1995)'),\n",
       " (0.88747609, 'Green Mile, The (1999)'),\n",
       " (0.53460741, 'Kill Bill: Vol. 2 (2004)'),\n",
       " (0.68420434, 'Net, The (1995)'),\n",
       " (0.72666401, 'While You Were Sleeping (1995)'),\n",
       " (0.88516492, 'Shining, The (1980)'),\n",
       " (0.84415704, 'Leaving Las Vegas (1995)'),\n",
       " (0.73340648, 'Bourne Identity, The (2002)'),\n",
       " (0.85956496, 'Amadeus (1984)'),\n",
       " (0.76015711, 'Almost Famous (2000)'),\n",
       " (0.58627105, 'Chicken Run (2000)'),\n",
       " (0.70431477, 'Back to the Future Part II (1989)'),\n",
       " (1.0755857, 'Catch Me If You Can (2002)'),\n",
       " (0.80541325, 'Life Is Beautiful (La Vita \\xc3\\xa8 bella) (1997)'),\n",
       " (0.58190066, 'As Good as It Gets (1997)'),\n",
       " (0.74162686, 'Indiana Jones and the Temple of Doom (1984)'),\n",
       " (0.83032066, 'Hunt for Red October, The (1990)'),\n",
       " (0.62605697, 'O Brother, Where Art Thou? (2000)'),\n",
       " (0.66211462, 'Cast Away (2000)'),\n",
       " (0.52324593, 'Demolition Man (1993)'),\n",
       " (0.72617668, 'Get Shorty (1995)'),\n",
       " (0.78183389, 'Snatch (2000)'),\n",
       " (0.64395654, 'Dead Poets Society (1989)'),\n",
       " (0.73661309, 'Blues Brothers, The (1980)'),\n",
       " (0.69732267, 'Happy Gilmore (1996)'),\n",
       " (0.73401129, 'Back to the Future Part III (1990)'),\n",
       " (0.83426279, 'Birdcage, The (1996)'),\n",
       " (0.74301314, 'Donnie Darko (2001)'),\n",
       " (0.67116076, 'Broken Arrow (1996)'),\n",
       " (1.0175848, 'Rear Window (1954)'),\n",
       " (0.67736995, 'Contact (1997)'),\n",
       " (0.44769418, 'Ace Ventura: When Nature Calls (1995)'),\n",
       " (0.55750418, \"Monty Python's Life of Brian (1979)\"),\n",
       " (0.84043169, 'Dave (1993)'),\n",
       " (0.52495247, 'Grease (1978)'),\n",
       " (0.57493573, 'Lethal Weapon (1987)'),\n",
       " (0.88870728, 'Quiz Show (1994)'),\n",
       " (0.7641201, 'Nightmare Before Christmas, The (1993)'),\n",
       " (0.70288652, 'Edward Scissorhands (1990)'),\n",
       " (0.71170568, 'Fish Called Wanda, A (1988)'),\n",
       " (0.77930367, 'Graduate, The (1967)'),\n",
       " (0.41804338, 'Meet the Parents (2000)'),\n",
       " (0.79053056, 'High Fidelity (2000)'),\n",
       " (0.83032554, 'Casino (1995)'),\n",
       " (0.83708328, \"What's Eating Gilbert Grape (1993)\"),\n",
       " (1.066524, \"Mr. Holland's Opus (1995)\"),\n",
       " (1.0054749, 'North by Northwest (1959)'),\n",
       " (0.6546765, 'When Harry Met Sally... (1989)'),\n",
       " (0.88270605, 'Sense and Sensibility (1995)'),\n",
       " (0.039294012, 'Blair Witch Project, The (1999)'),\n",
       " (0.76069587, 'Philadelphia (1993)'),\n",
       " (0.79492193, 'Citizen Kane (1941)'),\n",
       " (0.66232175, 'Erin Brockovich (2000)'),\n",
       " (0.65079892, 'Lost in Translation (2003)'),\n",
       " (0.81110376, 'Harry Potter and the Prisoner of Azkaban (2004)'),\n",
       " (0.61391681, 'Gattaca (1997)'),\n",
       " (1.0343634, 'Departed, The (2006)'),\n",
       " (0.55804938, 'Spider-Man 2 (2004)'),\n",
       " (0.52167135, 'Face/Off (1997)'),\n",
       " (0.9316709, 'Star Trek: First Contact (1996)'),\n",
       " (0.47618553, 'Matrix Reloaded, The (2003)'),\n",
       " (0.77744895, 'This Is Spinal Tap (1984)'),\n",
       " (0.45630091, 'Star Wars: Episode II - Attack of the Clones (2002)'),\n",
       " (0.95689851, 'American President, The (1995)'),\n",
       " (0.60325599, 'X2: X-Men United (2003)'),\n",
       " (0.67474431, 'Shrek 2 (2004)'),\n",
       " (0.5590263, 'Mission: Impossible II (2000)'),\n",
       " (0.72542012, 'Harry Potter and the Chamber of Secrets (2002)'),\n",
       " (0.75546479, 'Sin City (2005)'),\n",
       " (1.0573411, 'Crimson Tide (1995)'),\n",
       " (0.94720238, 'To Kill a Mockingbird (1962)'),\n",
       " (0.87117976, 'Run Lola Run (Lola rennt) (1998)'),\n",
       " (0.33637232, 'Mars Attacks! (1996)'),\n",
       " (0.68508673, 'Annie Hall (1977)'),\n",
       " (0.84798765, 'In the Line of Fire (1993)'),\n",
       " (0.76967531, 'Sound of Music, The (1965)'),\n",
       " (0.78890121, 'Election (1999)'),\n",
       " (0.44318151, 'Dogma (1999)'),\n",
       " (0.18319426, \"Charlie's Angels (2000)\"),\n",
       " (0.55729741, 'Mummy, The (1999)'),\n",
       " (0.71961927, 'Piano, The (1993)'),\n",
       " (0.69180197, 'Little Mermaid, The (1989)'),\n",
       " (0.75688183, 'Untouchables, The (1987)'),\n",
       " (0.74934417, 'Mary Poppins (1964)'),\n",
       " (0.71166795, 'Ed Wood (1994)'),\n",
       " (0.96122563, 'Psycho (1960)'),\n",
       " (0.624165, 'WALL\\xc2\\xb7E (2008)'),\n",
       " (0.89871567, 'Ransom (1996)'),\n",
       " (0.64567262, 'My Cousin Vinny (1992)'),\n",
       " (0.41344488, 'Honey, I Shrunk the Kids (1989)'),\n",
       " (0.79127085, 'Few Good Men, A (1992)'),\n",
       " (0.86950952, 'Game, The (1997)'),\n",
       " (0.76206595, 'Little Miss Sunshine (2006)'),\n",
       " (0.93139201, 'Chinatown (1974)'),\n",
       " (0.65091324, 'Wallace & Gromit: The Wrong Trousers (1993)'),\n",
       " (0.84312528, 'Butch Cassidy and the Sundance Kid (1969)'),\n",
       " (1.0768553, 'Iron Man (2008)'),\n",
       " (0.65025991, 'Superman (1978)'),\n",
       " (0.90154117, 'Christmas Story, A (1983)'),\n",
       " (0.54968309, 'South Park: Bigger, Longer and Uncut (1999)'),\n",
       " (0.43742847, 'Top Gun (1986)'),\n",
       " (0.92239964, 'Lock, Stock & Two Smoking Barrels (1998)'),\n",
       " (0.51391667, \"Wayne's World (1992)\"),\n",
       " (0.72526801, 'Young Frankenstein (1974)'),\n",
       " (0.71632886, 'Bourne Supremacy, The (2004)'),\n",
       " (0.98735678, '12 Angry Men (1957)'),\n",
       " (0.76423651, 'English Patient, The (1996)'),\n",
       " (0.54423338, 'Scream (1996)'),\n",
       " (0.6859076, 'Traffic (2000)'),\n",
       " (0.91256267, 'V for Vendetta (2006)'),\n",
       " (0.68280381, 'Addams Family Values (1993)'),\n",
       " (0.66931611, 'Legends of the Fall (1994)'),\n",
       " (0.51104635, 'Starship Troopers (1997)'),\n",
       " (0.62224525, 'Star Trek II: The Wrath of Khan (1982)'),\n",
       " (0.62273228, 'Phenomenon (1996)'),\n",
       " (0.81218284, \"It's a Wonderful Life (1946)\"),\n",
       " (0.84727907, 'Juno (2007)'),\n",
       " (0.50154734, 'Liar Liar (1997)'),\n",
       " (0.78160608, 'Maverick (1994)'),\n",
       " (0.65487319, 'Abyss, The (1989)'),\n",
       " (0.68017751, 'Snow White and the Seven Dwarfs (1937)'),\n",
       " (0.59901071, \"Bridget Jones's Diary (2001)\"),\n",
       " (0.5425477, 'Air Force One (1997)'),\n",
       " (0.69423485, 'Raising Arizona (1987)'),\n",
       " (0.46375594, 'Judge Dredd (1995)'),\n",
       " (0.51496619, 'Santa Clause, The (1994)'),\n",
       " (0.80289948, 'Client, The (1994)'),\n",
       " (0.96276611, 'Shaun of the Dead (2004)'),\n",
       " (0.86505586, 'True Romance (1993)'),\n",
       " (0.37649196, 'Wedding Singer, The (1998)'),\n",
       " (0.54716271, 'Rocky (1976)'),\n",
       " (0.71251482, 'Requiem for a Dream (2000)'),\n",
       " (1.0015045, 'City of God (Cidade de Deus) (2002)'),\n",
       " (1.0004623, 'Vertigo (1958)'),\n",
       " (0.74984503, 'Eraser (1996)'),\n",
       " (0.47876769, 'Royal Tenenbaums, The (2001)'),\n",
       " (0.81334025, 'Gone with the Wind (1939)'),\n",
       " (0.69310141, 'Rushmore (1998)'),\n",
       " (0.63281786, 'Nutty Professor, The (1996)'),\n",
       " (0.76356071, 'Platoon (1986)'),\n",
       " (0.63310558, 'Field of Dreams (1989)'),\n",
       " (0.70117009, 'Crow, The (1994)'),\n",
       " (0.82794052, 'Enemy of the State (1998)'),\n",
       " (0.52632993, 'Lost World: Jurassic Park, The (1997)'),\n",
       " (0.65814519, 'Avatar (2009)'),\n",
       " (0.6127041, 'Naked Gun 33 1/3: The Final Insult (1994)'),\n",
       " (0.63830334, 'Talented Mr. Ripley, The (1999)'),\n",
       " (0.5859614, 'Die Hard 2 (1990)'),\n",
       " (0.52740401, 'Sling Blade (1996)'),\n",
       " (0.75853193, 'Some Like It Hot (1959)'),\n",
       " (0.67812669, 'Pinocchio (1940)'),\n",
       " (0.66960722, 'Robin Hood: Men in Tights (1993)'),\n",
       " (0.72845584, 'Star Trek IV: The Voyage Home (1986)'),\n",
       " (0.77845633, 'Romancing the Stone (1984)'),\n",
       " (0.61728525, 'Galaxy Quest (1999)'),\n",
       " (0.4554275, 'Patriot, The (2000)'),\n",
       " (0.58170688, 'Chasing Amy (1997)'),\n",
       " (0.84226322, 'Bridge on the River Kwai, The (1957)'),\n",
       " (0.74922723, 'Million Dollar Baby (2004)'),\n",
       " (0.76839697, 'Grosse Pointe Blank (1997)'),\n",
       " (0.58994359, 'Batman Returns (1992)'),\n",
       " (0.47934321, 'Exorcist, The (1973)'),\n",
       " (0.69756579, 'Pleasantville (1998)'),\n",
       " (0.97558022, \"Singin' in the Rain (1952)\"),\n",
       " (0.64494234, 'Fantasia (1940)'),\n",
       " (0.795385, 'Full Monty, The (1997)'),\n",
       " (0.58394879, 'Notting Hill (1999)'),\n",
       " (0.49313629, \"City Slickers II: The Legend of Curly's Gold (1994)\"),\n",
       " (0.86312765, 'Spirited Away (Sen to Chihiro no kamikakushi) (2001)'),\n",
       " (0.75278962, 'Desperado (1995)'),\n",
       " (0.69062585, 'Eyes Wide Shut (1999)'),\n",
       " (0.43454471, 'Rocky Horror Picture Show, The (1975)'),\n",
       " (0.58213496, 'Ice Age (2002)'),\n",
       " (0.37010863, 'Congo (1995)'),\n",
       " (0.84215117, 'Sting, The (1973)'),\n",
       " (0.9747346, 'Close Encounters of the Third Kind (1977)'),\n",
       " (0.72493213, 'Brazil (1985)'),\n",
       " (0.75894707, 'Wallace & Gromit: A Close Shave (1995)'),\n",
       " (0.43913588, 'Dragonheart (1996)'),\n",
       " (1.1122452, 'Maltese Falcon, The (1941)'),\n",
       " (0.79148442, 'Star Wars: Episode III - Revenge of the Sith (2005)'),\n",
       " (0.91717988, 'Blazing Saddles (1974)'),\n",
       " (0.84498835, 'Like Water for Chocolate (Como agua para chocolate) (1992)'),\n",
       " (0.77478731, 'Boogie Nights (1997)'),\n",
       " (0.60331619, 'Arachnophobia (1990)'),\n",
       " (0.64204335, 'Unbreakable (2000)'),\n",
       " (0.85455132, 'Casino Royale (2006)'),\n",
       " (0.49255696, 'Pocahontas (1995)'),\n",
       " (0.89901167, 'Hoop Dreams (1994)'),\n",
       " (0.83409452, 'Truth About Cats & Dogs, The (1996)'),\n",
       " (1.0441022, 'Executive Decision (1996)'),\n",
       " (0.97579139, 'Pianist, The (2002)'),\n",
       " (0.83519685, 'Up (2009)'),\n",
       " (0.92344511, 'Heathers (1989)'),\n",
       " (0.87025899, 'Bourne Ultimatum, The (2007)'),\n",
       " (0.41948554, \"You've Got Mail (1998)\"),\n",
       " (0.51761645, 'Crocodile Dundee (1986)'),\n",
       " (0.64688838, 'Kingpin (1996)'),\n",
       " (0.63062555, 'French Kiss (1995)'),\n",
       " (0.63630307, \"The Devil's Advocate (1997)\"),\n",
       " (0.94337791, 'Much Ado About Nothing (1993)'),\n",
       " (0.76683909, 'Best in Show (2000)'),\n",
       " (0.89512259, 'Harry Potter and the Goblet of Fire (2005)'),\n",
       " (0.50505912, 'Con Air (1997)'),\n",
       " (0.52607805, 'Wag the Dog (1997)'),\n",
       " (0.82422185, 'Ratatouille (2007)'),\n",
       " (0.73706913, \"Pirates of the Caribbean: Dead Man's Chest (2006)\"),\n",
       " (0.74337292, 'Grumpier Old Men (1995)'),\n",
       " (1.0680605, 'Inglourious Basterds (2009)'),\n",
       " (0.43348527, 'Cable Guy, The (1996)'),\n",
       " (0.69160151, '300 (2007)'),\n",
       " (0.53811812, 'M*A*S*H (a.k.a. MASH) (1970)'),\n",
       " (0.70795137, 'Animal House (1978)'),\n",
       " (0.73829669, 'Hot Shots! Part Deux (1993)'),\n",
       " (0.46357852, 'Casper (1995)'),\n",
       " (0.79286426, 'Bowling for Columbine (2002)'),\n",
       " (0.64315307, 'RoboCop (1987)'),\n",
       " (0.626872, 'Blade (1998)'),\n",
       " (0.57619959, 'Glory (1989)'),\n",
       " (0.78477746, 'Spaceballs (1987)'),\n",
       " (0.65768403, 'Garden State (2004)'),\n",
       " (0.70364636, \"William Shakespeare's Romeo + Juliet (1996)\"),\n",
       " (0.53573155, 'Unforgiven (1992)'),\n",
       " (0.59364074, 'Magnolia (1999)'),\n",
       " (0.63276058, 'Lethal Weapon 2 (1989)'),\n",
       " (0.76037866, 'Jackie Brown (1997)'),\n",
       " (0.70162702, 'Tombstone (1993)'),\n",
       " (0.51613152, 'Planet of the Apes (1968)'),\n",
       " (0.73324156, '10 Things I Hate About You (1999)'),\n",
       " (0.44474438, 'Beverly Hills Cop III (1994)'),\n",
       " (0.71836388,\n",
       "  'Good, the Bad and the Ugly, The (Buono, il brutto, il cattivo, Il) (1966)'),\n",
       " (0.59218782, 'I, Robot (2004)'),\n",
       " (0.45997676, 'League of Their Own, A (1992)'),\n",
       " (0.40771309, 'Gone in 60 Seconds (2000)'),\n",
       " (0.50492924, 'Basic Instinct (1992)'),\n",
       " (0.89996338, 'Bonnie and Clyde (1967)'),\n",
       " (0.53571552, \"Muriel's Wedding (1994)\"),\n",
       " (0.65922016, 'Father of the Bride Part II (1995)'),\n",
       " (0.92386198, 'Witness (1985)'),\n",
       " (0.81580555, 'Italian Job, The (2003)'),\n",
       " (0.58084989, 'Mask of Zorro, The (1998)'),\n",
       " (0.56379765, 'Cinderella (1950)'),\n",
       " (0.7439698, 'Big Fish (2003)'),\n",
       " (0.69595182, 'Alien\\xc2\\xb3 (a.k.a. Alien 3) (1992)'),\n",
       " (0.75749743, 'Love Actually (2003)'),\n",
       " (0.58352685, 'Moulin Rouge (2001)'),\n",
       " (0.65125817, 'Species (1995)'),\n",
       " (0.30676383, 'A.I. Artificial Intelligence (2001)'),\n",
       " (0.35806495, 'Coneheads (1993)'),\n",
       " (1.0043331, 'Seven Samurai (Shichinin no samurai) (1954)'),\n",
       " (0.35427296, 'Matrix Revolutions, The (2003)'),\n",
       " (0.73414963, 'Manhattan (1979)'),\n",
       " (0.58219844, 'Caddyshack (1980)'),\n",
       " (0.6125415, 'Star Trek III: The Search for Spock (1984)'),\n",
       " (0.54420805, 'Signs (2002)'),\n",
       " (0.68888992, 'Dirty Dancing (1987)'),\n",
       " (0.93566072, 'District 9 (2009)'),\n",
       " (0.50651437, 'Perfect Storm, The (2000)'),\n",
       " (0.66489786, 'Sabrina (1995)'),\n",
       " (0.78093976, 'James and the Giant Peach (1996)'),\n",
       " (0.51780283, 'Last Action Hero (1993)'),\n",
       " (0.60729104, 'Predator (1987)'),\n",
       " (0.72998971, 'Goldfinger (1964)'),\n",
       " (0.49488363, 'Miss Congeniality (2000)'),\n",
       " (0.73873407, 'Good Morning, Vietnam (1987)'),\n",
       " (0.48188195, 'Antz (1998)'),\n",
       " (0.86383849, 'Slumdog Millionaire (2008)'),\n",
       " (0.63523734, \"Pan's Labyrinth (Laberinto del fauno, El) (2006)\"),\n",
       " (0.6599707, 'So I Married an Axe Murderer (1993)'),\n",
       " (0.85879862, 'Prestige, The (2006)'),\n",
       " (0.80331665, 'About a Boy (2002)'),\n",
       " (0.84912753, 'Army of Darkness (1993)'),\n",
       " (0.82598412, '28 Days Later (2002)'),\n",
       " (0.75119835, 'Fast Times at Ridgemont High (1982)'),\n",
       " (0.70250696, 'Sleepy Hollow (1999)'),\n",
       " (0.6710248, 'Tin Cup (1996)'),\n",
       " (0.58638871, \"My Best Friend's Wedding (1997)\"),\n",
       " (0.46526232, 'Splash (1984)'),\n",
       " (0.67200273, \"Dracula (Bram Stoker's Dracula) (1992)\"),\n",
       " (0.77023923, 'Disclosure (1994)'),\n",
       " (0.57197112, 'Analyze This (1999)'),\n",
       " (0.86832547, 'School of Rock (2003)'),\n",
       " (0.5551464, 'Dark City (1998)'),\n",
       " (0.52324122, 'My Big Fat Greek Wedding (2002)'),\n",
       " (0.39552382, 'American Psycho (2000)'),\n",
       " (0.70141584, 'Chicago (2002)'),\n",
       " (0.91417593, 'Shutter Island (2010)'),\n",
       " (0.80895239, 'Mighty Aphrodite (1995)'),\n",
       " (0.59394741, 'Bowfinger (1999)'),\n",
       " (0.87575531, 'Little Women (1994)'),\n",
       " (0.80438459, 'Lady and the Tramp (1955)'),\n",
       " (0.69010812, 'Star Trek (2009)'),\n",
       " (0.66157383, 'Goonies, The (1985)'),\n",
       " (0.85118455, 'Boot, Das (Boat, The) (1981)'),\n",
       " (0.77582717, 'Sneakers (1992)'),\n",
       " (0.66641033, 'My Fair Lady (1964)'),\n",
       " (0.69503242, 'Birds, The (1963)'),\n",
       " (0.72253144, 'Jerk, The (1979)'),\n",
       " (0.54405648, 'Cruel Intentions (1999)'),\n",
       " (0.72630024, 'Lawrence of Arabia (1962)'),\n",
       " (1.1401792, 'Beverly Hills Cop (1984)'),\n",
       " (0.67466444, '40-Year-Old Virgin, The (2005)'),\n",
       " (0.50145686, 'Bruce Almighty (2003)'),\n",
       " (0.88772798, 'Raging Bull (1980)'),\n",
       " (0.67077434, 'Go (1999)'),\n",
       " (0.69488484, 'Three Musketeers, The (1993)'),\n",
       " (0.69049054, 'Crying Game, The (1992)'),\n",
       " (0.31135887, 'Space Jam (1996)'),\n",
       " (1.0912145, 'Primal Fear (1996)'),\n",
       " (1.086651, 'African Queen, The (1951)'),\n",
       " (0.63575315, 'Tommy Boy (1995)'),\n",
       " (0.82195652, 'Fatal Attraction (1987)'),\n",
       " (0.63058215, 'That Thing You Do! (1996)'),\n",
       " (0.51599091, 'Tomorrow Never Dies (1997)'),\n",
       " (0.81259501, 'Scarface (1983)'),\n",
       " (0.56984872, 'Hunchback of Notre Dame, The (1996)'),\n",
       " (0.69357717,\n",
       "  'Chronicles of Narnia: The Lion, the Witch and the Wardrobe, The (2005)'),\n",
       " (0.54359293, 'Men in Black II (a.k.a. MIIB) (a.k.a. MIB 2) (2002)'),\n",
       " (1.0404601, 'Time to Kill, A (1996)'),\n",
       " (0.90749478, 'Black Hawk Down (2001)'),\n",
       " (0.83535314, 'Hudsucker Proxy, The (1994)'),\n",
       " (0.49762022, 'Alice in Wonderland (1951)'),\n",
       " (0.90170491, 'Great Escape, The (1963)'),\n",
       " (0.61469483, 'Highlander (1986)'),\n",
       " (0.48364985, 'Mr. & Mrs. Smith (2005)'),\n",
       " (0.68998194, 'Others, The (2001)'),\n",
       " (0.78712642, 'Manchurian Candidate, The (1962)'),\n",
       " (0.75228775, 'Rumble in the Bronx (Hont faan kui) (1995)'),\n",
       " (0.81505883, 'No Country for Old Men (2007)'),\n",
       " (0.59105116, 'Adventures of Priscilla, Queen of the Desert, The (1994)'),\n",
       " (0.56741935, 'Deer Hunter, The (1978)'),\n",
       " (0.56469727, 'Deep Impact (1998)'),\n",
       " (0.93135983, 'Patriot Games (1992)'),\n",
       " (0.67175037, 'Elizabeth (1998)'),\n",
       " (0.73966211, 'Escape from New York (1981)'),\n",
       " (0.33099568, 'Johnny Mnemonic (1995)'),\n",
       " (0.5346629, 'From Dusk Till Dawn (1996)'),\n",
       " (0.73889768, 'Rob Roy (1995)'),\n",
       " (0.62785447, 'Trading Places (1983)'),\n",
       " (0.51399821, 'The Butterfly Effect (2004)'),\n",
       " (0.66602397, 'Bridges of Madison County, The (1995)'),\n",
       " (0.74089444, 'Dark Knight Rises, The (2012)'),\n",
       " (0.55466086, 'Nine Months (1995)'),\n",
       " (0.84078461, 'Crash (2004)'),\n",
       " (0.50514531, 'Ring, The (2002)'),\n",
       " (0.49056333, 'Charlie and the Chocolate Factory (2005)'),\n",
       " (0.49144968, 'Star Trek VI: The Undiscovered Country (1991)'),\n",
       " (0.95390314, 'River Wild, The (1994)'),\n",
       " (0.55418611, 'Tron (1982)'),\n",
       " (0.4401896, 'Legally Blonde (2001)'),\n",
       " (0.62710178, 'Gremlins (1984)'),\n",
       " (0.0045636524, 'Wild Wild West (1999)'),\n",
       " (0.62019432, 'Say Anything... (1989)'),\n",
       " (0.59040362, 'Fly, The (1986)'),\n",
       " (0.04096796, 'Batman & Robin (1997)'),\n",
       " (0.61446458, 'X-Files: Fight the Future, The (1998)'),\n",
       " (0.56141889, 'Star Trek: The Motion Picture (1979)'),\n",
       " (0.54063523, 'Beavis and Butt-Head Do America (1996)'),\n",
       " (0.56661886, 'Zoolander (2001)'),\n",
       " (0.86465669, 'French Connection, The (1971)'),\n",
       " (0.51507592, 'Fahrenheit 9/11 (2004)'),\n",
       " (0.70644718, 'Three Kings (1999)'),\n",
       " (0.72763526, 'Ben-Hur (1959)'),\n",
       " (0.81130737, 'Sixteen Candles (1984)'),\n",
       " (1.0911298, 'Cinema Paradiso (Nuovo cinema Paradiso) (1989)'),\n",
       " (0.80431432, 'Cool Hand Luke (1967)'),\n",
       " (0.8356393, 'Jungle Book, The (1967)'),\n",
       " (0.95980519, 'Avengers, The (2012)'),\n",
       " (0.92548555, 'Mystic River (2003)'),\n",
       " (0.73676491, 'Remains of the Day, The (1993)'),\n",
       " (1.0679995, 'Gandhi (1982)'),\n",
       " (0.9300527, 'Searching for Bobby Fischer (1993)'),\n",
       " (0.46083346, \"Romy and Michele's High School Reunion (1997)\"),\n",
       " (0.73814499, 'Wallace & Gromit: The Best of Aardman Animation (1996)'),\n",
       " (0.50089407, 'Sideways (2004)'),\n",
       " (0.45872316, 'Alien: Resurrection (1997)'),\n",
       " (0.5594753, 'Austin Powers in Goldmember (2002)'),\n",
       " (0.72213578, 'Insider, The (1999)'),\n",
       " (0.35215273, 'Thelma & Louise (1991)'),\n",
       " (0.38398254, 'Runaway Bride (1999)'),\n",
       " (0.83724529, 'Last Samurai, The (2003)'),\n",
       " (0.78816432, '(500) Days of Summer (2009)'),\n",
       " (0.85986853, 'West Side Story (1961)'),\n",
       " (0.83404058, 'Misery (1990)'),\n",
       " (0.7335099, 'Postman, The (Postino, Il) (1994)'),\n",
       " (0.86020219, 'Chocolat (2000)'),\n",
       " (0.70315069, 'Little Shop of Horrors (1986)'),\n",
       " (0.36672887, 'Napoleon Dynamite (2004)'),\n",
       " (0.64745545, 'Super Size Me (2004)'),\n",
       " (0.95297974, 'Right Stuff, The (1983)'),\n",
       " (0.6159575, 'What Women Want (2000)'),\n",
       " (0.62302667, 'Nell (1994)'),\n",
       " (0.82930845, 'Hangover, The (2009)'),\n",
       " (0.58851701, \"Breakfast at Tiffany's (1961)\"),\n",
       " (0.46866614, 'Robin Hood: Prince of Thieves (1991)'),\n",
       " (0.42432508,\n",
       "  'Borat: Cultural Learnings of America for Make Benefit Glorious Nation of Kazakhstan (2006)'),\n",
       " (0.95700741, 'Django Unchained (2012)'),\n",
       " (0.81514359, 'Player, The (1992)'),\n",
       " (0.85679632, 'Bull Durham (1988)'),\n",
       " (0.58852565, 'Specialist, The (1994)'),\n",
       " (0.68789637, 'Fear and Loathing in Las Vegas (1998)'),\n",
       " (0.41018897, 'Planet of the Apes (2001)'),\n",
       " (0.73472774, 'Conspiracy Theory (1997)'),\n",
       " (0.86353654, 'Superbad (2007)'),\n",
       " (0.71169835, \"Boys Don't Cry (1999)\"),\n",
       " (0.61446357, 'Harold and Maude (1971)'),\n",
       " (0.61717695, 'Mallrats (1995)'),\n",
       " (0.67084622, 'Hook (1991)'),\n",
       " (0.31208786, 'Me, Myself & Irene (2000)'),\n",
       " (0.65057003, 'Strange Days (1995)'),\n",
       " (0.92279142, 'Billy Elliot (2000)'),\n",
       " (0.76025206, 'Bad Boys (1995)'),\n",
       " (0.48111367, 'Cocoon (1985)'),\n",
       " (0.53437454, 'Double Jeopardy (1999)'),\n",
       " (0.90790308, 'Social Network, The (2010)'),\n",
       " (0.61074615, 'Last of the Mohicans, The (1992)'),\n",
       " (0.63565099, 'First Knight (1995)'),\n",
       " (0.72844684, 'To Die For (1995)'),\n",
       " (0.63789344, 'Children of Men (2006)'),\n",
       " (0.51071012, 'Ghostbusters II (1989)'),\n",
       " (0.87142134, 'Rush Hour (1998)'),\n",
       " (0.75816405, 'Heavenly Creatures (1994)'),\n",
       " (0.42690408, 'Time Bandits (1981)'),\n",
       " (1.0317088, 'Interstellar (2014)'),\n",
       " (0.79861552, 'Toy Story 3 (2010)'),\n",
       " (0.77248138, 'JFK (1991)'),\n",
       " (1.0042475, 'Swingers (1996)'),\n",
       " (0.53737557, 'Adaptation (2002)'),\n",
       " (0.75001401, 'Risky Business (1983)'),\n",
       " (0.36898121, 'Billy Madison (1995)'),\n",
       " (0.51431537, 'Pearl Harbor (2001)'),\n",
       " (0.88224888, 'Pretty in Pink (1986)'),\n",
       " (0.80198389, 'Dangerous Minds (1995)'),\n",
       " (0.76594144, 'Chariots of Fire (1981)'),\n",
       " (0.65809661, 'Lethal Weapon 4 (1998)'),\n",
       " (0.49496716, 'I Am Legend (2007)'),\n",
       " (0.82370555, 'Dumbo (1941)'),\n",
       " (0.47539449, 'Willow (1988)'),\n",
       " (0.86277723, 'Wedding Crashers (2005)'),\n",
       " (0.57859647, 'Junior (1994)'),\n",
       " (0.81972367, 'Walk the Line (2005)'),\n",
       " (0.77527636, 'Iron Giant, The (1999)'),\n",
       " (0.67995006, 'Aristocats, The (1970)'),\n",
       " (0.77649462, 'Mulan (1998)'),\n",
       " (1.0628728, 'Roger & Me (1989)'),\n",
       " (0.86167377, 'Hot Fuzz (2007)'),\n",
       " (0.50909823, '101 Dalmatians (One Hundred and One Dalmatians) (1961)'),\n",
       " (0.56214982, 'Entrapment (1999)'),\n",
       " (0.5658139, 'I.Q. (1994)'),\n",
       " (0.77805734, 'Frequency (2000)'),\n",
       " (0.47799587, 'Brady Bunch Movie, The (1995)'),\n",
       " (0.98159689, 'Emma (1996)'),\n",
       " (0.67576581, 'Blue Velvet (1986)'),\n",
       " (0.60640454, 'Bend It Like Beckham (2002)'),\n",
       " (0.69213021, 'Fast and the Furious, The (2001)'),\n",
       " (1.0084162, \"King's Speech, The (2010)\"),\n",
       " (0.93597043, 'Sherlock Holmes (2009)'),\n",
       " (0.68672019, \"Bill & Ted's Excellent Adventure (1989)\"),\n",
       " (0.88860208, 'Rebel Without a Cause (1955)'),\n",
       " (1.0367411,\n",
       "  'City of Lost Children, The (Cit\\xc3\\xa9 des enfants perdus, La) (1995)'),\n",
       " (0.81191355, 'Bullets Over Broadway (1994)'),\n",
       " (0.77673352, 'Streetcar Named Desire, A (1951)'),\n",
       " (0.69945693, 'Grifters, The (1990)'),\n",
       " (0.68991596, 'Stripes (1981)'),\n",
       " (0.79993528, 'Patton (1970)'),\n",
       " (0.60670799, 'Fried Green Tomatoes (1991)'),\n",
       " (0.69710374, 'Driving Miss Daisy (1989)'),\n",
       " (0.94076437, 'Ronin (1998)'),\n",
       " (0.71090245, 'Pi (1998)'),\n",
       " (0.99626523, 'Thank You for Smoking (2006)'),\n",
       " (0.81485742, 'Serenity (2005)'),\n",
       " (0.82934934, 'Collateral (2004)'),\n",
       " (0.61077636, 'War of the Worlds (2005)'),\n",
       " (0.64929044, 'Stranger than Fiction (2006)'),\n",
       " (0.84325868, 'Femme Nikita, La (Nikita) (1990)'),\n",
       " (0.4660624, 'American Pie 2 (2001)'),\n",
       " (1.0034555, 'Remember the Titans (2000)'),\n",
       " (0.30019447, 'Striptease (1996)'),\n",
       " (1.0207937, 'Sunset Blvd. (a.k.a. Sunset Boulevard) (1950)'),\n",
       " (0.58602291, 'Lethal Weapon 3 (1992)'),\n",
       " (0.7155534, 'Thomas Crown Affair, The (1999)'),\n",
       " (1.1828659, 'Grand Day Out with Wallace and Gromit, A (1989)'),\n",
       " (0.93730545, 'Sleeper (1973)'),\n",
       " (0.46220407, 'Wild Things (1998)'),\n",
       " (0.68387711, 'L.A. Story (1991)'),\n",
       " (0.87891775, 'Midnight Cowboy (1969)'),\n",
       " (0.96337366, 'Donnie Brasco (1997)'),\n",
       " (0.86935198, 'Cape Fear (1991)'),\n",
       " (0.15598799, 'Flintstones, The (1994)'),\n",
       " (0.8526538, 'Madness of King George, The (1994)'),\n",
       " (0.62619197, 'Mulholland Drive (2001)'),\n",
       " (0.28603667, 'Cider House Rules, The (1999)'),\n",
       " (0.48363298, 'The Hunger Games (2012)'),\n",
       " (0.55616248, 'Road to Perdition (2002)'),\n",
       " (0.79361397, 'Network (1976)'),\n",
       " (0.88725442, 'Shallow Grave (1994)'),\n",
       " (0.77897924, 'American Werewolf in London, An (1981)'),\n",
       " (0.44876853, 'Superman II (1980)'),\n",
       " (0.72227186, 'Karate Kid, The (1984)'),\n",
       " (0.6286816, 'Peter Pan (1953)'),\n",
       " (1.2080832, 'Princess Mononoke (Mononoke-hime) (1997)'),\n",
       " (0.69287288, 'Poltergeist (1982)'),\n",
       " (0.96820688, 'Third Man, The (1949)'),\n",
       " (1.0198193, 'American Graffiti (1973)'),\n",
       " (0.55641884, 'Terminator 3: Rise of the Machines (2003)'),\n",
       " (1.1065547, 'All About Eve (1950)'),\n",
       " (0.57613027, 'NeverEnding Story, The (1984)'),\n",
       " (0.67234212, 'Shanghai Noon (2000)'),\n",
       " (0.99781013, 'Harry Potter and the Order of the Phoenix (2007)'),\n",
       " (0.67056227, 'Copycat (1995)'),\n",
       " (0.49385124, 'Mortal Kombat (1995)'),\n",
       " (0.93966925, 'In Bruges (2008)'),\n",
       " (0.79995173, 'Lives of Others, The (Das leben der Anderen) (2006)'),\n",
       " (0.624551, 'Sister Act (1992)'),\n",
       " (0.67723876, 'Dazed and Confused (1993)'),\n",
       " (0.58580965, 'Road Trip (2000)'),\n",
       " (0.94668669, 'Finding Neverland (2004)'),\n",
       " (0.54173797, 'Fisher King, The (1991)'),\n",
       " (0.87860072, 'Philadelphia Story, The (1940)'),\n",
       " (1.2344953, 'Blood Diamond (2006)'),\n",
       " (0.74324763, 'Dodgeball: A True Underdog Story (2004)'),\n",
       " (0.88477969, '20,000 Leagues Under the Sea (1954)'),\n",
       " (0.40426025, '101 Dalmatians (1996)'),\n",
       " (0.91040736, \"Monty Python's The Meaning of Life (1983)\"),\n",
       " (0.62315172, 'Training Day (2001)'),\n",
       " (0.73936349, 'Arsenic and Old Lace (1944)'),\n",
       " (0.65678382, 'Zombieland (2009)'),\n",
       " (0.91911405, 'Carrie (1976)'),\n",
       " (0.96381491, 'Shine (1996)'),\n",
       " (0.33582556, 'Scary Movie (2000)'),\n",
       " (0.7835387, 'Moonstruck (1987)'),\n",
       " (0.61617523, 'Blow (2001)'),\n",
       " (0.83366311, 'Enemy at the Gates (2001)'),\n",
       " (0.68158269, 'Simpsons Movie, The (2007)'),\n",
       " (0.89274275, 'Guardians of the Galaxy (2014)'),\n",
       " (0.32470673, 'Vanilla Sky (2001)'),\n",
       " (0.72108269, 'Terminal, The (2004)'),\n",
       " (0.75581437, 'Weird Science (1985)'),\n",
       " (0.85980177, 'Broadcast News (1987)'),\n",
       " (0.7275641, \"Rosemary's Baby (1968)\"),\n",
       " (0.72591531, 'Arlington Road (1999)'),\n",
       " (0.77670908, 'Big Chill, The (1983)'),\n",
       " (0.83902532, 'Craft, The (1996)'),\n",
       " (0.97038347, 'Rounders (1998)'),\n",
       " (0.47687656, 'Mystery Men (1999)'),\n",
       " (0.92939299, 'Rudy (1993)'),\n",
       " (0.79262155, 'Gods Must Be Crazy, The (1980)'),\n",
       " (0.70171893, 'Labyrinth (1986)'),\n",
       " (0.58190674, 'Ghost World (2001)'),\n",
       " (0.67255151, 'World Is Not Enough, The (1999)'),\n",
       " (0.6436519, 'Doors, The (1991)'),\n",
       " (0.6555934, 'Planes, Trains & Automobiles (1987)'),\n",
       " (0.9107576, 'Gran Torino (2008)'),\n",
       " (0.56181437, 'Thin Red Line, The (1998)'),\n",
       " (1.24532, 'Muppet Movie, The (1979)'),\n",
       " (0.70591599, 'Prince of Egypt, The (1998)'),\n",
       " (0.84355789, 'Lone Star (1996)'),\n",
       " (0.56990361, 'Lara Croft: Tomb Raider (2001)'),\n",
       " (0.43880579, 'Da Vinci Code, The (2006)'),\n",
       " (0.74180841, 'Wonder Boys (2000)'),\n",
       " (0.80452275, 'Addams Family, The (1991)'),\n",
       " (0.75198054, 'Don Juan DeMarco (1995)'),\n",
       " (0.81187087, 'Killing Fields, The (1984)'),\n",
       " (1.01188, 'October Sky (1999)'),\n",
       " (0.74938154, 'Natural, The (1984)'),\n",
       " (0.60800344, 'Godfather: Part III, The (1990)'),\n",
       " (0.3938348, 'Desperately Seeking Susan (1985)'),\n",
       " (0.66767764, 'Saint, The (1997)'),\n",
       " (1.0534097, 'Naked Gun: From the Files of Police Squad!, The (1988)'),\n",
       " (0.88100642, 'Mad Max (1979)'),\n",
       " (0.83592993, 'Equilibrium (2002)'),\n",
       " (0.84188324, 'National Treasure (2004)'),\n",
       " (0.3029089, 'Showgirls (1995)'),\n",
       " (0.64031225, 'Man on the Moon (1999)'),\n",
       " (0.73274696, 'Miracle on 34th Street (1994)'),\n",
       " (0.63701814, 'Never Been Kissed (1999)'),\n",
       " (0.71376622, 'Sleeping Beauty (1959)'),\n",
       " (0.79873323, 'Dirty Dozen, The (1967)'),\n",
       " (0.94766766, 'Grand Budapest Hotel, The (2014)'),\n",
       " (0.75156003, 'Gangs of New York (2002)'),\n",
       " (1.2500405, 'Harry Potter and the Deathly Hallows: Part 2 (2011)'),\n",
       " (0.56391186, 'Strictly Ballroom (1992)'),\n",
       " (0.47719869, 'Master and Commander: The Far Side of the World (2003)'),\n",
       " (0.59229958, \"Hitchhiker's Guide to the Galaxy, The (2005)\"),\n",
       " (0.4888092, 'Reality Bites (1994)'),\n",
       " (0.67027396, 'Anchorman: The Legend of Ron Burgundy (2004)'),\n",
       " (0.7091049, 'Terms of Endearment (1983)'),\n",
       " (0.74174327, 'Dangerous Liaisons (1988)'),\n",
       " (0.61359984, 'Bambi (1942)'),\n",
       " (0.41665635, \"Ocean's Twelve (2004)\"),\n",
       " (0.26280379, 'Deep Blue Sea (1999)'),\n",
       " (0.77989602, 'Aviator, The (2004)'),\n",
       " (0.67085624, 'About Schmidt (2002)'),\n",
       " (0.72388852, 'Akira (1988)'),\n",
       " (0.66727597, 'Black Swan (2010)'),\n",
       " (0.40603432, 'Multiplicity (1996)'),\n",
       " (0.68466043, 'Powder (1995)'),\n",
       " (0.93512005, 'Duck Soup (1933)'),\n",
       " (0.43268484, 'Cell, The (2000)'),\n",
       " (0.6363436, 'Forget Paris (1995)'),\n",
       " (0.92858636, 'Harry Potter and the Deathly Hallows: Part 1 (2010)'),\n",
       " (0.83842838, 'WarGames (1983)'),\n",
       " (0.86803508, 'Thing, The (1982)'),\n",
       " (0.62102133, 'Michael (1996)'),\n",
       " (0.63964587, 'Evil Dead II (Dead by Dawn) (1987)'),\n",
       " (1.0172305, 'Illusionist, The (2006)'),\n",
       " (0.79052299, 'Producers, The (1968)'),\n",
       " (1.1919383, 'How to Train Your Dragon (2010)'),\n",
       " (0.55390149, 'Saw (2004)'),\n",
       " (0.94612956,\n",
       "  'Englishman Who Went Up a Hill But Came Down a Mountain, The (1995)'),\n",
       " (0.6616956, 'Notebook, The (2004)'),\n",
       " (0.4592205, 'Heavy Metal (1981)'),\n",
       " (1.0655564, 'Mystery Science Theater 3000: The Movie (1996)'),\n",
       " (0.88402265, 'Sleepers (1996)'),\n",
       " (0.98538232, 'People vs. Larry Flynt, The (1996)'),\n",
       " (0.81599855, 'Hero (Ying xiong) (2002)'),\n",
       " (0.76861358, 'Negotiator, The (1998)'),\n",
       " (0.85523635, 'Crumb (1994)'),\n",
       " (0.62130284, 'Swordfish (2001)'),\n",
       " (0.37861735, 'Hannibal (2001)'),\n",
       " (0.94670701, 'Kung Fu Panda (2008)'),\n",
       " (0.61999351, \"Pirates of the Caribbean: At World's End (2007)\"),\n",
       " (0.65293211, 'Apartment, The (1960)'),\n",
       " (0.84570831, 'Big Sleep, The (1946)'),\n",
       " (1.0253251, 'Three Colors: Red (Trois couleurs: Rouge) (1994)'),\n",
       " (0.42595357, 'Mummy Returns, The (2001)'),\n",
       " (0.66986495, 'Kalifornia (1993)'),\n",
       " (0.8540957, \"Carlito's Way (1993)\"),\n",
       " (1.3279438, 'The Imitation Game (2014)'),\n",
       " (0.70916831, 'Troy (2004)'),\n",
       " (0.78230554, 'Hotel Rwanda (2004)'),\n",
       " (0.40388963, 'Scream 2 (1997)'),\n",
       " (0.70635188, \"Emperor's New Groove, The (2000)\"),\n",
       " (0.78226572, 'From Russia with Love (1963)'),\n",
       " (0.51453435, 'Indian in the Cupboard, The (1995)'),\n",
       " (0.77181351, 'Payback (1999)'),\n",
       " (0.56243622, 'Do the Right Thing (1989)'),\n",
       " (0.48445511, 'Rocketeer, The (1991)'),\n",
       " (0.52712208, 'Nightmare on Elm Street, A (1984)'),\n",
       " (0.84891033, 'Double Indemnity (1944)'),\n",
       " (0.9800157, 'Deliverance (1972)'),\n",
       " (0.70425773, 'Repo Man (1984)'),\n",
       " (0.50129539, 'Old School (2003)'),\n",
       " (0.66584694, 'Hercules (1997)'),\n",
       " (0.63401651, 'Backdraft (1991)'),\n",
       " (1.1628509, 'Modern Times (1936)'),\n",
       " (0.63578695, 'Old Boy (2003)'),\n",
       " (0.26253346, 'Bulworth (1998)'),\n",
       " (0.90347946, 'Last Emperor, The (1987)'),\n",
       " (0.79424131, 'Mad Max: Fury Road (2015)'),\n",
       " (0.95293289, 'Color Purple, The (1985)'),\n",
       " (0.82168996, 'Lord of War (2005)'),\n",
       " (0.76671922, 'Dr. No (1962)'),\n",
       " (0.61025077, 'Grumpy Old Men (1993)'),\n",
       " (0.71534389, 'Falling Down (1993)'),\n",
       " (0.70836592, 'Into the Wild (2007)'),\n",
       " (0.67590833, 'Nixon (1995)'),\n",
       " (0.75067317, 'Bob Roberts (1992)'),\n",
       " (0.57750827, 'Room with a View, A (1986)'),\n",
       " (0.55141908, 'Transformers (2007)'),\n",
       " (0.50139493, 'Free Willy (1993)'),\n",
       " (0.31783924, 'Home Alone 2: Lost in New York (1992)'),\n",
       " (0.57699913, 'Ordinary People (1980)'),\n",
       " (0.88602024, 'Kramer vs. Kramer (1979)'),\n",
       " (0.23756008, 'Jurassic Park III (2001)'),\n",
       " (0.68524992, 'Taken (2008)'),\n",
       " (1.1521488, 'In the Name of the Father (1993)'),\n",
       " (1.0304483, 'Three Colors: Blue (Trois couleurs: Bleu) (1993)'),\n",
       " (0.47697359, 'Jewel of the Nile, The (1985)'),\n",
       " (0.56108522, \"General's Daughter, The (1999)\"),\n",
       " (0.96174574, 'Courage Under Fire (1996)'),\n",
       " (0.63545632, 'Simple Plan, A (1998)'),\n",
       " (0.7102977, '\\xc2\\xa1Three Amigos! (1986)'),\n",
       " (0.71039832, 'Under Siege 2: Dark Territory (1995)'),\n",
       " (0.63434088, 'Secret Garden, The (1993)'),\n",
       " (0.5467869, 'Die Another Day (2002)'),\n",
       " (0.4774808, 'Jay and Silent Bob Strike Back (2001)'),\n",
       " (0.65367734, 'Grapes of Wrath, The (1940)'),\n",
       " (1.0789185, 'Mr. Smith Goes to Washington (1939)'),\n",
       " (0.37591285, 'Babe: Pig in the City (1998)'),\n",
       " (0.65498543, 'Scrooged (1988)'),\n",
       " (0.97541684, 'Delicatessen (1991)'),\n",
       " (0.61631429, 'Virgin Suicides, The (1999)'),\n",
       " (0.80045915, 'Burn After Reading (2008)'),\n",
       " (1.0601119, 'Curious Case of Benjamin Button, The (2008)'),\n",
       " (1.3298907, \"Amores Perros (Love's a Bitch) (2000)\"),\n",
       " (0.46873379, 'Flashdance (1983)'),\n",
       " (0.62487739, 'Kick-Ass (2010)'),\n",
       " (0.7798391, 'Bringing Up Baby (1938)'),\n",
       " (0.27447695, 'Hollow Man (2000)'),\n",
       " (0.51760745, '21 Grams (2003)'),\n",
       " (0.99376225, 'Waking Ned Devine (a.k.a. Waking Ned) (1998)'),\n",
       " (0.59315389, 'Mexican, The (2001)'),\n",
       " (0.96943212, 'Out of Africa (1985)'),\n",
       " (0.97774488, \"Hard Day's Night, A (1964)\"),\n",
       " (1.1333243, 'Scent of a Woman (1992)'),\n",
       " (0.83796066, 'Long Kiss Goodnight, The (1996)'),\n",
       " (0.28799683, 'Mission to Mars (2000)'),\n",
       " (0.46042812, 'Dune (1984)'),\n",
       " (0.69935817, 'Welcome to the Dollhouse (1995)'),\n",
       " (0.13298686, 'I Know What You Did Last Summer (1997)'),\n",
       " (0.55034983, 'Bone Collector, The (1999)'),\n",
       " (0.72420615, 'Jungle Book, The (1994)'),\n",
       " (1.0688578, 'Treasure of the Sierra Madre, The (1948)'),\n",
       " (0.7842527, \"National Lampoon's Vacation (1983)\"),\n",
       " (0.70854366, 'Panic Room (2002)'),\n",
       " (0.69544762, 'When a Man Loves a Woman (1994)'),\n",
       " (0.98336565, 'Midnight Run (1988)'),\n",
       " (0.70956248, 'Cool Runnings (1993)'),\n",
       " (0.59125334, '50 First Dates (2004)'),\n",
       " (1.059854, 'To Catch a Thief (1955)'),\n",
       " (0.57928306, 'Iron Man 2 (2010)'),\n",
       " (1.1252742, 'Harry Potter and the Half-Blood Prince (2009)'),\n",
       " (0.8083728, 'Kiss Kiss Bang Bang (2005)'),\n",
       " (0.45340031, 'How the Grinch Stole Christmas (a.k.a. The Grinch) (2000)'),\n",
       " (0.48605931, 'Brokeback Mountain (2005)'),\n",
       " (1.1283004, 'Wolf of Wall Street, The (2013)'),\n",
       " (0.68826824, 'Tootsie (1982)'),\n",
       " (0.66149491, 'Gravity (2013)'),\n",
       " (0.51219076, \"She's All That (1999)\"),\n",
       " (0.81631947, 'Waiting for Guffman (1996)'),\n",
       " (0.38529217, 'Village, The (2004)'),\n",
       " (0.67597103, 'Victor/Victoria (1982)'),\n",
       " (0.82941592, 'Road Warrior, The (Mad Max 2) (1981)'),\n",
       " (0.33845502, \"Pee-wee's Big Adventure (1985)\"),\n",
       " (0.44673103, 'U-571 (2000)'),\n",
       " (0.59014946, 'Life Aquatic with Steve Zissou, The (2004)'),\n",
       " (0.27062568, 'Bodyguard, The (1992)'),\n",
       " (0.61791086, 'Star Wars: Episode VII - The Force Awakens (2015)'),\n",
       " (0.80468315, 'Robin Hood (1973)'),\n",
       " (0.65755051, 'Big Daddy (1999)'),\n",
       " (0.35501751, 'Sex, Lies, and Videotape (1989)'),\n",
       " (1.2362423, 'On the Waterfront (1954)'),\n",
       " (0.92485553, 'Malcolm X (1992)'),\n",
       " (0.62859696, 'Sgt. Bilko (1996)'),\n",
       " (0.37063384, 'Gosford Park (2001)'),\n",
       " (0.58237171, \"White Men Can't Jump (1992)\"),\n",
       " (0.4821687, 'What About Bob? (1991)'),\n",
       " (0.66820925, 'Boiler Room (2000)'),\n",
       " (0.80946738, 'Out of Sight (1998)'),\n",
       " (0.81954944, 'Dog Day Afternoon (1975)'),\n",
       " (0.93649495, 'Being There (1979)'),\n",
       " (0.77369696, 'My Left Foot (1989)'),\n",
       " (0.21426572, 'Anaconda (1997)'),\n",
       " (0.70973164, 'Crimes and Misdemeanors (1989)'),\n",
       " (1.1916591, 'Moon (2009)'),\n",
       " (0.89192814, 'City Slickers (1991)'),\n",
       " (0.94372118, 'Benny & Joon (1993)'),\n",
       " (0.60516286, 'Final Destination (2000)'),\n",
       " (0.86303079, 'Whiplash (2014)'),\n",
       " (0.7804485, 'Dark Crystal, The (1982)'),\n",
       " (0.59255898, \"Logan's Run (1976)\"),\n",
       " (0.96017796, 'Inside Man (2006)'),\n",
       " (0.51969492, 'Return of the Pink Panther, The (1975)'),\n",
       " (0.62895477, 'On Golden Pond (1981)'),\n",
       " (0.88895285, 'Ever After: A Cinderella Story (1998)'),\n",
       " (0.48594823, 'Poseidon Adventure, The (1972)'),\n",
       " (0.77005112, 'Mean Girls (2004)'),\n",
       " (0.52349007, 'Patch Adams (1998)'),\n",
       " (0.78752345, 'River Runs Through It, A (1992)'),\n",
       " (0.89085633, 'Walk in the Clouds, A (1995)'),\n",
       " (0.73992729, 'Tarzan (1999)'),\n",
       " (0.68522829, 'Hellboy (2004)'),\n",
       " (0.39886719, 'Daredevil (2003)'),\n",
       " (0.87390608, 'Phone Booth (2002)'),\n",
       " (0.86008334, 'Wallace & Gromit in The Curse of the Were-Rabbit (2005)'),\n",
       " (0.73734295, 'Madagascar (2005)'),\n",
       " (0.74497259, 'Elephant Man, The (1980)'),\n",
       " (0.42740664, 'Escape from L.A. (1996)'),\n",
       " (0.68621415, 'Young Guns (1988)'),\n",
       " (0.9452166, 'X-Men: First Class (2011)'),\n",
       " (0.18195763, 'Godzilla (1998)'),\n",
       " (0.62368906, 'Fletch (1985)'),\n",
       " (0.52293301, \"Knight's Tale, A (2001)\"),\n",
       " (0.80040163, 'Bound (1996)'),\n",
       " (1.075894, 'Night of the Living Dead (1968)'),\n",
       " (0.96628803, 'Glengarry Glen Ross (1992)'),\n",
       " (0.62661928, \"Monster's Ball (2001)\"),\n",
       " (0.58293211, 'Down Periscope (1996)'),\n",
       " (0.53752494, 'Elf (2003)'),\n",
       " (0.33855796, 'Dr. Dolittle (1998)'),\n",
       " (0.99727774, 'Ghost in the Shell (K\\xc3\\xb4kaku kid\\xc3\\xb4tai) (1995)'),\n",
       " (0.86140174, 'Hoosiers (a.k.a. Best Shot) (1986)'),\n",
       " (1.0841318, 'Intouchables (2011)'),\n",
       " (0.63841027, \"Miller's Crossing (1990)\"),\n",
       " (0.51287419, 'Beach, The (2000)'),\n",
       " (0.36843932, 'Scream 3 (2000)'),\n",
       " (1.0004077, 'Charade (1963)'),\n",
       " (1.3241384, \"Howl's Moving Castle (Hauru no ugoku shiro) (2004)\"),\n",
       " (0.60568601, 'Stuart Little (1999)'),\n",
       " (0.13795498, 'Dick Tracy (1990)'),\n",
       " (0.67035282, 'Naked Gun 2 1/2: The Smell of Fear, The (1991)'),\n",
       " (0.32643765, \"Weekend at Bernie's (1989)\"),\n",
       " (0.41103846, 'Coyote Ugly (2000)'),\n",
       " (0.40577072, 'Karate Kid, Part II, The (1986)'),\n",
       " (0.87047964, 'Boyz N the Hood (1991)'),\n",
       " (0.34244564, 'G.I. Jane (1997)'),\n",
       " (0.49452984, 'Lawnmower Man, The (1992)'),\n",
       " (0.8592847, 'Muppet Treasure Island (1996)'),\n",
       " (0.63681394, 'Secret of NIMH, The (1982)'),\n",
       " (0.98716432, 'Serpico (1973)'),\n",
       " (0.8056497, 'Good Night, and Good Luck. (2005)'),\n",
       " (0.99991721, 'Red Dragon (2002)'),\n",
       " (0.4510107, 'Jaws 2 (1978)'),\n",
       " (0.69121075, \"Mary Shelley's Frankenstein (Frankenstein) (1994)\"),\n",
       " (0.8649261, 'Drugstore Cowboy (1989)'),\n",
       " (0.72744834, '25th Hour (2002)'),\n",
       " (0.65775186, 'Mulholland Falls (1996)'),\n",
       " (0.64287329, 'Whole Nine Yards, The (2000)'),\n",
       " (0.73078513, 'Secrets & Lies (1996)'),\n",
       " (0.7723996, 'Pitch Black (2000)'),\n",
       " (0.65120012, 'Rush Hour 2 (2001)'),\n",
       " (0.87698799, 'Finding Forrester (2000)'),\n",
       " (0.78743535, 'Watchmen (2009)'),\n",
       " (0.58702409, 'Up in the Air (2009)'),\n",
       " (1.2035761, 'Moonrise Kingdom (2012)'),\n",
       " (0.78785354, 'Devil in a Blue Dress (1995)'),\n",
       " (0.61861598, 'American Tail, An (1986)'),\n",
       " (0.96390676, 'Roman Holiday (1953)'),\n",
       " (0.97908539, 'Scott Pilgrim vs. the World (2010)'),\n",
       " (0.70931721, 'Halloween (1978)'),\n",
       " (0.80468243, 'Edge of Tomorrow (2014)'),\n",
       " (1.0113884, 'Ex Machina (2015)'),\n",
       " (1.3824285, 'My Neighbor Totoro (Tonari no Totoro) (1988)'),\n",
       " (0.8384971, 'Short Cuts (1993)'),\n",
       " (0.66234177, 'Hackers (1995)'),\n",
       " (0.81508905, 'Sword in the Stone, The (1963)'),\n",
       " (0.68864942, 'Motorcycle Diaries, The (Diarios de motocicleta) (2004)'),\n",
       " (0.26574063, 'Airheads (1994)'),\n",
       " (1.0922463, 'Hurt Locker, The (2008)'),\n",
       " (0.59139252, 'Waterboy, The (1998)'),\n",
       " (0.90038836, 'Sherlock Holmes: A Game of Shadows (2011)'),\n",
       " (0.75820303, 'Four Rooms (1995)'),\n",
       " (0.7157805, 'Brothers McMullen, The (1995)'),\n",
       " (0.58907545, 'First Wives Club, The (1996)'),\n",
       " (0.45538566, 'Juror, The (1996)'),\n",
       " (0.91052777, \"Sophie's Choice (1982)\"),\n",
       " (1.1436595, 'Ran (1985)'),\n",
       " (0.68233198, 'Spy Game (2001)'),\n",
       " (0.85367113, 'Dial M for Murder (1954)'),\n",
       " (0.70993984, 'Metropolis (1927)'),\n",
       " (0.68922526, 'Laura (1944)'),\n",
       " (0.6370756, 'Insomnia (2002)'),\n",
       " (0.15967968, 'Lost in Space (1998)'),\n",
       " (0.84184569, 'His Girl Friday (1940)'),\n",
       " (0.72473603, 'And Your Mother Too (Y tu mam\\xc3\\xa1 tambi\\xc3\\xa9n) (2001)'),\n",
       " (0.58821732, 'What Lies Beneath (2000)'),\n",
       " (0.78902376, 'Battle Royale (Batoru rowaiaru) (2000)'),\n",
       " (0.91662216, 'There Will Be Blood (2007)'),\n",
       " (0.67609698, 'Sliding Doors (1998)'),\n",
       " (0.43512136, 'Tank Girl (1995)'),\n",
       " (0.42966634, 'The Hunger Games: Catching Fire (2013)'),\n",
       " (0.29552791, 'Wedding Planner, The (2001)'),\n",
       " (0.24334726, 'Island of Dr. Moreau, The (1996)'),\n",
       " (0.68189073, 'Airplane II: The Sequel (1982)'),\n",
       " (0.77771437, 'Cars (2006)'),\n",
       " (0.75361955, 'Age of Innocence, The (1993)'),\n",
       " (0.9891746, 'Lucky Number Slevin (2006)'),\n",
       " ...]"
      ]
     },
     "execution_count": 159,
     "metadata": {},
     "output_type": "execute_result"
    }
   ],
   "source": [
    "movie_ratings"
   ]
  },
  {
   "cell_type": "markdown",
   "metadata": {
    "hidden": true
   },
   "source": [
    "Now we can look at the top and bottom rated movies. These ratings are corrected for different levels of reviewer sentiment, as well as different types of movies that different reviewers watch."
   ]
  },
  {
   "cell_type": "code",
   "execution_count": 163,
   "metadata": {
    "collapsed": false,
    "hidden": true,
    "scrolled": true
   },
   "outputs": [
    {
     "data": {
      "text/plain": [
       "[(-0.37478766, 'Battlefield Earth (2000)'),\n",
       " (-0.10411198, 'Super Mario Bros. (1993)'),\n",
       " (-0.066448316, 'Speed 2: Cruise Control (1997)'),\n",
       " (-0.065797366, 'Little Nicky (2000)'),\n",
       " (-0.058485139, 'Jaws 3-D (1983)'),\n",
       " (-0.049424347, 'Howard the Duck (1986)'),\n",
       " (-0.036924928, 'Spice World (1997)'),\n",
       " (0.0045636524, 'Wild Wild West (1999)'),\n",
       " (0.039294012, 'Blair Witch Project, The (1999)'),\n",
       " (0.04096796, 'Batman & Robin (1997)'),\n",
       " (0.044621624, 'Blame It on Rio (1984)'),\n",
       " (0.054174129, '2 Fast 2 Furious (Fast and the Furious 2, The) (2003)'),\n",
       " (0.055037107, 'Road to Wellville, The (1994)'),\n",
       " (0.055507634, 'Police Academy 5: Assignment: Miami Beach (1988)'),\n",
       " (0.067487717, 'Haunting, The (1999)')]"
      ]
     },
     "execution_count": 163,
     "metadata": {},
     "output_type": "execute_result"
    }
   ],
   "source": [
    "sorted(movie_ratings, key=itemgetter(0))[:15]"
   ]
  },
  {
   "cell_type": "code",
   "execution_count": 164,
   "metadata": {
    "collapsed": false,
    "hidden": true
   },
   "outputs": [
    {
     "data": {
      "text/plain": [
       "[(1.3824285, 'My Neighbor Totoro (Tonari no Totoro) (1988)'),\n",
       " (1.3551565, 'Blood Simple (1984)'),\n",
       " (1.3298907, \"Amores Perros (Love's a Bitch) (2000)\"),\n",
       " (1.3279438, 'The Imitation Game (2014)'),\n",
       " (1.3274617, 'Rush (2013)'),\n",
       " (1.3241384, \"Howl's Moving Castle (Hauru no ugoku shiro) (2004)\"),\n",
       " (1.2920574, 'Lost Boys, The (1987)'),\n",
       " (1.2817444, 'Argo (2012)'),\n",
       " (1.2730142, 'Smoke (1995)'),\n",
       " (1.2710277, 'Paris, Texas (1984)'),\n",
       " (1.267097, 'Cyrano de Bergerac (1990)'),\n",
       " (1.2656702, 'Shawshank Redemption, The (1994)'),\n",
       " (1.259523, 'The Revenant (2015)'),\n",
       " (1.25719, '12 Years a Slave (2013)'),\n",
       " (1.2520008, 'Fantastic Mr. Fox (2009)')]"
      ]
     },
     "execution_count": 164,
     "metadata": {},
     "output_type": "execute_result"
    }
   ],
   "source": [
    "sorted(movie_ratings, key=itemgetter(0), reverse=True)[:15]"
   ]
  },
  {
   "cell_type": "markdown",
   "metadata": {
    "hidden": true
   },
   "source": [
    "We can now do the same thing for the embeddings."
   ]
  },
  {
   "cell_type": "code",
   "execution_count": 165,
   "metadata": {
    "collapsed": false,
    "hidden": true
   },
   "outputs": [
    {
     "data": {
      "text/plain": [
       "(2000, 50)"
      ]
     },
     "execution_count": 165,
     "metadata": {},
     "output_type": "execute_result"
    }
   ],
   "source": [
    "get_movie_emb = Model(movie_in, m)\n",
    "movie_emb = np.squeeze(get_movie_emb.predict([topMovies]))\n",
    "movie_emb.shape"
   ]
  },
  {
   "cell_type": "markdown",
   "metadata": {
    "hidden": true
   },
   "source": [
    "Because it's hard to interpret 50 embeddings, we use [PCA](https://plot.ly/ipython-notebooks/principal-component-analysis/) to simplify them down to just 3 vectors. "
   ]
  },
  {
   "cell_type": "code",
   "execution_count": 166,
   "metadata": {
    "collapsed": true,
    "hidden": true
   },
   "outputs": [],
   "source": [
    "from sklearn.decomposition import PCA\n",
    "pca = PCA(n_components=3)\n",
    "movie_pca = pca.fit(movie_emb.T).components_"
   ]
  },
  {
   "cell_type": "code",
   "execution_count": 167,
   "metadata": {
    "collapsed": true,
    "hidden": true
   },
   "outputs": [],
   "source": [
    "fac0 = movie_pca[0]"
   ]
  },
  {
   "cell_type": "code",
   "execution_count": 168,
   "metadata": {
    "collapsed": true,
    "hidden": true
   },
   "outputs": [],
   "source": [
    "movie_comp = [(f, movie_names[movies[i]]) for f,i in zip(fac0, topMovies)]"
   ]
  },
  {
   "cell_type": "markdown",
   "metadata": {
    "hidden": true
   },
   "source": [
    "Here's the 1st component. It seems to be 'critically acclaimed' or 'classic'."
   ]
  },
  {
   "cell_type": "code",
   "execution_count": 169,
   "metadata": {
    "collapsed": false,
    "hidden": true
   },
   "outputs": [
    {
     "data": {
      "text/plain": [
       "[(0.014141028, 'Anaconda (1997)'),\n",
       " (0.010433861, 'Police Academy 3: Back in Training (1986)'),\n",
       " (0.0095849233, 'Battlefield Earth (2000)'),\n",
       " (0.0094338469, 'Nutty Professor, The (1963)'),\n",
       " (0.0094212759, \"You Don't Mess with the Zohan (2008)\"),\n",
       " (0.0090563763, 'Police Academy 5: Assignment: Miami Beach (1988)'),\n",
       " (0.0086027542, 'House on Haunted Hill (1999)'),\n",
       " (0.0076665804, 'Nutty Professor II: The Klumps (2000)'),\n",
       " (0.0075648949, 'Jaws 3-D (1983)'),\n",
       " (0.0074923523, 'Godzilla (1998)')]"
      ]
     },
     "execution_count": 169,
     "metadata": {},
     "output_type": "execute_result"
    }
   ],
   "source": [
    "sorted(movie_comp, key=itemgetter(0), reverse=True)[:10]"
   ]
  },
  {
   "cell_type": "code",
   "execution_count": 170,
   "metadata": {
    "collapsed": false,
    "hidden": true
   },
   "outputs": [
    {
     "data": {
      "text/plain": [
       "[(-0.051305655, \"Amelie (Fabuleux destin d'Am\\xc3\\xa9lie Poulain, Le) (2001)\"),\n",
       " (-0.051024184, 'Seven (a.k.a. Se7en) (1995)'),\n",
       " (-0.050830629, 'American Beauty (1999)'),\n",
       " (-0.050224684, 'Usual Suspects, The (1995)'),\n",
       " (-0.049661141, 'Monty Python and the Holy Grail (1975)'),\n",
       " (-0.049305908, 'Princess Bride, The (1987)'),\n",
       " (-0.049162596, 'Godfather, The (1972)'),\n",
       " (-0.0489669, 'Wallace & Gromit: The Wrong Trousers (1993)'),\n",
       " (-0.048707403, 'Shawshank Redemption, The (1994)'),\n",
       " (-0.048689201, 'Lord of the Rings: The Return of the King, The (2003)')]"
      ]
     },
     "execution_count": 170,
     "metadata": {},
     "output_type": "execute_result"
    }
   ],
   "source": [
    "sorted(movie_comp, key=itemgetter(0))[:10]"
   ]
  },
  {
   "cell_type": "code",
   "execution_count": 171,
   "metadata": {
    "collapsed": true,
    "hidden": true
   },
   "outputs": [],
   "source": [
    "fac1 = movie_pca[1]"
   ]
  },
  {
   "cell_type": "code",
   "execution_count": 172,
   "metadata": {
    "collapsed": true,
    "hidden": true
   },
   "outputs": [],
   "source": [
    "movie_comp = [(f, movie_names[movies[i]]) for f,i in zip(fac1, topMovies)]"
   ]
  },
  {
   "cell_type": "markdown",
   "metadata": {
    "hidden": true
   },
   "source": [
    "The 2nd is 'hollywood blockbuster'."
   ]
  },
  {
   "cell_type": "code",
   "execution_count": 173,
   "metadata": {
    "collapsed": false,
    "hidden": true
   },
   "outputs": [
    {
     "data": {
      "text/plain": [
       "[(0.093119524, 'Armageddon (1998)'),\n",
       " (0.091111213, 'Independence Day (a.k.a. ID4) (1996)'),\n",
       " (0.082392521, 'Stargate (1994)'),\n",
       " (0.076275177, 'Mission: Impossible II (2000)'),\n",
       " (0.074795827, 'Star Trek: Generations (1994)'),\n",
       " (0.069676891, 'Twister (1996)'),\n",
       " (0.06712129, 'Jurassic Park (1993)'),\n",
       " (0.066640645, 'Speed (1994)'),\n",
       " (0.066423342, 'Firm, The (1993)'),\n",
       " (0.066321053, 'Star Trek: First Contact (1996)')]"
      ]
     },
     "execution_count": 173,
     "metadata": {},
     "output_type": "execute_result"
    }
   ],
   "source": [
    "sorted(movie_comp, key=itemgetter(0), reverse=True)[:10]"
   ]
  },
  {
   "cell_type": "code",
   "execution_count": 174,
   "metadata": {
    "collapsed": false,
    "hidden": true,
    "scrolled": true
   },
   "outputs": [
    {
     "data": {
      "text/plain": [
       "[(-0.065730378, 'City Lights (1931)'),\n",
       " (-0.058720507, 'Annie Hall (1977)'),\n",
       " (-0.058592141, 'Brokeback Mountain (2005)'),\n",
       " (-0.058355995, '8 1/2 (8\\xc2\\xbd) (1963)'),\n",
       " (-0.058123, 'Harold and Maude (1971)'),\n",
       " (-0.056050625, 'Apocalypse Now (1979)'),\n",
       " (-0.053744331, 'Clockwork Orange, A (1971)'),\n",
       " (-0.051411927, 'Blue Velvet (1986)'),\n",
       " (-0.049112514, 'Wild Bunch, The (1969)'),\n",
       " (-0.048605502, 'Nashville (1975)')]"
      ]
     },
     "execution_count": 174,
     "metadata": {},
     "output_type": "execute_result"
    }
   ],
   "source": [
    "sorted(movie_comp, key=itemgetter(0))[:10]"
   ]
  },
  {
   "cell_type": "code",
   "execution_count": 175,
   "metadata": {
    "collapsed": true,
    "hidden": true
   },
   "outputs": [],
   "source": [
    "fac2 = movie_pca[2]"
   ]
  },
  {
   "cell_type": "code",
   "execution_count": 176,
   "metadata": {
    "collapsed": true,
    "hidden": true
   },
   "outputs": [],
   "source": [
    "movie_comp = [(f, movie_names[movies[i]]) for f,i in zip(fac2, topMovies)]"
   ]
  },
  {
   "cell_type": "markdown",
   "metadata": {
    "hidden": true
   },
   "source": [
    "The 3rd is 'violent vs happy'."
   ]
  },
  {
   "cell_type": "code",
   "execution_count": 177,
   "metadata": {
    "collapsed": false,
    "hidden": true
   },
   "outputs": [
    {
     "data": {
      "text/plain": [
       "[(0.11947206, 'Silence of the Lambs, The (1991)'),\n",
       " (0.095781557, 'Dances with Wolves (1990)'),\n",
       " (0.095083915, 'Dumb & Dumber (Dumb and Dumber) (1994)'),\n",
       " (0.092294626, 'Braveheart (1995)'),\n",
       " (0.090505496, 'Seven (a.k.a. Se7en) (1995)'),\n",
       " (0.087309025, 'Eyes Wide Shut (1999)'),\n",
       " (0.08642593, 'Fargo (1996)'),\n",
       " (0.083734222, 'Jurassic Park (1993)'),\n",
       " (0.08189372, \"Schindler's List (1993)\"),\n",
       " (0.08123219, 'Terminator 2: Judgment Day (1991)')]"
      ]
     },
     "execution_count": 177,
     "metadata": {},
     "output_type": "execute_result"
    }
   ],
   "source": [
    "sorted(movie_comp, key=itemgetter(0), reverse=True)[:10]"
   ]
  },
  {
   "cell_type": "code",
   "execution_count": 178,
   "metadata": {
    "collapsed": false,
    "hidden": true
   },
   "outputs": [
    {
     "data": {
      "text/plain": [
       "[(-0.078827396, 'Sabrina (1995)'),\n",
       " (-0.071558759, \"Charlie's Angels (2000)\"),\n",
       " (-0.064976737, 'Lilo & Stitch (2002)'),\n",
       " (-0.064164847, 'Legally Blonde (2001)'),\n",
       " (-0.060916901, \"Pirates of the Caribbean: Dead Man's Chest (2006)\"),\n",
       " (-0.060002625, 'Double Jeopardy (1999)'),\n",
       " (-0.057333596, 'Bend It Like Beckham (2002)'),\n",
       " (-0.056572743, 'Time Bandits (1981)'),\n",
       " (-0.054081734, 'Miss Congeniality (2000)'),\n",
       " (-0.053368367, 'Frozen (2013)')]"
      ]
     },
     "execution_count": 178,
     "metadata": {},
     "output_type": "execute_result"
    }
   ],
   "source": [
    "sorted(movie_comp, key=itemgetter(0))[:10]"
   ]
  },
  {
   "cell_type": "markdown",
   "metadata": {
    "hidden": true
   },
   "source": [
    "We can draw a picture to see how various movies appear on the map of these components. This picture shows the 1st and 3rd components."
   ]
  },
  {
   "cell_type": "code",
   "execution_count": 179,
   "metadata": {
    "collapsed": true,
    "hidden": true
   },
   "outputs": [],
   "source": [
    "reload(sys)\n",
    "sys.setdefaultencoding('utf8')"
   ]
  },
  {
   "cell_type": "code",
   "execution_count": 180,
   "metadata": {
    "collapsed": false,
    "hidden": true
   },
   "outputs": [
    {
     "data": {
      "image/png": "[encoded data removed]",
      "text/plain": [
       "<matplotlib.figure.Figure at 0x1283f3110>"
      ]
     },
     "metadata": {},
     "output_type": "display_data"
    }
   ],
   "source": [
    "start=50; end=100\n",
    "X = fac0[start:end]\n",
    "Y = fac2[start:end]\n",
    "plt.figure(figsize=(15,15))\n",
    "plt.scatter(X, Y)\n",
    "for i, x, y in zip(topMovies[start:end], X, Y):\n",
    "    plt.text(x,y,movie_names[movies[i]], color=np.random.rand(3)*0.7, fontsize=14)\n",
    "plt.show()"
   ]
  },
  {
   "cell_type": "markdown",
   "metadata": {},
   "source": [
    "##  Neural net"
   ]
  },
  {
   "cell_type": "markdown",
   "metadata": {},
   "source": [
    "Rather than creating a special purpose architecture (like our dot-product with bias earlier), it's often both easier and more accurate to use a standard neural network. Let's try it! Here, we simply concatenate the user and movie embeddings into a single vector, which we feed into the neural net."
   ]
  },
  {
   "cell_type": "code",
   "execution_count": 181,
   "metadata": {
    "collapsed": true
   },
   "outputs": [],
   "source": [
    "user_in, u = embedding_input('user_in', n_users, n_factors, 1e-4)\n",
    "movie_in, m = embedding_input('movie_in', n_movies, n_factors, 1e-4)"
   ]
  },
  {
   "cell_type": "code",
   "execution_count": 182,
   "metadata": {
    "collapsed": false
   },
   "outputs": [],
   "source": [
    "x = merge([u, m], mode='concat')\n",
    "x = Flatten()(x)\n",
    "x = Dropout(0.3)(x)\n",
    "x = Dense(70, activation='relu')(x)\n",
    "x = Dropout(0.75)(x)\n",
    "x = Dense(1)(x)\n",
    "nn = Model([user_in, movie_in], x)\n",
    "nn.compile(Adam(0.001), loss='mse')"
   ]
  },
  {
   "cell_type": "code",
   "execution_count": null,
   "metadata": {
    "collapsed": false
   },
   "outputs": [],
   "source": [
    "nn.fit([trn.userId, trn.movieId], trn.rating, batch_size=64, nb_epoch=8, \n",
    "          validation_data=([val.userId, val.movieId], val.rating))"
   ]
  },
  {
   "cell_type": "markdown",
   "metadata": {},
   "source": [
    "This improves on our already impressive accuracy even further!"
   ]
  }
 ],
 "metadata": {
  "anaconda-cloud": {},
  "kernelspec": {
   "display_name": "Python [conda root]",
   "language": "python",
   "name": "conda-root-py"
  },
  "language_info": {
   "codemirror_mode": {
    "name": "ipython",
    "version": 2
   },
   "file_extension": ".py",
   "mimetype": "text/x-python",
   "name": "python",
   "nbconvert_exporter": "python",
   "pygments_lexer": "ipython2",
   "version": "2.7.12"
  }
 },
 "nbformat": 4,
 "nbformat_minor": 0
}
